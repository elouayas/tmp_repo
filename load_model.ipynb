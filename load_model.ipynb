{
 "cells": [
  {
   "cell_type": "markdown",
   "metadata": {},
   "source": [
    "# Load the model\n",
    "\n",
    "2 version of the model are provided, the small and the base. The difference being the depth (4 or 22),\n",
    "\n",
    "Change the path of the model (checkpoint_path in args), as well as the token_path if required\n"
   ]
  },
  {
   "cell_type": "code",
   "execution_count": null,
   "metadata": {},
   "outputs": [],
   "source": [
    "\n",
    "class Args:\n",
    "    def __init__(self):\n",
    "        self.token_avg = True\n",
    "        self.token_path = '/Brain/private/y17eloua/tmp_reve/reve_weights/reve_base_query_token.pth' # CHANGE HERE\n",
    "        self.last_pooling = True\n",
    "        self.classic_pooling = False\n",
    "        self.mixup_ft = True\n",
    "        self.mixup_lp = True\n",
    "        self.n_epochs_ft = 200\n",
    "        self.n_epochs_lp = 20\n",
    "        self.warmup_epochs_ft = 3\n",
    "        self.warmup_epochs_lp = 2\n",
    "        self.weight_decay = 1e-4\n",
    "        self.lr_lp = 5e-3 \n",
    "        self.lr_ft = 5e-4 \n",
    "        self.patience_ft = 3\n",
    "        self.patience_lp = 3\n",
    "        self.dropout_ft = 0.3\n",
    "        self.device = \"cuda:0\"\n",
    "        self.patch_size = 200\n",
    "        self.overlap_size = 20\n",
    "        self.noise_ratio = 0.000125\n",
    "        self.embed_dim = 512\n",
    "        self.depth = 22 # 4 CHANGE HERE\n",
    "        self.heads = 8\n",
    "        self.mlp_dim_ratio = 2.66\n",
    "        self.dim_head = 64\n",
    "        self.geglu = True\n",
    "        self.use_flash = True\n",
    "        self.masking_ratio = 0.55\n",
    "        self.decoder_dim = 512\n",
    "        self.decoder_depth = 1\n",
    "        self.decoder_heads = 8\n",
    "        self.load_model = True\n",
    "        self.checkpoint_path = '/Brain/private/y17eloua/tmp_reve/reve_weights/reve_base_weights.pth' # CHANGE HERE\n",
    "        \n",
    "args = Args()\n",
    " "
   ]
  },
  {
   "cell_type": "markdown",
   "metadata": {},
   "source": [
    "## Load the Encoder"
   ]
  },
  {
   "cell_type": "code",
   "execution_count": 4,
   "metadata": {},
   "outputs": [
    {
     "data": {
      "text/plain": [
       "<All keys matched successfully>"
      ]
     },
     "execution_count": 4,
     "metadata": {},
     "output_type": "execute_result"
    }
   ],
   "source": [
    "from models.reve import ReveEncoder\n",
    "import torch\n",
    "\n",
    "\n",
    "encoder = ReveEncoder(\n",
    "        patch_size=args.patch_size,\n",
    "        overlap_size=args.overlap_size,\n",
    "        noise_ratio=args.noise_ratio,\n",
    "        embed_dim=args.embed_dim,\n",
    "        depth=args.depth,\n",
    "        heads=args.heads,\n",
    "        mlp_dim_ratio=args.mlp_dim_ratio,\n",
    "        dim_head=args.dim_head,\n",
    "        use_flash=args.use_flash,\n",
    "        geglu=args.geglu,\n",
    "    )\n",
    "\n",
    "checkpoint = torch.load(args.checkpoint_path, weights_only=False)\n",
    "encoder.load_state_dict(checkpoint)"
   ]
  },
  {
   "cell_type": "markdown",
   "metadata": {},
   "source": [
    "## Load the Classifier"
   ]
  },
  {
   "cell_type": "code",
   "execution_count": 11,
   "metadata": {},
   "outputs": [
    {
     "name": "stdout",
     "output_type": "stream",
     "text": [
      "model loaded\n"
     ]
    }
   ],
   "source": [
    "from utils.finetuning_core import instanciate_model\n",
    "\n",
    "model = instanciate_model(args,n_classes=2)"
   ]
  }
 ],
 "metadata": {
  "kernelspec": {
   "display_name": "env_fsreve",
   "language": "python",
   "name": "python3"
  },
  "language_info": {
   "codemirror_mode": {
    "name": "ipython",
    "version": 3
   },
   "file_extension": ".py",
   "mimetype": "text/x-python",
   "name": "python",
   "nbconvert_exporter": "python",
   "pygments_lexer": "ipython3",
   "version": "3.12.3"
  }
 },
 "nbformat": 4,
 "nbformat_minor": 2
}
