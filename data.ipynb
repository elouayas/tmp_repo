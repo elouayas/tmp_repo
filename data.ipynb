{
 "cells": [
  {
   "cell_type": "markdown",
   "metadata": {},
   "source": [
    "# Data downloading and preprocessing\n",
    "\n",
    "Let's download an example dataset from MOABB and preprocess it"
   ]
  },
  {
   "cell_type": "code",
   "execution_count": 4,
   "metadata": {},
   "outputs": [],
   "source": [
    "# Specify the path to the folder containing the data\n",
    "path = None # ex: '/Brain/private/y17eloua/tmp_reve'"
   ]
  },
  {
   "cell_type": "code",
   "execution_count": null,
   "metadata": {},
   "outputs": [
    {
     "name": "stdout",
     "output_type": "stream",
     "text": [
      "PhysionetMI 2 3\n",
      "Used Annotations descriptions: ['left_hand', 'rest', 'right_hand']\n",
      "Used Annotations descriptions: ['left_hand', 'rest', 'right_hand']\n",
      "Used Annotations descriptions: ['left_hand', 'rest', 'right_hand']\n",
      "Used Annotations descriptions: ['feet', 'hands', 'rest']\n",
      "Used Annotations descriptions: ['feet', 'hands', 'rest']\n",
      "Used Annotations descriptions: ['feet', 'hands', 'rest']\n"
     ]
    },
    {
     "name": "stderr",
     "output_type": "stream",
     "text": [
      "/Brain/private/y17eloua/env_fsreve/lib/python3.12/site-packages/moabb/datasets/preprocessing.py:278: UserWarning: warnEpochs <Epochs | 15 events (all good), 0.5 – 3.5 s (baseline off), ~3.6 MiB, data loaded,\n",
      " 'left_hand': 8\n",
      " 'right_hand': 7>\n",
      "  warn(f\"warnEpochs {epochs}\")\n",
      "/Brain/private/y17eloua/env_fsreve/lib/python3.12/site-packages/moabb/datasets/preprocessing.py:278: UserWarning: warnEpochs <Epochs | 15 events (all good), 0.5 – 3.5 s (baseline off), ~3.6 MiB, data loaded,\n",
      " 'left_hand': 8\n",
      " 'right_hand': 7>\n",
      "  warn(f\"warnEpochs {epochs}\")\n",
      "/Brain/private/y17eloua/env_fsreve/lib/python3.12/site-packages/moabb/datasets/preprocessing.py:278: UserWarning: warnEpochs <Epochs | 15 events (all good), 0.5 – 3.5 s (baseline off), ~3.6 MiB, data loaded,\n",
      " 'left_hand': 7\n",
      " 'right_hand': 8>\n",
      "  warn(f\"warnEpochs {epochs}\")\n"
     ]
    },
    {
     "name": "stdout",
     "output_type": "stream",
     "text": [
      "Used Annotations descriptions: ['left_hand', 'rest', 'right_hand']\n",
      "Used Annotations descriptions: ['left_hand', 'rest', 'right_hand']\n",
      "Used Annotations descriptions: ['left_hand', 'rest', 'right_hand']\n",
      "Used Annotations descriptions: ['feet', 'hands', 'rest']\n",
      "Used Annotations descriptions: ['feet', 'hands', 'rest']\n",
      "Used Annotations descriptions: ['feet', 'hands', 'rest']\n"
     ]
    },
    {
     "name": "stderr",
     "output_type": "stream",
     "text": [
      "/Brain/private/y17eloua/env_fsreve/lib/python3.12/site-packages/moabb/datasets/preprocessing.py:278: UserWarning: warnEpochs <Epochs | 15 events (all good), 0.5 – 3.5 s (baseline off), ~3.6 MiB, data loaded,\n",
      " 'left_hand': 7\n",
      " 'right_hand': 8>\n",
      "  warn(f\"warnEpochs {epochs}\")\n",
      "/Brain/private/y17eloua/env_fsreve/lib/python3.12/site-packages/moabb/datasets/preprocessing.py:278: UserWarning: warnEpochs <Epochs | 15 events (all good), 0.5 – 3.5 s (baseline off), ~3.6 MiB, data loaded,\n",
      " 'left_hand': 8\n",
      " 'right_hand': 7>\n",
      "  warn(f\"warnEpochs {epochs}\")\n",
      "/Brain/private/y17eloua/env_fsreve/lib/python3.12/site-packages/moabb/datasets/preprocessing.py:278: UserWarning: warnEpochs <Epochs | 15 events (all good), 0.5 – 3.5 s (baseline off), ~3.6 MiB, data loaded,\n",
      " 'left_hand': 8\n",
      " 'right_hand': 7>\n",
      "  warn(f\"warnEpochs {epochs}\")\n"
     ]
    },
    {
     "name": "stdout",
     "output_type": "stream",
     "text": [
      "Used Annotations descriptions: ['left_hand', 'rest', 'right_hand']\n",
      "Used Annotations descriptions: ['left_hand', 'rest', 'right_hand']\n",
      "Used Annotations descriptions: ['left_hand', 'rest', 'right_hand']\n",
      "Used Annotations descriptions: ['feet', 'hands', 'rest']\n",
      "Used Annotations descriptions: ['feet', 'hands', 'rest']\n",
      "Used Annotations descriptions: ['feet', 'hands', 'rest']\n"
     ]
    },
    {
     "name": "stderr",
     "output_type": "stream",
     "text": [
      "/Brain/private/y17eloua/env_fsreve/lib/python3.12/site-packages/moabb/datasets/preprocessing.py:278: UserWarning: warnEpochs <Epochs | 15 events (all good), 0.5 – 3.5 s (baseline off), ~3.6 MiB, data loaded,\n",
      " 'left_hand': 8\n",
      " 'right_hand': 7>\n",
      "  warn(f\"warnEpochs {epochs}\")\n",
      "/Brain/private/y17eloua/env_fsreve/lib/python3.12/site-packages/moabb/datasets/preprocessing.py:278: UserWarning: warnEpochs <Epochs | 15 events (all good), 0.5 – 3.5 s (baseline off), ~3.6 MiB, data loaded,\n",
      " 'left_hand': 7\n",
      " 'right_hand': 8>\n",
      "  warn(f\"warnEpochs {epochs}\")\n",
      "/Brain/private/y17eloua/env_fsreve/lib/python3.12/site-packages/moabb/datasets/preprocessing.py:278: UserWarning: warnEpochs <Epochs | 15 events (all good), 0.5 – 3.5 s (baseline off), ~3.6 MiB, data loaded,\n",
      " 'left_hand': 8\n",
      " 'right_hand': 7>\n",
      "  warn(f\"warnEpochs {epochs}\")\n"
     ]
    },
    {
     "name": "stdout",
     "output_type": "stream",
     "text": [
      "Used Annotations descriptions: ['left_hand', 'rest', 'right_hand']\n",
      "Used Annotations descriptions: ['left_hand', 'rest', 'right_hand']\n",
      "Used Annotations descriptions: ['left_hand', 'rest', 'right_hand']\n",
      "Used Annotations descriptions: ['feet', 'hands', 'rest']\n",
      "Used Annotations descriptions: ['feet', 'hands', 'rest']\n",
      "Used Annotations descriptions: ['feet', 'hands', 'rest']\n"
     ]
    },
    {
     "name": "stderr",
     "output_type": "stream",
     "text": [
      "/Brain/private/y17eloua/env_fsreve/lib/python3.12/site-packages/moabb/datasets/preprocessing.py:278: UserWarning: warnEpochs <Epochs | 15 events (all good), 0.5 – 3.5 s (baseline off), ~3.6 MiB, data loaded,\n",
      " 'left_hand': 8\n",
      " 'right_hand': 7>\n",
      "  warn(f\"warnEpochs {epochs}\")\n",
      "/Brain/private/y17eloua/env_fsreve/lib/python3.12/site-packages/moabb/datasets/preprocessing.py:278: UserWarning: warnEpochs <Epochs | 15 events (all good), 0.5 – 3.5 s (baseline off), ~3.6 MiB, data loaded,\n",
      " 'left_hand': 7\n",
      " 'right_hand': 8>\n",
      "  warn(f\"warnEpochs {epochs}\")\n",
      "/Brain/private/y17eloua/env_fsreve/lib/python3.12/site-packages/moabb/datasets/preprocessing.py:278: UserWarning: warnEpochs <Epochs | 15 events (all good), 0.5 – 3.5 s (baseline off), ~3.6 MiB, data loaded,\n",
      " 'left_hand': 8\n",
      " 'right_hand': 7>\n",
      "  warn(f\"warnEpochs {epochs}\")\n"
     ]
    },
    {
     "name": "stdout",
     "output_type": "stream",
     "text": [
      "Used Annotations descriptions: ['left_hand', 'rest', 'right_hand']\n",
      "Used Annotations descriptions: ['left_hand', 'rest', 'right_hand']\n",
      "Used Annotations descriptions: ['left_hand', 'rest', 'right_hand']\n",
      "Used Annotations descriptions: ['feet', 'hands', 'rest']\n",
      "Used Annotations descriptions: ['feet', 'hands', 'rest']\n",
      "Used Annotations descriptions: ['feet', 'hands', 'rest']\n"
     ]
    },
    {
     "name": "stderr",
     "output_type": "stream",
     "text": [
      "/Brain/private/y17eloua/env_fsreve/lib/python3.12/site-packages/moabb/datasets/preprocessing.py:278: UserWarning: warnEpochs <Epochs | 15 events (all good), 0.5 – 3.5 s (baseline off), ~3.6 MiB, data loaded,\n",
      " 'left_hand': 7\n",
      " 'right_hand': 8>\n",
      "  warn(f\"warnEpochs {epochs}\")\n",
      "/Brain/private/y17eloua/env_fsreve/lib/python3.12/site-packages/moabb/datasets/preprocessing.py:278: UserWarning: warnEpochs <Epochs | 15 events (all good), 0.5 – 3.5 s (baseline off), ~3.6 MiB, data loaded,\n",
      " 'left_hand': 7\n",
      " 'right_hand': 8>\n",
      "  warn(f\"warnEpochs {epochs}\")\n",
      "/Brain/private/y17eloua/env_fsreve/lib/python3.12/site-packages/moabb/datasets/preprocessing.py:278: UserWarning: warnEpochs <Epochs | 15 events (all good), 0.5 – 3.5 s (baseline off), ~3.6 MiB, data loaded,\n",
      " 'left_hand': 7\n",
      " 'right_hand': 8>\n",
      "  warn(f\"warnEpochs {epochs}\")\n"
     ]
    },
    {
     "name": "stdout",
     "output_type": "stream",
     "text": [
      "Used Annotations descriptions: ['left_hand', 'rest', 'right_hand']\n",
      "Used Annotations descriptions: ['left_hand', 'rest', 'right_hand']\n",
      "Used Annotations descriptions: ['left_hand', 'rest', 'right_hand']\n",
      "Used Annotations descriptions: ['feet', 'hands', 'rest']\n",
      "Used Annotations descriptions: ['feet', 'hands', 'rest']\n",
      "Used Annotations descriptions: ['feet', 'hands', 'rest']\n"
     ]
    },
    {
     "name": "stderr",
     "output_type": "stream",
     "text": [
      "/Brain/private/y17eloua/env_fsreve/lib/python3.12/site-packages/moabb/datasets/preprocessing.py:278: UserWarning: warnEpochs <Epochs | 15 events (all good), 0.5 – 3.5 s (baseline off), ~3.6 MiB, data loaded,\n",
      " 'left_hand': 8\n",
      " 'right_hand': 7>\n",
      "  warn(f\"warnEpochs {epochs}\")\n",
      "/Brain/private/y17eloua/env_fsreve/lib/python3.12/site-packages/moabb/datasets/preprocessing.py:278: UserWarning: warnEpochs <Epochs | 15 events (all good), 0.5 – 3.5 s (baseline off), ~3.6 MiB, data loaded,\n",
      " 'left_hand': 8\n",
      " 'right_hand': 7>\n",
      "  warn(f\"warnEpochs {epochs}\")\n",
      "/Brain/private/y17eloua/env_fsreve/lib/python3.12/site-packages/moabb/datasets/preprocessing.py:278: UserWarning: warnEpochs <Epochs | 15 events (all good), 0.5 – 3.5 s (baseline off), ~3.6 MiB, data loaded,\n",
      " 'left_hand': 8\n",
      " 'right_hand': 7>\n",
      "  warn(f\"warnEpochs {epochs}\")\n"
     ]
    },
    {
     "name": "stdout",
     "output_type": "stream",
     "text": [
      "Used Annotations descriptions: ['left_hand', 'rest', 'right_hand']\n",
      "Used Annotations descriptions: ['left_hand', 'rest', 'right_hand']\n",
      "Used Annotations descriptions: ['left_hand', 'rest', 'right_hand']\n",
      "Used Annotations descriptions: ['feet', 'hands', 'rest']\n",
      "Used Annotations descriptions: ['feet', 'hands', 'rest']\n",
      "Used Annotations descriptions: ['feet', 'hands', 'rest']\n"
     ]
    },
    {
     "name": "stderr",
     "output_type": "stream",
     "text": [
      "/Brain/private/y17eloua/env_fsreve/lib/python3.12/site-packages/moabb/datasets/preprocessing.py:278: UserWarning: warnEpochs <Epochs | 15 events (all good), 0.5 – 3.5 s (baseline off), ~3.6 MiB, data loaded,\n",
      " 'left_hand': 8\n",
      " 'right_hand': 7>\n",
      "  warn(f\"warnEpochs {epochs}\")\n",
      "/Brain/private/y17eloua/env_fsreve/lib/python3.12/site-packages/moabb/datasets/preprocessing.py:278: UserWarning: warnEpochs <Epochs | 15 events (all good), 0.5 – 3.5 s (baseline off), ~3.6 MiB, data loaded,\n",
      " 'left_hand': 8\n",
      " 'right_hand': 7>\n",
      "  warn(f\"warnEpochs {epochs}\")\n",
      "/Brain/private/y17eloua/env_fsreve/lib/python3.12/site-packages/moabb/datasets/preprocessing.py:278: UserWarning: warnEpochs <Epochs | 15 events (all good), 0.5 – 3.5 s (baseline off), ~3.6 MiB, data loaded,\n",
      " 'left_hand': 7\n",
      " 'right_hand': 8>\n",
      "  warn(f\"warnEpochs {epochs}\")\n"
     ]
    },
    {
     "name": "stdout",
     "output_type": "stream",
     "text": [
      "Used Annotations descriptions: ['left_hand', 'rest', 'right_hand']\n",
      "Used Annotations descriptions: ['left_hand', 'rest', 'right_hand']\n",
      "Used Annotations descriptions: ['left_hand', 'rest', 'right_hand']\n",
      "Used Annotations descriptions: ['feet', 'hands', 'rest']\n",
      "Used Annotations descriptions: ['feet', 'hands', 'rest']\n",
      "Used Annotations descriptions: ['feet', 'hands', 'rest']\n"
     ]
    },
    {
     "name": "stderr",
     "output_type": "stream",
     "text": [
      "/Brain/private/y17eloua/env_fsreve/lib/python3.12/site-packages/moabb/datasets/preprocessing.py:278: UserWarning: warnEpochs <Epochs | 15 events (all good), 0.5 – 3.5 s (baseline off), ~3.6 MiB, data loaded,\n",
      " 'left_hand': 7\n",
      " 'right_hand': 8>\n",
      "  warn(f\"warnEpochs {epochs}\")\n",
      "/Brain/private/y17eloua/env_fsreve/lib/python3.12/site-packages/moabb/datasets/preprocessing.py:278: UserWarning: warnEpochs <Epochs | 15 events (all good), 0.5 – 3.5 s (baseline off), ~3.6 MiB, data loaded,\n",
      " 'left_hand': 7\n",
      " 'right_hand': 8>\n",
      "  warn(f\"warnEpochs {epochs}\")\n",
      "/Brain/private/y17eloua/env_fsreve/lib/python3.12/site-packages/moabb/datasets/preprocessing.py:278: UserWarning: warnEpochs <Epochs | 15 events (all good), 0.5 – 3.5 s (baseline off), ~3.6 MiB, data loaded,\n",
      " 'left_hand': 8\n",
      " 'right_hand': 7>\n",
      "  warn(f\"warnEpochs {epochs}\")\n"
     ]
    },
    {
     "name": "stdout",
     "output_type": "stream",
     "text": [
      "Used Annotations descriptions: ['left_hand', 'rest', 'right_hand']\n",
      "Used Annotations descriptions: ['left_hand', 'rest', 'right_hand']\n",
      "Used Annotations descriptions: ['left_hand', 'rest', 'right_hand']\n",
      "Used Annotations descriptions: ['feet', 'hands', 'rest']\n",
      "Used Annotations descriptions: ['feet', 'hands', 'rest']\n",
      "Used Annotations descriptions: ['feet', 'hands', 'rest']\n"
     ]
    },
    {
     "name": "stderr",
     "output_type": "stream",
     "text": [
      "/Brain/private/y17eloua/env_fsreve/lib/python3.12/site-packages/moabb/datasets/preprocessing.py:278: UserWarning: warnEpochs <Epochs | 15 events (all good), 0.5 – 3.5 s (baseline off), ~3.6 MiB, data loaded,\n",
      " 'left_hand': 8\n",
      " 'right_hand': 7>\n",
      "  warn(f\"warnEpochs {epochs}\")\n",
      "/Brain/private/y17eloua/env_fsreve/lib/python3.12/site-packages/moabb/datasets/preprocessing.py:278: UserWarning: warnEpochs <Epochs | 15 events (all good), 0.5 – 3.5 s (baseline off), ~3.6 MiB, data loaded,\n",
      " 'left_hand': 8\n",
      " 'right_hand': 7>\n",
      "  warn(f\"warnEpochs {epochs}\")\n",
      "/Brain/private/y17eloua/env_fsreve/lib/python3.12/site-packages/moabb/datasets/preprocessing.py:278: UserWarning: warnEpochs <Epochs | 15 events (all good), 0.5 – 3.5 s (baseline off), ~3.6 MiB, data loaded,\n",
      " 'left_hand': 8\n",
      " 'right_hand': 7>\n",
      "  warn(f\"warnEpochs {epochs}\")\n"
     ]
    },
    {
     "name": "stdout",
     "output_type": "stream",
     "text": [
      "Used Annotations descriptions: ['left_hand', 'rest', 'right_hand']\n",
      "Used Annotations descriptions: ['left_hand', 'rest', 'right_hand']\n",
      "Used Annotations descriptions: ['left_hand', 'rest', 'right_hand']\n",
      "Used Annotations descriptions: ['feet', 'hands', 'rest']\n",
      "Used Annotations descriptions: ['feet', 'hands', 'rest']\n",
      "Used Annotations descriptions: ['feet', 'hands', 'rest']\n"
     ]
    },
    {
     "name": "stderr",
     "output_type": "stream",
     "text": [
      "/Brain/private/y17eloua/env_fsreve/lib/python3.12/site-packages/moabb/datasets/preprocessing.py:278: UserWarning: warnEpochs <Epochs | 15 events (all good), 0.5 – 3.5 s (baseline off), ~3.6 MiB, data loaded,\n",
      " 'left_hand': 8\n",
      " 'right_hand': 7>\n",
      "  warn(f\"warnEpochs {epochs}\")\n",
      "/Brain/private/y17eloua/env_fsreve/lib/python3.12/site-packages/moabb/datasets/preprocessing.py:278: UserWarning: warnEpochs <Epochs | 15 events (all good), 0.5 – 3.5 s (baseline off), ~3.6 MiB, data loaded,\n",
      " 'left_hand': 8\n",
      " 'right_hand': 7>\n",
      "  warn(f\"warnEpochs {epochs}\")\n",
      "/Brain/private/y17eloua/env_fsreve/lib/python3.12/site-packages/moabb/datasets/preprocessing.py:278: UserWarning: warnEpochs <Epochs | 15 events (all good), 0.5 – 3.5 s (baseline off), ~3.6 MiB, data loaded,\n",
      " 'left_hand': 8\n",
      " 'right_hand': 7>\n",
      "  warn(f\"warnEpochs {epochs}\")\n"
     ]
    },
    {
     "name": "stdout",
     "output_type": "stream",
     "text": [
      "Used Annotations descriptions: ['left_hand', 'rest', 'right_hand']\n",
      "Used Annotations descriptions: ['left_hand', 'rest', 'right_hand']\n",
      "Used Annotations descriptions: ['left_hand', 'rest', 'right_hand']\n",
      "Used Annotations descriptions: ['feet', 'hands', 'rest']\n",
      "Used Annotations descriptions: ['feet', 'hands', 'rest']\n",
      "Used Annotations descriptions: ['feet', 'hands', 'rest']\n"
     ]
    },
    {
     "name": "stderr",
     "output_type": "stream",
     "text": [
      "/Brain/private/y17eloua/env_fsreve/lib/python3.12/site-packages/moabb/datasets/preprocessing.py:278: UserWarning: warnEpochs <Epochs | 15 events (all good), 0.5 – 3.5 s (baseline off), ~3.6 MiB, data loaded,\n",
      " 'left_hand': 8\n",
      " 'right_hand': 7>\n",
      "  warn(f\"warnEpochs {epochs}\")\n",
      "/Brain/private/y17eloua/env_fsreve/lib/python3.12/site-packages/moabb/datasets/preprocessing.py:278: UserWarning: warnEpochs <Epochs | 15 events (all good), 0.5 – 3.5 s (baseline off), ~3.6 MiB, data loaded,\n",
      " 'left_hand': 7\n",
      " 'right_hand': 8>\n",
      "  warn(f\"warnEpochs {epochs}\")\n",
      "/Brain/private/y17eloua/env_fsreve/lib/python3.12/site-packages/moabb/datasets/preprocessing.py:278: UserWarning: warnEpochs <Epochs | 15 events (all good), 0.5 – 3.5 s (baseline off), ~3.6 MiB, data loaded,\n",
      " 'left_hand': 8\n",
      " 'right_hand': 7>\n",
      "  warn(f\"warnEpochs {epochs}\")\n"
     ]
    },
    {
     "name": "stdout",
     "output_type": "stream",
     "text": [
      "Used Annotations descriptions: ['left_hand', 'rest', 'right_hand']\n",
      "Used Annotations descriptions: ['left_hand', 'rest', 'right_hand']\n",
      "Used Annotations descriptions: ['left_hand', 'rest', 'right_hand']\n",
      "Used Annotations descriptions: ['feet', 'hands', 'rest']\n",
      "Used Annotations descriptions: ['feet', 'hands', 'rest']\n",
      "Used Annotations descriptions: ['feet', 'hands', 'rest']\n"
     ]
    },
    {
     "name": "stderr",
     "output_type": "stream",
     "text": [
      "/Brain/private/y17eloua/env_fsreve/lib/python3.12/site-packages/moabb/datasets/preprocessing.py:278: UserWarning: warnEpochs <Epochs | 15 events (all good), 0.5 – 3.5 s (baseline off), ~3.6 MiB, data loaded,\n",
      " 'left_hand': 7\n",
      " 'right_hand': 8>\n",
      "  warn(f\"warnEpochs {epochs}\")\n",
      "/Brain/private/y17eloua/env_fsreve/lib/python3.12/site-packages/moabb/datasets/preprocessing.py:278: UserWarning: warnEpochs <Epochs | 15 events (all good), 0.5 – 3.5 s (baseline off), ~3.6 MiB, data loaded,\n",
      " 'left_hand': 7\n",
      " 'right_hand': 8>\n",
      "  warn(f\"warnEpochs {epochs}\")\n",
      "/Brain/private/y17eloua/env_fsreve/lib/python3.12/site-packages/moabb/datasets/preprocessing.py:278: UserWarning: warnEpochs <Epochs | 15 events (all good), 0.5 – 3.5 s (baseline off), ~3.6 MiB, data loaded,\n",
      " 'left_hand': 7\n",
      " 'right_hand': 8>\n",
      "  warn(f\"warnEpochs {epochs}\")\n"
     ]
    },
    {
     "name": "stdout",
     "output_type": "stream",
     "text": [
      "Used Annotations descriptions: ['left_hand', 'rest', 'right_hand']\n",
      "Used Annotations descriptions: ['left_hand', 'rest', 'right_hand']\n",
      "Used Annotations descriptions: ['left_hand', 'rest', 'right_hand']\n",
      "Used Annotations descriptions: ['feet', 'hands', 'rest']\n",
      "Used Annotations descriptions: ['feet', 'hands', 'rest']\n",
      "Used Annotations descriptions: ['feet', 'hands', 'rest']\n"
     ]
    },
    {
     "name": "stderr",
     "output_type": "stream",
     "text": [
      "/Brain/private/y17eloua/env_fsreve/lib/python3.12/site-packages/moabb/datasets/preprocessing.py:278: UserWarning: warnEpochs <Epochs | 15 events (all good), 0.5 – 3.5 s (baseline off), ~3.6 MiB, data loaded,\n",
      " 'left_hand': 8\n",
      " 'right_hand': 7>\n",
      "  warn(f\"warnEpochs {epochs}\")\n",
      "/Brain/private/y17eloua/env_fsreve/lib/python3.12/site-packages/moabb/datasets/preprocessing.py:278: UserWarning: warnEpochs <Epochs | 15 events (all good), 0.5 – 3.5 s (baseline off), ~3.6 MiB, data loaded,\n",
      " 'left_hand': 8\n",
      " 'right_hand': 7>\n",
      "  warn(f\"warnEpochs {epochs}\")\n",
      "/Brain/private/y17eloua/env_fsreve/lib/python3.12/site-packages/moabb/datasets/preprocessing.py:278: UserWarning: warnEpochs <Epochs | 15 events (all good), 0.5 – 3.5 s (baseline off), ~3.6 MiB, data loaded,\n",
      " 'left_hand': 7\n",
      " 'right_hand': 8>\n",
      "  warn(f\"warnEpochs {epochs}\")\n"
     ]
    },
    {
     "name": "stdout",
     "output_type": "stream",
     "text": [
      "Used Annotations descriptions: ['left_hand', 'rest', 'right_hand']\n",
      "Used Annotations descriptions: ['left_hand', 'rest', 'right_hand']\n",
      "Used Annotations descriptions: ['left_hand', 'rest', 'right_hand']\n",
      "Used Annotations descriptions: ['feet', 'hands', 'rest']\n",
      "Used Annotations descriptions: ['feet', 'hands', 'rest']\n",
      "Used Annotations descriptions: ['feet', 'hands', 'rest']\n"
     ]
    },
    {
     "name": "stderr",
     "output_type": "stream",
     "text": [
      "/Brain/private/y17eloua/env_fsreve/lib/python3.12/site-packages/moabb/datasets/preprocessing.py:278: UserWarning: warnEpochs <Epochs | 15 events (all good), 0.5 – 3.5 s (baseline off), ~3.6 MiB, data loaded,\n",
      " 'left_hand': 7\n",
      " 'right_hand': 8>\n",
      "  warn(f\"warnEpochs {epochs}\")\n",
      "/Brain/private/y17eloua/env_fsreve/lib/python3.12/site-packages/moabb/datasets/preprocessing.py:278: UserWarning: warnEpochs <Epochs | 15 events (all good), 0.5 – 3.5 s (baseline off), ~3.6 MiB, data loaded,\n",
      " 'left_hand': 7\n",
      " 'right_hand': 8>\n",
      "  warn(f\"warnEpochs {epochs}\")\n",
      "/Brain/private/y17eloua/env_fsreve/lib/python3.12/site-packages/moabb/datasets/preprocessing.py:278: UserWarning: warnEpochs <Epochs | 15 events (all good), 0.5 – 3.5 s (baseline off), ~3.6 MiB, data loaded,\n",
      " 'left_hand': 8\n",
      " 'right_hand': 7>\n",
      "  warn(f\"warnEpochs {epochs}\")\n"
     ]
    },
    {
     "name": "stdout",
     "output_type": "stream",
     "text": [
      "Used Annotations descriptions: ['left_hand', 'rest', 'right_hand']\n",
      "Used Annotations descriptions: ['left_hand', 'rest', 'right_hand']\n",
      "Used Annotations descriptions: ['left_hand', 'rest', 'right_hand']\n",
      "Used Annotations descriptions: ['feet', 'hands', 'rest']\n",
      "Used Annotations descriptions: ['feet', 'hands', 'rest']\n",
      "Used Annotations descriptions: ['feet', 'hands', 'rest']\n"
     ]
    },
    {
     "name": "stderr",
     "output_type": "stream",
     "text": [
      "/Brain/private/y17eloua/env_fsreve/lib/python3.12/site-packages/moabb/datasets/preprocessing.py:278: UserWarning: warnEpochs <Epochs | 15 events (all good), 0.5 – 3.5 s (baseline off), ~3.6 MiB, data loaded,\n",
      " 'left_hand': 7\n",
      " 'right_hand': 8>\n",
      "  warn(f\"warnEpochs {epochs}\")\n",
      "/Brain/private/y17eloua/env_fsreve/lib/python3.12/site-packages/moabb/datasets/preprocessing.py:278: UserWarning: warnEpochs <Epochs | 15 events (all good), 0.5 – 3.5 s (baseline off), ~3.6 MiB, data loaded,\n",
      " 'left_hand': 8\n",
      " 'right_hand': 7>\n",
      "  warn(f\"warnEpochs {epochs}\")\n",
      "/Brain/private/y17eloua/env_fsreve/lib/python3.12/site-packages/moabb/datasets/preprocessing.py:278: UserWarning: warnEpochs <Epochs | 15 events (all good), 0.5 – 3.5 s (baseline off), ~3.6 MiB, data loaded,\n",
      " 'left_hand': 8\n",
      " 'right_hand': 7>\n",
      "  warn(f\"warnEpochs {epochs}\")\n"
     ]
    },
    {
     "name": "stdout",
     "output_type": "stream",
     "text": [
      "Used Annotations descriptions: ['left_hand', 'rest', 'right_hand']\n",
      "Used Annotations descriptions: ['left_hand', 'rest', 'right_hand']\n",
      "Used Annotations descriptions: ['left_hand', 'rest', 'right_hand']\n",
      "Used Annotations descriptions: ['feet', 'hands', 'rest']\n",
      "Used Annotations descriptions: ['feet', 'hands', 'rest']\n",
      "Used Annotations descriptions: ['feet', 'hands', 'rest']\n"
     ]
    },
    {
     "name": "stderr",
     "output_type": "stream",
     "text": [
      "/Brain/private/y17eloua/env_fsreve/lib/python3.12/site-packages/moabb/datasets/preprocessing.py:278: UserWarning: warnEpochs <Epochs | 15 events (all good), 0.5 – 3.5 s (baseline off), ~3.6 MiB, data loaded,\n",
      " 'left_hand': 7\n",
      " 'right_hand': 8>\n",
      "  warn(f\"warnEpochs {epochs}\")\n",
      "/Brain/private/y17eloua/env_fsreve/lib/python3.12/site-packages/moabb/datasets/preprocessing.py:278: UserWarning: warnEpochs <Epochs | 15 events (all good), 0.5 – 3.5 s (baseline off), ~3.6 MiB, data loaded,\n",
      " 'left_hand': 8\n",
      " 'right_hand': 7>\n",
      "  warn(f\"warnEpochs {epochs}\")\n",
      "/Brain/private/y17eloua/env_fsreve/lib/python3.12/site-packages/moabb/datasets/preprocessing.py:278: UserWarning: warnEpochs <Epochs | 15 events (all good), 0.5 – 3.5 s (baseline off), ~3.6 MiB, data loaded,\n",
      " 'left_hand': 7\n",
      " 'right_hand': 8>\n",
      "  warn(f\"warnEpochs {epochs}\")\n"
     ]
    },
    {
     "name": "stdout",
     "output_type": "stream",
     "text": [
      "Used Annotations descriptions: ['left_hand', 'rest', 'right_hand']\n",
      "Used Annotations descriptions: ['left_hand', 'rest', 'right_hand']\n",
      "Used Annotations descriptions: ['left_hand', 'rest', 'right_hand']\n",
      "Used Annotations descriptions: ['feet', 'hands', 'rest']\n",
      "Used Annotations descriptions: ['feet', 'hands', 'rest']\n",
      "Used Annotations descriptions: ['feet', 'hands', 'rest']\n"
     ]
    },
    {
     "name": "stderr",
     "output_type": "stream",
     "text": [
      "/Brain/private/y17eloua/env_fsreve/lib/python3.12/site-packages/moabb/datasets/preprocessing.py:278: UserWarning: warnEpochs <Epochs | 15 events (all good), 0.5 – 3.5 s (baseline off), ~3.6 MiB, data loaded,\n",
      " 'left_hand': 7\n",
      " 'right_hand': 8>\n",
      "  warn(f\"warnEpochs {epochs}\")\n",
      "/Brain/private/y17eloua/env_fsreve/lib/python3.12/site-packages/moabb/datasets/preprocessing.py:278: UserWarning: warnEpochs <Epochs | 15 events (all good), 0.5 – 3.5 s (baseline off), ~3.6 MiB, data loaded,\n",
      " 'left_hand': 8\n",
      " 'right_hand': 7>\n",
      "  warn(f\"warnEpochs {epochs}\")\n",
      "/Brain/private/y17eloua/env_fsreve/lib/python3.12/site-packages/moabb/datasets/preprocessing.py:278: UserWarning: warnEpochs <Epochs | 15 events (all good), 0.5 – 3.5 s (baseline off), ~3.6 MiB, data loaded,\n",
      " 'left_hand': 8\n",
      " 'right_hand': 7>\n",
      "  warn(f\"warnEpochs {epochs}\")\n"
     ]
    },
    {
     "name": "stdout",
     "output_type": "stream",
     "text": [
      "Used Annotations descriptions: ['left_hand', 'rest', 'right_hand']\n",
      "Used Annotations descriptions: ['left_hand', 'rest', 'right_hand']\n",
      "Used Annotations descriptions: ['left_hand', 'rest', 'right_hand']\n",
      "Used Annotations descriptions: ['feet', 'hands', 'rest']\n",
      "Used Annotations descriptions: ['feet', 'hands', 'rest']\n",
      "Used Annotations descriptions: ['feet', 'hands', 'rest']\n"
     ]
    },
    {
     "name": "stderr",
     "output_type": "stream",
     "text": [
      "/Brain/private/y17eloua/env_fsreve/lib/python3.12/site-packages/moabb/datasets/preprocessing.py:278: UserWarning: warnEpochs <Epochs | 15 events (all good), 0.5 – 3.5 s (baseline off), ~3.6 MiB, data loaded,\n",
      " 'left_hand': 7\n",
      " 'right_hand': 8>\n",
      "  warn(f\"warnEpochs {epochs}\")\n",
      "/Brain/private/y17eloua/env_fsreve/lib/python3.12/site-packages/moabb/datasets/preprocessing.py:278: UserWarning: warnEpochs <Epochs | 15 events (all good), 0.5 – 3.5 s (baseline off), ~3.6 MiB, data loaded,\n",
      " 'left_hand': 8\n",
      " 'right_hand': 7>\n",
      "  warn(f\"warnEpochs {epochs}\")\n",
      "/Brain/private/y17eloua/env_fsreve/lib/python3.12/site-packages/moabb/datasets/preprocessing.py:278: UserWarning: warnEpochs <Epochs | 15 events (all good), 0.5 – 3.5 s (baseline off), ~3.6 MiB, data loaded,\n",
      " 'left_hand': 7\n",
      " 'right_hand': 8>\n",
      "  warn(f\"warnEpochs {epochs}\")\n"
     ]
    },
    {
     "name": "stdout",
     "output_type": "stream",
     "text": [
      "Used Annotations descriptions: ['left_hand', 'rest', 'right_hand']\n",
      "Used Annotations descriptions: ['left_hand', 'rest', 'right_hand']\n",
      "Used Annotations descriptions: ['left_hand', 'rest', 'right_hand']\n",
      "Used Annotations descriptions: ['feet', 'hands', 'rest']\n",
      "Used Annotations descriptions: ['feet', 'hands', 'rest']\n",
      "Used Annotations descriptions: ['feet', 'hands', 'rest']\n"
     ]
    },
    {
     "name": "stderr",
     "output_type": "stream",
     "text": [
      "/Brain/private/y17eloua/env_fsreve/lib/python3.12/site-packages/moabb/datasets/preprocessing.py:278: UserWarning: warnEpochs <Epochs | 15 events (all good), 0.5 – 3.5 s (baseline off), ~3.6 MiB, data loaded,\n",
      " 'left_hand': 8\n",
      " 'right_hand': 7>\n",
      "  warn(f\"warnEpochs {epochs}\")\n",
      "/Brain/private/y17eloua/env_fsreve/lib/python3.12/site-packages/moabb/datasets/preprocessing.py:278: UserWarning: warnEpochs <Epochs | 15 events (all good), 0.5 – 3.5 s (baseline off), ~3.6 MiB, data loaded,\n",
      " 'left_hand': 8\n",
      " 'right_hand': 7>\n",
      "  warn(f\"warnEpochs {epochs}\")\n",
      "/Brain/private/y17eloua/env_fsreve/lib/python3.12/site-packages/moabb/datasets/preprocessing.py:278: UserWarning: warnEpochs <Epochs | 15 events (all good), 0.5 – 3.5 s (baseline off), ~3.6 MiB, data loaded,\n",
      " 'left_hand': 7\n",
      " 'right_hand': 8>\n",
      "  warn(f\"warnEpochs {epochs}\")\n"
     ]
    },
    {
     "name": "stdout",
     "output_type": "stream",
     "text": [
      "Used Annotations descriptions: ['left_hand', 'rest', 'right_hand']\n",
      "Used Annotations descriptions: ['left_hand', 'rest', 'right_hand']\n",
      "Used Annotations descriptions: ['left_hand', 'rest', 'right_hand']\n",
      "Used Annotations descriptions: ['feet', 'hands', 'rest']\n",
      "Used Annotations descriptions: ['feet', 'hands', 'rest']\n",
      "Used Annotations descriptions: ['feet', 'hands', 'rest']\n"
     ]
    },
    {
     "name": "stderr",
     "output_type": "stream",
     "text": [
      "/Brain/private/y17eloua/env_fsreve/lib/python3.12/site-packages/moabb/datasets/preprocessing.py:278: UserWarning: warnEpochs <Epochs | 15 events (all good), 0.5 – 3.5 s (baseline off), ~3.6 MiB, data loaded,\n",
      " 'left_hand': 7\n",
      " 'right_hand': 8>\n",
      "  warn(f\"warnEpochs {epochs}\")\n",
      "/Brain/private/y17eloua/env_fsreve/lib/python3.12/site-packages/moabb/datasets/preprocessing.py:278: UserWarning: warnEpochs <Epochs | 15 events (all good), 0.5 – 3.5 s (baseline off), ~3.6 MiB, data loaded,\n",
      " 'left_hand': 8\n",
      " 'right_hand': 7>\n",
      "  warn(f\"warnEpochs {epochs}\")\n",
      "/Brain/private/y17eloua/env_fsreve/lib/python3.12/site-packages/moabb/datasets/preprocessing.py:278: UserWarning: warnEpochs <Epochs | 15 events (all good), 0.5 – 3.5 s (baseline off), ~3.6 MiB, data loaded,\n",
      " 'left_hand': 8\n",
      " 'right_hand': 7>\n",
      "  warn(f\"warnEpochs {epochs}\")\n"
     ]
    },
    {
     "name": "stdout",
     "output_type": "stream",
     "text": [
      "Used Annotations descriptions: ['left_hand', 'rest', 'right_hand']\n",
      "Used Annotations descriptions: ['left_hand', 'rest', 'right_hand']\n",
      "Used Annotations descriptions: ['left_hand', 'rest', 'right_hand']\n",
      "Used Annotations descriptions: ['feet', 'hands', 'rest']\n",
      "Used Annotations descriptions: ['feet', 'hands', 'rest']\n",
      "Used Annotations descriptions: ['feet', 'hands', 'rest']\n"
     ]
    },
    {
     "name": "stderr",
     "output_type": "stream",
     "text": [
      "/Brain/private/y17eloua/env_fsreve/lib/python3.12/site-packages/moabb/datasets/preprocessing.py:278: UserWarning: warnEpochs <Epochs | 15 events (all good), 0.5 – 3.5 s (baseline off), ~3.6 MiB, data loaded,\n",
      " 'left_hand': 8\n",
      " 'right_hand': 7>\n",
      "  warn(f\"warnEpochs {epochs}\")\n",
      "/Brain/private/y17eloua/env_fsreve/lib/python3.12/site-packages/moabb/datasets/preprocessing.py:278: UserWarning: warnEpochs <Epochs | 15 events (all good), 0.5 – 3.5 s (baseline off), ~3.6 MiB, data loaded,\n",
      " 'left_hand': 8\n",
      " 'right_hand': 7>\n",
      "  warn(f\"warnEpochs {epochs}\")\n",
      "/Brain/private/y17eloua/env_fsreve/lib/python3.12/site-packages/moabb/datasets/preprocessing.py:278: UserWarning: warnEpochs <Epochs | 15 events (all good), 0.5 – 3.5 s (baseline off), ~3.6 MiB, data loaded,\n",
      " 'left_hand': 8\n",
      " 'right_hand': 7>\n",
      "  warn(f\"warnEpochs {epochs}\")\n"
     ]
    },
    {
     "name": "stdout",
     "output_type": "stream",
     "text": [
      "Used Annotations descriptions: ['left_hand', 'rest', 'right_hand']\n",
      "Used Annotations descriptions: ['left_hand', 'rest', 'right_hand']\n",
      "Used Annotations descriptions: ['left_hand', 'rest', 'right_hand']\n",
      "Used Annotations descriptions: ['feet', 'hands', 'rest']\n",
      "Used Annotations descriptions: ['feet', 'hands', 'rest']\n",
      "Used Annotations descriptions: ['feet', 'hands', 'rest']\n"
     ]
    },
    {
     "name": "stderr",
     "output_type": "stream",
     "text": [
      "/Brain/private/y17eloua/env_fsreve/lib/python3.12/site-packages/moabb/datasets/preprocessing.py:278: UserWarning: warnEpochs <Epochs | 15 events (all good), 0.5 – 3.5 s (baseline off), ~3.6 MiB, data loaded,\n",
      " 'left_hand': 7\n",
      " 'right_hand': 8>\n",
      "  warn(f\"warnEpochs {epochs}\")\n",
      "/Brain/private/y17eloua/env_fsreve/lib/python3.12/site-packages/moabb/datasets/preprocessing.py:278: UserWarning: warnEpochs <Epochs | 15 events (all good), 0.5 – 3.5 s (baseline off), ~3.6 MiB, data loaded,\n",
      " 'left_hand': 8\n",
      " 'right_hand': 7>\n",
      "  warn(f\"warnEpochs {epochs}\")\n",
      "/Brain/private/y17eloua/env_fsreve/lib/python3.12/site-packages/moabb/datasets/preprocessing.py:278: UserWarning: warnEpochs <Epochs | 15 events (all good), 0.5 – 3.5 s (baseline off), ~3.6 MiB, data loaded,\n",
      " 'left_hand': 7\n",
      " 'right_hand': 8>\n",
      "  warn(f\"warnEpochs {epochs}\")\n"
     ]
    },
    {
     "name": "stdout",
     "output_type": "stream",
     "text": [
      "Used Annotations descriptions: ['left_hand', 'rest', 'right_hand']\n",
      "Used Annotations descriptions: ['left_hand', 'rest', 'right_hand']\n",
      "Used Annotations descriptions: ['left_hand', 'rest', 'right_hand']\n",
      "Used Annotations descriptions: ['feet', 'hands', 'rest']\n",
      "Used Annotations descriptions: ['feet', 'hands', 'rest']\n",
      "Used Annotations descriptions: ['feet', 'hands', 'rest']\n"
     ]
    },
    {
     "name": "stderr",
     "output_type": "stream",
     "text": [
      "/Brain/private/y17eloua/env_fsreve/lib/python3.12/site-packages/moabb/datasets/preprocessing.py:278: UserWarning: warnEpochs <Epochs | 15 events (all good), 0.5 – 3.5 s (baseline off), ~3.6 MiB, data loaded,\n",
      " 'left_hand': 8\n",
      " 'right_hand': 7>\n",
      "  warn(f\"warnEpochs {epochs}\")\n",
      "/Brain/private/y17eloua/env_fsreve/lib/python3.12/site-packages/moabb/datasets/preprocessing.py:278: UserWarning: warnEpochs <Epochs | 15 events (all good), 0.5 – 3.5 s (baseline off), ~3.6 MiB, data loaded,\n",
      " 'left_hand': 7\n",
      " 'right_hand': 8>\n",
      "  warn(f\"warnEpochs {epochs}\")\n",
      "/Brain/private/y17eloua/env_fsreve/lib/python3.12/site-packages/moabb/datasets/preprocessing.py:278: UserWarning: warnEpochs <Epochs | 15 events (all good), 0.5 – 3.5 s (baseline off), ~3.6 MiB, data loaded,\n",
      " 'left_hand': 7\n",
      " 'right_hand': 8>\n",
      "  warn(f\"warnEpochs {epochs}\")\n"
     ]
    },
    {
     "name": "stdout",
     "output_type": "stream",
     "text": [
      "Used Annotations descriptions: ['left_hand', 'rest', 'right_hand']\n",
      "Used Annotations descriptions: ['left_hand', 'rest', 'right_hand']\n",
      "Used Annotations descriptions: ['left_hand', 'rest', 'right_hand']\n",
      "Used Annotations descriptions: ['feet', 'hands', 'rest']\n",
      "Used Annotations descriptions: ['feet', 'hands', 'rest']\n",
      "Used Annotations descriptions: ['feet', 'hands', 'rest']\n"
     ]
    },
    {
     "name": "stderr",
     "output_type": "stream",
     "text": [
      "/Brain/private/y17eloua/env_fsreve/lib/python3.12/site-packages/moabb/datasets/preprocessing.py:278: UserWarning: warnEpochs <Epochs | 15 events (all good), 0.5 – 3.5 s (baseline off), ~3.6 MiB, data loaded,\n",
      " 'left_hand': 7\n",
      " 'right_hand': 8>\n",
      "  warn(f\"warnEpochs {epochs}\")\n",
      "/Brain/private/y17eloua/env_fsreve/lib/python3.12/site-packages/moabb/datasets/preprocessing.py:278: UserWarning: warnEpochs <Epochs | 15 events (all good), 0.5 – 3.5 s (baseline off), ~3.6 MiB, data loaded,\n",
      " 'left_hand': 7\n",
      " 'right_hand': 8>\n",
      "  warn(f\"warnEpochs {epochs}\")\n",
      "/Brain/private/y17eloua/env_fsreve/lib/python3.12/site-packages/moabb/datasets/preprocessing.py:278: UserWarning: warnEpochs <Epochs | 15 events (all good), 0.5 – 3.5 s (baseline off), ~3.6 MiB, data loaded,\n",
      " 'left_hand': 8\n",
      " 'right_hand': 7>\n",
      "  warn(f\"warnEpochs {epochs}\")\n"
     ]
    },
    {
     "name": "stdout",
     "output_type": "stream",
     "text": [
      "Used Annotations descriptions: ['left_hand', 'rest', 'right_hand']\n",
      "Used Annotations descriptions: ['left_hand', 'rest', 'right_hand']\n",
      "Used Annotations descriptions: ['left_hand', 'rest', 'right_hand']\n",
      "Used Annotations descriptions: ['feet', 'hands', 'rest']\n",
      "Used Annotations descriptions: ['feet', 'hands', 'rest']\n",
      "Used Annotations descriptions: ['feet', 'hands', 'rest']\n"
     ]
    },
    {
     "name": "stderr",
     "output_type": "stream",
     "text": [
      "/Brain/private/y17eloua/env_fsreve/lib/python3.12/site-packages/moabb/datasets/preprocessing.py:278: UserWarning: warnEpochs <Epochs | 15 events (all good), 0.5 – 3.5 s (baseline off), ~3.6 MiB, data loaded,\n",
      " 'left_hand': 7\n",
      " 'right_hand': 8>\n",
      "  warn(f\"warnEpochs {epochs}\")\n",
      "/Brain/private/y17eloua/env_fsreve/lib/python3.12/site-packages/moabb/datasets/preprocessing.py:278: UserWarning: warnEpochs <Epochs | 15 events (all good), 0.5 – 3.5 s (baseline off), ~3.6 MiB, data loaded,\n",
      " 'left_hand': 7\n",
      " 'right_hand': 8>\n",
      "  warn(f\"warnEpochs {epochs}\")\n",
      "/Brain/private/y17eloua/env_fsreve/lib/python3.12/site-packages/moabb/datasets/preprocessing.py:278: UserWarning: warnEpochs <Epochs | 15 events (all good), 0.5 – 3.5 s (baseline off), ~3.6 MiB, data loaded,\n",
      " 'left_hand': 8\n",
      " 'right_hand': 7>\n",
      "  warn(f\"warnEpochs {epochs}\")\n"
     ]
    },
    {
     "name": "stdout",
     "output_type": "stream",
     "text": [
      "Used Annotations descriptions: ['left_hand', 'rest', 'right_hand']\n",
      "Used Annotations descriptions: ['left_hand', 'rest', 'right_hand']\n",
      "Used Annotations descriptions: ['left_hand', 'rest', 'right_hand']\n",
      "Used Annotations descriptions: ['feet', 'hands', 'rest']\n",
      "Used Annotations descriptions: ['feet', 'hands', 'rest']\n",
      "Used Annotations descriptions: ['feet', 'hands', 'rest']\n"
     ]
    },
    {
     "name": "stderr",
     "output_type": "stream",
     "text": [
      "/Brain/private/y17eloua/env_fsreve/lib/python3.12/site-packages/moabb/datasets/preprocessing.py:278: UserWarning: warnEpochs <Epochs | 15 events (all good), 0.5 – 3.5 s (baseline off), ~3.6 MiB, data loaded,\n",
      " 'left_hand': 8\n",
      " 'right_hand': 7>\n",
      "  warn(f\"warnEpochs {epochs}\")\n",
      "/Brain/private/y17eloua/env_fsreve/lib/python3.12/site-packages/moabb/datasets/preprocessing.py:278: UserWarning: warnEpochs <Epochs | 15 events (all good), 0.5 – 3.5 s (baseline off), ~3.6 MiB, data loaded,\n",
      " 'left_hand': 8\n",
      " 'right_hand': 7>\n",
      "  warn(f\"warnEpochs {epochs}\")\n",
      "/Brain/private/y17eloua/env_fsreve/lib/python3.12/site-packages/moabb/datasets/preprocessing.py:278: UserWarning: warnEpochs <Epochs | 15 events (all good), 0.5 – 3.5 s (baseline off), ~3.6 MiB, data loaded,\n",
      " 'left_hand': 8\n",
      " 'right_hand': 7>\n",
      "  warn(f\"warnEpochs {epochs}\")\n"
     ]
    },
    {
     "name": "stdout",
     "output_type": "stream",
     "text": [
      "Used Annotations descriptions: ['left_hand', 'rest', 'right_hand']\n",
      "Used Annotations descriptions: ['left_hand', 'rest', 'right_hand']\n",
      "Used Annotations descriptions: ['left_hand', 'rest', 'right_hand']\n",
      "Used Annotations descriptions: ['feet', 'hands', 'rest']\n",
      "Used Annotations descriptions: ['feet', 'hands', 'rest']\n",
      "Used Annotations descriptions: ['feet', 'hands', 'rest']\n"
     ]
    },
    {
     "name": "stderr",
     "output_type": "stream",
     "text": [
      "/Brain/private/y17eloua/env_fsreve/lib/python3.12/site-packages/moabb/datasets/preprocessing.py:278: UserWarning: warnEpochs <Epochs | 15 events (all good), 0.5 – 3.5 s (baseline off), ~3.6 MiB, data loaded,\n",
      " 'left_hand': 8\n",
      " 'right_hand': 7>\n",
      "  warn(f\"warnEpochs {epochs}\")\n",
      "/Brain/private/y17eloua/env_fsreve/lib/python3.12/site-packages/moabb/datasets/preprocessing.py:278: UserWarning: warnEpochs <Epochs | 15 events (all good), 0.5 – 3.5 s (baseline off), ~3.6 MiB, data loaded,\n",
      " 'left_hand': 7\n",
      " 'right_hand': 8>\n",
      "  warn(f\"warnEpochs {epochs}\")\n",
      "/Brain/private/y17eloua/env_fsreve/lib/python3.12/site-packages/moabb/datasets/preprocessing.py:278: UserWarning: warnEpochs <Epochs | 15 events (all good), 0.5 – 3.5 s (baseline off), ~3.6 MiB, data loaded,\n",
      " 'left_hand': 8\n",
      " 'right_hand': 7>\n",
      "  warn(f\"warnEpochs {epochs}\")\n"
     ]
    },
    {
     "name": "stdout",
     "output_type": "stream",
     "text": [
      "Used Annotations descriptions: ['left_hand', 'rest', 'right_hand']\n",
      "Used Annotations descriptions: ['left_hand', 'rest', 'right_hand']\n",
      "Used Annotations descriptions: ['left_hand', 'rest', 'right_hand']\n",
      "Used Annotations descriptions: ['feet', 'hands', 'rest']\n",
      "Used Annotations descriptions: ['feet', 'hands', 'rest']\n",
      "Used Annotations descriptions: ['feet', 'hands', 'rest']\n"
     ]
    },
    {
     "name": "stderr",
     "output_type": "stream",
     "text": [
      "/Brain/private/y17eloua/env_fsreve/lib/python3.12/site-packages/moabb/datasets/preprocessing.py:278: UserWarning: warnEpochs <Epochs | 15 events (all good), 0.5 – 3.5 s (baseline off), ~3.6 MiB, data loaded,\n",
      " 'left_hand': 8\n",
      " 'right_hand': 7>\n",
      "  warn(f\"warnEpochs {epochs}\")\n",
      "/Brain/private/y17eloua/env_fsreve/lib/python3.12/site-packages/moabb/datasets/preprocessing.py:278: UserWarning: warnEpochs <Epochs | 15 events (all good), 0.5 – 3.5 s (baseline off), ~3.6 MiB, data loaded,\n",
      " 'left_hand': 7\n",
      " 'right_hand': 8>\n",
      "  warn(f\"warnEpochs {epochs}\")\n",
      "/Brain/private/y17eloua/env_fsreve/lib/python3.12/site-packages/moabb/datasets/preprocessing.py:278: UserWarning: warnEpochs <Epochs | 15 events (all good), 0.5 – 3.5 s (baseline off), ~3.6 MiB, data loaded,\n",
      " 'left_hand': 7\n",
      " 'right_hand': 8>\n",
      "  warn(f\"warnEpochs {epochs}\")\n"
     ]
    },
    {
     "name": "stdout",
     "output_type": "stream",
     "text": [
      "Used Annotations descriptions: ['left_hand', 'rest', 'right_hand']\n",
      "Used Annotations descriptions: ['left_hand', 'rest', 'right_hand']\n",
      "Used Annotations descriptions: ['left_hand', 'rest', 'right_hand']\n",
      "Used Annotations descriptions: ['feet', 'hands', 'rest']\n",
      "Used Annotations descriptions: ['feet', 'hands', 'rest']\n",
      "Used Annotations descriptions: ['feet', 'hands', 'rest']\n"
     ]
    },
    {
     "name": "stderr",
     "output_type": "stream",
     "text": [
      "/Brain/private/y17eloua/env_fsreve/lib/python3.12/site-packages/moabb/datasets/preprocessing.py:278: UserWarning: warnEpochs <Epochs | 15 events (all good), 0.5 – 3.5 s (baseline off), ~3.6 MiB, data loaded,\n",
      " 'left_hand': 8\n",
      " 'right_hand': 7>\n",
      "  warn(f\"warnEpochs {epochs}\")\n",
      "/Brain/private/y17eloua/env_fsreve/lib/python3.12/site-packages/moabb/datasets/preprocessing.py:278: UserWarning: warnEpochs <Epochs | 15 events (all good), 0.5 – 3.5 s (baseline off), ~3.6 MiB, data loaded,\n",
      " 'left_hand': 8\n",
      " 'right_hand': 7>\n",
      "  warn(f\"warnEpochs {epochs}\")\n",
      "/Brain/private/y17eloua/env_fsreve/lib/python3.12/site-packages/moabb/datasets/preprocessing.py:278: UserWarning: warnEpochs <Epochs | 15 events (all good), 0.5 – 3.5 s (baseline off), ~3.6 MiB, data loaded,\n",
      " 'left_hand': 7\n",
      " 'right_hand': 8>\n",
      "  warn(f\"warnEpochs {epochs}\")\n"
     ]
    },
    {
     "name": "stdout",
     "output_type": "stream",
     "text": [
      "Used Annotations descriptions: ['left_hand', 'rest', 'right_hand']\n",
      "Used Annotations descriptions: ['left_hand', 'rest', 'right_hand']\n",
      "Used Annotations descriptions: ['left_hand', 'rest', 'right_hand']\n",
      "Used Annotations descriptions: ['feet', 'hands', 'rest']\n",
      "Used Annotations descriptions: ['feet', 'hands', 'rest']\n",
      "Used Annotations descriptions: ['feet', 'hands', 'rest']\n"
     ]
    },
    {
     "name": "stderr",
     "output_type": "stream",
     "text": [
      "/Brain/private/y17eloua/env_fsreve/lib/python3.12/site-packages/moabb/datasets/preprocessing.py:278: UserWarning: warnEpochs <Epochs | 15 events (all good), 0.5 – 3.5 s (baseline off), ~3.6 MiB, data loaded,\n",
      " 'left_hand': 8\n",
      " 'right_hand': 7>\n",
      "  warn(f\"warnEpochs {epochs}\")\n",
      "/Brain/private/y17eloua/env_fsreve/lib/python3.12/site-packages/moabb/datasets/preprocessing.py:278: UserWarning: warnEpochs <Epochs | 15 events (all good), 0.5 – 3.5 s (baseline off), ~3.6 MiB, data loaded,\n",
      " 'left_hand': 8\n",
      " 'right_hand': 7>\n",
      "  warn(f\"warnEpochs {epochs}\")\n",
      "/Brain/private/y17eloua/env_fsreve/lib/python3.12/site-packages/moabb/datasets/preprocessing.py:278: UserWarning: warnEpochs <Epochs | 15 events (all good), 0.5 – 3.5 s (baseline off), ~3.6 MiB, data loaded,\n",
      " 'left_hand': 8\n",
      " 'right_hand': 7>\n",
      "  warn(f\"warnEpochs {epochs}\")\n"
     ]
    },
    {
     "name": "stdout",
     "output_type": "stream",
     "text": [
      "Used Annotations descriptions: ['left_hand', 'rest', 'right_hand']\n",
      "Used Annotations descriptions: ['left_hand', 'rest', 'right_hand']\n",
      "Used Annotations descriptions: ['left_hand', 'rest', 'right_hand']\n",
      "Used Annotations descriptions: ['feet', 'hands', 'rest']\n",
      "Used Annotations descriptions: ['feet', 'hands', 'rest']\n",
      "Used Annotations descriptions: ['feet', 'hands', 'rest']\n"
     ]
    },
    {
     "name": "stderr",
     "output_type": "stream",
     "text": [
      "/Brain/private/y17eloua/env_fsreve/lib/python3.12/site-packages/moabb/datasets/preprocessing.py:278: UserWarning: warnEpochs <Epochs | 15 events (all good), 0.5 – 3.5 s (baseline off), ~3.6 MiB, data loaded,\n",
      " 'left_hand': 8\n",
      " 'right_hand': 7>\n",
      "  warn(f\"warnEpochs {epochs}\")\n",
      "/Brain/private/y17eloua/env_fsreve/lib/python3.12/site-packages/moabb/datasets/preprocessing.py:278: UserWarning: warnEpochs <Epochs | 15 events (all good), 0.5 – 3.5 s (baseline off), ~3.6 MiB, data loaded,\n",
      " 'left_hand': 7\n",
      " 'right_hand': 8>\n",
      "  warn(f\"warnEpochs {epochs}\")\n",
      "/Brain/private/y17eloua/env_fsreve/lib/python3.12/site-packages/moabb/datasets/preprocessing.py:278: UserWarning: warnEpochs <Epochs | 15 events (all good), 0.5 – 3.5 s (baseline off), ~3.6 MiB, data loaded,\n",
      " 'left_hand': 7\n",
      " 'right_hand': 8>\n",
      "  warn(f\"warnEpochs {epochs}\")\n"
     ]
    },
    {
     "name": "stdout",
     "output_type": "stream",
     "text": [
      "Used Annotations descriptions: ['left_hand', 'rest', 'right_hand']\n",
      "Used Annotations descriptions: ['left_hand', 'rest', 'right_hand']\n",
      "Used Annotations descriptions: ['left_hand', 'rest', 'right_hand']\n",
      "Used Annotations descriptions: ['feet', 'hands', 'rest']\n",
      "Used Annotations descriptions: ['feet', 'hands', 'rest']\n",
      "Used Annotations descriptions: ['feet', 'hands', 'rest']\n"
     ]
    },
    {
     "name": "stderr",
     "output_type": "stream",
     "text": [
      "/Brain/private/y17eloua/env_fsreve/lib/python3.12/site-packages/moabb/datasets/preprocessing.py:278: UserWarning: warnEpochs <Epochs | 15 events (all good), 0.5 – 3.5 s (baseline off), ~3.6 MiB, data loaded,\n",
      " 'left_hand': 7\n",
      " 'right_hand': 8>\n",
      "  warn(f\"warnEpochs {epochs}\")\n",
      "/Brain/private/y17eloua/env_fsreve/lib/python3.12/site-packages/moabb/datasets/preprocessing.py:278: UserWarning: warnEpochs <Epochs | 15 events (all good), 0.5 – 3.5 s (baseline off), ~3.6 MiB, data loaded,\n",
      " 'left_hand': 7\n",
      " 'right_hand': 8>\n",
      "  warn(f\"warnEpochs {epochs}\")\n",
      "/Brain/private/y17eloua/env_fsreve/lib/python3.12/site-packages/moabb/datasets/preprocessing.py:278: UserWarning: warnEpochs <Epochs | 15 events (all good), 0.5 – 3.5 s (baseline off), ~3.6 MiB, data loaded,\n",
      " 'left_hand': 7\n",
      " 'right_hand': 8>\n",
      "  warn(f\"warnEpochs {epochs}\")\n"
     ]
    },
    {
     "name": "stdout",
     "output_type": "stream",
     "text": [
      "Used Annotations descriptions: ['left_hand', 'rest', 'right_hand']\n",
      "Used Annotations descriptions: ['left_hand', 'rest', 'right_hand']\n",
      "Used Annotations descriptions: ['left_hand', 'rest', 'right_hand']\n",
      "Used Annotations descriptions: ['feet', 'hands', 'rest']\n",
      "Used Annotations descriptions: ['feet', 'hands', 'rest']\n",
      "Used Annotations descriptions: ['feet', 'hands', 'rest']\n"
     ]
    },
    {
     "name": "stderr",
     "output_type": "stream",
     "text": [
      "/Brain/private/y17eloua/env_fsreve/lib/python3.12/site-packages/moabb/datasets/preprocessing.py:278: UserWarning: warnEpochs <Epochs | 15 events (all good), 0.5 – 3.5 s (baseline off), ~3.6 MiB, data loaded,\n",
      " 'left_hand': 8\n",
      " 'right_hand': 7>\n",
      "  warn(f\"warnEpochs {epochs}\")\n",
      "/Brain/private/y17eloua/env_fsreve/lib/python3.12/site-packages/moabb/datasets/preprocessing.py:278: UserWarning: warnEpochs <Epochs | 15 events (all good), 0.5 – 3.5 s (baseline off), ~3.6 MiB, data loaded,\n",
      " 'left_hand': 8\n",
      " 'right_hand': 7>\n",
      "  warn(f\"warnEpochs {epochs}\")\n",
      "/Brain/private/y17eloua/env_fsreve/lib/python3.12/site-packages/moabb/datasets/preprocessing.py:278: UserWarning: warnEpochs <Epochs | 15 events (all good), 0.5 – 3.5 s (baseline off), ~3.6 MiB, data loaded,\n",
      " 'left_hand': 7\n",
      " 'right_hand': 8>\n",
      "  warn(f\"warnEpochs {epochs}\")\n"
     ]
    },
    {
     "name": "stdout",
     "output_type": "stream",
     "text": [
      "Used Annotations descriptions: ['left_hand', 'rest', 'right_hand']\n",
      "Used Annotations descriptions: ['left_hand', 'rest', 'right_hand']\n",
      "Used Annotations descriptions: ['left_hand', 'rest', 'right_hand']\n",
      "Used Annotations descriptions: ['feet', 'hands', 'rest']\n",
      "Used Annotations descriptions: ['feet', 'hands', 'rest']\n",
      "Used Annotations descriptions: ['feet', 'hands', 'rest']\n"
     ]
    },
    {
     "name": "stderr",
     "output_type": "stream",
     "text": [
      "/Brain/private/y17eloua/env_fsreve/lib/python3.12/site-packages/moabb/datasets/preprocessing.py:278: UserWarning: warnEpochs <Epochs | 15 events (all good), 0.5 – 3.5 s (baseline off), ~3.6 MiB, data loaded,\n",
      " 'left_hand': 7\n",
      " 'right_hand': 8>\n",
      "  warn(f\"warnEpochs {epochs}\")\n",
      "/Brain/private/y17eloua/env_fsreve/lib/python3.12/site-packages/moabb/datasets/preprocessing.py:278: UserWarning: warnEpochs <Epochs | 15 events (all good), 0.5 – 3.5 s (baseline off), ~3.6 MiB, data loaded,\n",
      " 'left_hand': 7\n",
      " 'right_hand': 8>\n",
      "  warn(f\"warnEpochs {epochs}\")\n",
      "/Brain/private/y17eloua/env_fsreve/lib/python3.12/site-packages/moabb/datasets/preprocessing.py:278: UserWarning: warnEpochs <Epochs | 15 events (all good), 0.5 – 3.5 s (baseline off), ~3.6 MiB, data loaded,\n",
      " 'left_hand': 7\n",
      " 'right_hand': 8>\n",
      "  warn(f\"warnEpochs {epochs}\")\n"
     ]
    },
    {
     "name": "stdout",
     "output_type": "stream",
     "text": [
      "Used Annotations descriptions: ['left_hand', 'rest', 'right_hand']\n",
      "Used Annotations descriptions: ['left_hand', 'rest', 'right_hand']\n",
      "Used Annotations descriptions: ['left_hand', 'rest', 'right_hand']\n",
      "Used Annotations descriptions: ['feet', 'hands', 'rest']\n",
      "Used Annotations descriptions: ['feet', 'hands', 'rest']\n",
      "Used Annotations descriptions: ['feet', 'hands', 'rest']\n"
     ]
    },
    {
     "name": "stderr",
     "output_type": "stream",
     "text": [
      "/Brain/private/y17eloua/env_fsreve/lib/python3.12/site-packages/moabb/datasets/preprocessing.py:278: UserWarning: warnEpochs <Epochs | 15 events (all good), 0.5 – 3.5 s (baseline off), ~3.6 MiB, data loaded,\n",
      " 'left_hand': 8\n",
      " 'right_hand': 7>\n",
      "  warn(f\"warnEpochs {epochs}\")\n",
      "/Brain/private/y17eloua/env_fsreve/lib/python3.12/site-packages/moabb/datasets/preprocessing.py:278: UserWarning: warnEpochs <Epochs | 15 events (all good), 0.5 – 3.5 s (baseline off), ~3.6 MiB, data loaded,\n",
      " 'left_hand': 7\n",
      " 'right_hand': 8>\n",
      "  warn(f\"warnEpochs {epochs}\")\n",
      "/Brain/private/y17eloua/env_fsreve/lib/python3.12/site-packages/moabb/datasets/preprocessing.py:278: UserWarning: warnEpochs <Epochs | 15 events (all good), 0.5 – 3.5 s (baseline off), ~3.6 MiB, data loaded,\n",
      " 'left_hand': 7\n",
      " 'right_hand': 8>\n",
      "  warn(f\"warnEpochs {epochs}\")\n"
     ]
    },
    {
     "name": "stdout",
     "output_type": "stream",
     "text": [
      "Used Annotations descriptions: ['left_hand', 'rest', 'right_hand']\n",
      "Used Annotations descriptions: ['left_hand', 'rest', 'right_hand']\n",
      "Used Annotations descriptions: ['left_hand', 'rest', 'right_hand']\n",
      "Used Annotations descriptions: ['feet', 'hands', 'rest']\n",
      "Used Annotations descriptions: ['feet', 'hands', 'rest']\n",
      "Used Annotations descriptions: ['feet', 'hands', 'rest']\n"
     ]
    },
    {
     "name": "stderr",
     "output_type": "stream",
     "text": [
      "/Brain/private/y17eloua/env_fsreve/lib/python3.12/site-packages/moabb/datasets/preprocessing.py:278: UserWarning: warnEpochs <Epochs | 15 events (all good), 0.5 – 3.5 s (baseline off), ~3.6 MiB, data loaded,\n",
      " 'left_hand': 8\n",
      " 'right_hand': 7>\n",
      "  warn(f\"warnEpochs {epochs}\")\n",
      "/Brain/private/y17eloua/env_fsreve/lib/python3.12/site-packages/moabb/datasets/preprocessing.py:278: UserWarning: warnEpochs <Epochs | 15 events (all good), 0.5 – 3.5 s (baseline off), ~3.6 MiB, data loaded,\n",
      " 'left_hand': 7\n",
      " 'right_hand': 8>\n",
      "  warn(f\"warnEpochs {epochs}\")\n",
      "/Brain/private/y17eloua/env_fsreve/lib/python3.12/site-packages/moabb/datasets/preprocessing.py:278: UserWarning: warnEpochs <Epochs | 15 events (all good), 0.5 – 3.5 s (baseline off), ~3.6 MiB, data loaded,\n",
      " 'left_hand': 8\n",
      " 'right_hand': 7>\n",
      "  warn(f\"warnEpochs {epochs}\")\n"
     ]
    },
    {
     "name": "stdout",
     "output_type": "stream",
     "text": [
      "Used Annotations descriptions: ['left_hand', 'rest', 'right_hand']\n",
      "Used Annotations descriptions: ['left_hand', 'rest', 'right_hand']\n",
      "Used Annotations descriptions: ['left_hand', 'rest', 'right_hand']\n",
      "Used Annotations descriptions: ['feet', 'hands', 'rest']\n",
      "Used Annotations descriptions: ['feet', 'hands', 'rest']\n",
      "Used Annotations descriptions: ['feet', 'hands', 'rest']\n"
     ]
    },
    {
     "name": "stderr",
     "output_type": "stream",
     "text": [
      "/Brain/private/y17eloua/env_fsreve/lib/python3.12/site-packages/moabb/datasets/preprocessing.py:278: UserWarning: warnEpochs <Epochs | 15 events (all good), 0.5 – 3.5 s (baseline off), ~3.6 MiB, data loaded,\n",
      " 'left_hand': 8\n",
      " 'right_hand': 7>\n",
      "  warn(f\"warnEpochs {epochs}\")\n",
      "/Brain/private/y17eloua/env_fsreve/lib/python3.12/site-packages/moabb/datasets/preprocessing.py:278: UserWarning: warnEpochs <Epochs | 15 events (all good), 0.5 – 3.5 s (baseline off), ~3.6 MiB, data loaded,\n",
      " 'left_hand': 8\n",
      " 'right_hand': 7>\n",
      "  warn(f\"warnEpochs {epochs}\")\n",
      "/Brain/private/y17eloua/env_fsreve/lib/python3.12/site-packages/moabb/datasets/preprocessing.py:278: UserWarning: warnEpochs <Epochs | 15 events (all good), 0.5 – 3.5 s (baseline off), ~3.6 MiB, data loaded,\n",
      " 'left_hand': 7\n",
      " 'right_hand': 8>\n",
      "  warn(f\"warnEpochs {epochs}\")\n"
     ]
    },
    {
     "name": "stdout",
     "output_type": "stream",
     "text": [
      "Used Annotations descriptions: ['left_hand', 'rest', 'right_hand']\n",
      "Used Annotations descriptions: ['left_hand', 'rest', 'right_hand']\n",
      "Used Annotations descriptions: ['left_hand', 'rest', 'right_hand']\n",
      "Used Annotations descriptions: ['feet', 'hands', 'rest']\n",
      "Used Annotations descriptions: ['feet', 'hands', 'rest']\n",
      "Used Annotations descriptions: ['feet', 'hands', 'rest']\n"
     ]
    },
    {
     "name": "stderr",
     "output_type": "stream",
     "text": [
      "/Brain/private/y17eloua/env_fsreve/lib/python3.12/site-packages/moabb/datasets/preprocessing.py:278: UserWarning: warnEpochs <Epochs | 15 events (all good), 0.5 – 3.5 s (baseline off), ~3.6 MiB, data loaded,\n",
      " 'left_hand': 8\n",
      " 'right_hand': 7>\n",
      "  warn(f\"warnEpochs {epochs}\")\n",
      "/Brain/private/y17eloua/env_fsreve/lib/python3.12/site-packages/moabb/datasets/preprocessing.py:278: UserWarning: warnEpochs <Epochs | 15 events (all good), 0.5 – 3.5 s (baseline off), ~3.6 MiB, data loaded,\n",
      " 'left_hand': 8\n",
      " 'right_hand': 7>\n",
      "  warn(f\"warnEpochs {epochs}\")\n",
      "/Brain/private/y17eloua/env_fsreve/lib/python3.12/site-packages/moabb/datasets/preprocessing.py:278: UserWarning: warnEpochs <Epochs | 15 events (all good), 0.5 – 3.5 s (baseline off), ~3.6 MiB, data loaded,\n",
      " 'left_hand': 7\n",
      " 'right_hand': 8>\n",
      "  warn(f\"warnEpochs {epochs}\")\n"
     ]
    },
    {
     "name": "stdout",
     "output_type": "stream",
     "text": [
      "Used Annotations descriptions: ['left_hand', 'rest', 'right_hand']\n",
      "Used Annotations descriptions: ['left_hand', 'rest', 'right_hand']\n",
      "Used Annotations descriptions: ['left_hand', 'rest', 'right_hand']\n",
      "Used Annotations descriptions: ['feet', 'hands', 'rest']\n",
      "Used Annotations descriptions: ['feet', 'hands', 'rest']\n",
      "Used Annotations descriptions: ['feet', 'hands', 'rest']\n"
     ]
    },
    {
     "name": "stderr",
     "output_type": "stream",
     "text": [
      "/Brain/private/y17eloua/env_fsreve/lib/python3.12/site-packages/moabb/datasets/preprocessing.py:278: UserWarning: warnEpochs <Epochs | 15 events (all good), 0.5 – 3.5 s (baseline off), ~3.6 MiB, data loaded,\n",
      " 'left_hand': 7\n",
      " 'right_hand': 8>\n",
      "  warn(f\"warnEpochs {epochs}\")\n",
      "/Brain/private/y17eloua/env_fsreve/lib/python3.12/site-packages/moabb/datasets/preprocessing.py:278: UserWarning: warnEpochs <Epochs | 15 events (all good), 0.5 – 3.5 s (baseline off), ~3.6 MiB, data loaded,\n",
      " 'left_hand': 7\n",
      " 'right_hand': 8>\n",
      "  warn(f\"warnEpochs {epochs}\")\n",
      "/Brain/private/y17eloua/env_fsreve/lib/python3.12/site-packages/moabb/datasets/preprocessing.py:278: UserWarning: warnEpochs <Epochs | 15 events (all good), 0.5 – 3.5 s (baseline off), ~3.6 MiB, data loaded,\n",
      " 'left_hand': 7\n",
      " 'right_hand': 8>\n",
      "  warn(f\"warnEpochs {epochs}\")\n"
     ]
    },
    {
     "name": "stdout",
     "output_type": "stream",
     "text": [
      "Used Annotations descriptions: ['left_hand', 'rest', 'right_hand']\n",
      "Used Annotations descriptions: ['left_hand', 'rest', 'right_hand']\n",
      "Used Annotations descriptions: ['left_hand', 'rest', 'right_hand']\n",
      "Used Annotations descriptions: ['feet', 'hands', 'rest']\n",
      "Used Annotations descriptions: ['feet', 'hands', 'rest']\n",
      "Used Annotations descriptions: ['feet', 'hands', 'rest']\n"
     ]
    },
    {
     "name": "stderr",
     "output_type": "stream",
     "text": [
      "/Brain/private/y17eloua/env_fsreve/lib/python3.12/site-packages/moabb/datasets/preprocessing.py:278: UserWarning: warnEpochs <Epochs | 15 events (all good), 0.5 – 3.5 s (baseline off), ~3.6 MiB, data loaded,\n",
      " 'left_hand': 8\n",
      " 'right_hand': 7>\n",
      "  warn(f\"warnEpochs {epochs}\")\n",
      "/Brain/private/y17eloua/env_fsreve/lib/python3.12/site-packages/moabb/datasets/preprocessing.py:278: UserWarning: warnEpochs <Epochs | 15 events (all good), 0.5 – 3.5 s (baseline off), ~3.6 MiB, data loaded,\n",
      " 'left_hand': 8\n",
      " 'right_hand': 7>\n",
      "  warn(f\"warnEpochs {epochs}\")\n",
      "/Brain/private/y17eloua/env_fsreve/lib/python3.12/site-packages/moabb/datasets/preprocessing.py:278: UserWarning: warnEpochs <Epochs | 15 events (all good), 0.5 – 3.5 s (baseline off), ~3.6 MiB, data loaded,\n",
      " 'left_hand': 8\n",
      " 'right_hand': 7>\n",
      "  warn(f\"warnEpochs {epochs}\")\n"
     ]
    },
    {
     "name": "stdout",
     "output_type": "stream",
     "text": [
      "Used Annotations descriptions: ['left_hand', 'rest', 'right_hand']\n",
      "Used Annotations descriptions: ['left_hand', 'rest', 'right_hand']\n",
      "Used Annotations descriptions: ['left_hand', 'rest', 'right_hand']\n",
      "Used Annotations descriptions: ['feet', 'hands', 'rest']\n",
      "Used Annotations descriptions: ['feet', 'hands', 'rest']\n",
      "Used Annotations descriptions: ['feet', 'hands', 'rest']\n"
     ]
    },
    {
     "name": "stderr",
     "output_type": "stream",
     "text": [
      "/Brain/private/y17eloua/env_fsreve/lib/python3.12/site-packages/moabb/datasets/preprocessing.py:278: UserWarning: warnEpochs <Epochs | 15 events (all good), 0.5 – 3.5 s (baseline off), ~3.6 MiB, data loaded,\n",
      " 'left_hand': 7\n",
      " 'right_hand': 8>\n",
      "  warn(f\"warnEpochs {epochs}\")\n",
      "/Brain/private/y17eloua/env_fsreve/lib/python3.12/site-packages/moabb/datasets/preprocessing.py:278: UserWarning: warnEpochs <Epochs | 15 events (all good), 0.5 – 3.5 s (baseline off), ~3.6 MiB, data loaded,\n",
      " 'left_hand': 8\n",
      " 'right_hand': 7>\n",
      "  warn(f\"warnEpochs {epochs}\")\n",
      "/Brain/private/y17eloua/env_fsreve/lib/python3.12/site-packages/moabb/datasets/preprocessing.py:278: UserWarning: warnEpochs <Epochs | 15 events (all good), 0.5 – 3.5 s (baseline off), ~3.6 MiB, data loaded,\n",
      " 'left_hand': 7\n",
      " 'right_hand': 8>\n",
      "  warn(f\"warnEpochs {epochs}\")\n"
     ]
    },
    {
     "name": "stdout",
     "output_type": "stream",
     "text": [
      "Used Annotations descriptions: ['left_hand', 'rest', 'right_hand']\n",
      "Used Annotations descriptions: ['left_hand', 'rest', 'right_hand']\n",
      "Used Annotations descriptions: ['left_hand', 'rest', 'right_hand']\n",
      "Used Annotations descriptions: ['feet', 'hands', 'rest']\n",
      "Used Annotations descriptions: ['feet', 'hands', 'rest']\n",
      "Used Annotations descriptions: ['feet', 'hands', 'rest']\n"
     ]
    },
    {
     "name": "stderr",
     "output_type": "stream",
     "text": [
      "/Brain/private/y17eloua/env_fsreve/lib/python3.12/site-packages/moabb/datasets/preprocessing.py:278: UserWarning: warnEpochs <Epochs | 15 events (all good), 0.5 – 3.5 s (baseline off), ~3.6 MiB, data loaded,\n",
      " 'left_hand': 8\n",
      " 'right_hand': 7>\n",
      "  warn(f\"warnEpochs {epochs}\")\n",
      "/Brain/private/y17eloua/env_fsreve/lib/python3.12/site-packages/moabb/datasets/preprocessing.py:278: UserWarning: warnEpochs <Epochs | 15 events (all good), 0.5 – 3.5 s (baseline off), ~3.6 MiB, data loaded,\n",
      " 'left_hand': 7\n",
      " 'right_hand': 8>\n",
      "  warn(f\"warnEpochs {epochs}\")\n",
      "/Brain/private/y17eloua/env_fsreve/lib/python3.12/site-packages/moabb/datasets/preprocessing.py:278: UserWarning: warnEpochs <Epochs | 15 events (all good), 0.5 – 3.5 s (baseline off), ~3.6 MiB, data loaded,\n",
      " 'left_hand': 8\n",
      " 'right_hand': 7>\n",
      "  warn(f\"warnEpochs {epochs}\")\n"
     ]
    },
    {
     "name": "stdout",
     "output_type": "stream",
     "text": [
      "Used Annotations descriptions: ['left_hand', 'rest', 'right_hand']\n",
      "Used Annotations descriptions: ['left_hand', 'rest', 'right_hand']\n",
      "Used Annotations descriptions: ['left_hand', 'rest', 'right_hand']\n",
      "Used Annotations descriptions: ['feet', 'hands', 'rest']\n",
      "Used Annotations descriptions: ['feet', 'hands', 'rest']\n",
      "Used Annotations descriptions: ['feet', 'hands', 'rest']\n"
     ]
    },
    {
     "name": "stderr",
     "output_type": "stream",
     "text": [
      "/Brain/private/y17eloua/env_fsreve/lib/python3.12/site-packages/moabb/datasets/preprocessing.py:278: UserWarning: warnEpochs <Epochs | 15 events (all good), 0.5 – 3.5 s (baseline off), ~3.6 MiB, data loaded,\n",
      " 'left_hand': 7\n",
      " 'right_hand': 8>\n",
      "  warn(f\"warnEpochs {epochs}\")\n",
      "/Brain/private/y17eloua/env_fsreve/lib/python3.12/site-packages/moabb/datasets/preprocessing.py:278: UserWarning: warnEpochs <Epochs | 15 events (all good), 0.5 – 3.5 s (baseline off), ~3.6 MiB, data loaded,\n",
      " 'left_hand': 7\n",
      " 'right_hand': 8>\n",
      "  warn(f\"warnEpochs {epochs}\")\n",
      "/Brain/private/y17eloua/env_fsreve/lib/python3.12/site-packages/moabb/datasets/preprocessing.py:278: UserWarning: warnEpochs <Epochs | 15 events (all good), 0.5 – 3.5 s (baseline off), ~3.6 MiB, data loaded,\n",
      " 'left_hand': 8\n",
      " 'right_hand': 7>\n",
      "  warn(f\"warnEpochs {epochs}\")\n"
     ]
    },
    {
     "name": "stdout",
     "output_type": "stream",
     "text": [
      "Used Annotations descriptions: ['left_hand', 'rest', 'right_hand']\n",
      "Used Annotations descriptions: ['left_hand', 'rest', 'right_hand']\n",
      "Used Annotations descriptions: ['left_hand', 'rest', 'right_hand']\n",
      "Used Annotations descriptions: ['feet', 'hands', 'rest']\n",
      "Used Annotations descriptions: ['feet', 'hands', 'rest']\n",
      "Used Annotations descriptions: ['feet', 'hands', 'rest']\n"
     ]
    },
    {
     "name": "stderr",
     "output_type": "stream",
     "text": [
      "/Brain/private/y17eloua/env_fsreve/lib/python3.12/site-packages/moabb/datasets/preprocessing.py:278: UserWarning: warnEpochs <Epochs | 15 events (all good), 0.5 – 3.5 s (baseline off), ~3.6 MiB, data loaded,\n",
      " 'left_hand': 8\n",
      " 'right_hand': 7>\n",
      "  warn(f\"warnEpochs {epochs}\")\n",
      "/Brain/private/y17eloua/env_fsreve/lib/python3.12/site-packages/moabb/datasets/preprocessing.py:278: UserWarning: warnEpochs <Epochs | 15 events (all good), 0.5 – 3.5 s (baseline off), ~3.6 MiB, data loaded,\n",
      " 'left_hand': 8\n",
      " 'right_hand': 7>\n",
      "  warn(f\"warnEpochs {epochs}\")\n",
      "/Brain/private/y17eloua/env_fsreve/lib/python3.12/site-packages/moabb/datasets/preprocessing.py:278: UserWarning: warnEpochs <Epochs | 15 events (all good), 0.5 – 3.5 s (baseline off), ~3.6 MiB, data loaded,\n",
      " 'left_hand': 7\n",
      " 'right_hand': 8>\n",
      "  warn(f\"warnEpochs {epochs}\")\n"
     ]
    },
    {
     "name": "stdout",
     "output_type": "stream",
     "text": [
      "Used Annotations descriptions: ['left_hand', 'rest', 'right_hand']\n",
      "Used Annotations descriptions: ['left_hand', 'rest', 'right_hand']\n",
      "Used Annotations descriptions: ['left_hand', 'rest', 'right_hand']\n",
      "Used Annotations descriptions: ['feet', 'hands', 'rest']\n",
      "Used Annotations descriptions: ['feet', 'hands', 'rest']\n",
      "Used Annotations descriptions: ['feet', 'hands', 'rest']\n"
     ]
    },
    {
     "name": "stderr",
     "output_type": "stream",
     "text": [
      "/Brain/private/y17eloua/env_fsreve/lib/python3.12/site-packages/moabb/datasets/preprocessing.py:278: UserWarning: warnEpochs <Epochs | 15 events (all good), 0.5 – 3.5 s (baseline off), ~3.6 MiB, data loaded,\n",
      " 'left_hand': 8\n",
      " 'right_hand': 7>\n",
      "  warn(f\"warnEpochs {epochs}\")\n",
      "/Brain/private/y17eloua/env_fsreve/lib/python3.12/site-packages/moabb/datasets/preprocessing.py:278: UserWarning: warnEpochs <Epochs | 15 events (all good), 0.5 – 3.5 s (baseline off), ~3.6 MiB, data loaded,\n",
      " 'left_hand': 7\n",
      " 'right_hand': 8>\n",
      "  warn(f\"warnEpochs {epochs}\")\n",
      "/Brain/private/y17eloua/env_fsreve/lib/python3.12/site-packages/moabb/datasets/preprocessing.py:278: UserWarning: warnEpochs <Epochs | 15 events (all good), 0.5 – 3.5 s (baseline off), ~3.6 MiB, data loaded,\n",
      " 'left_hand': 8\n",
      " 'right_hand': 7>\n",
      "  warn(f\"warnEpochs {epochs}\")\n"
     ]
    },
    {
     "name": "stdout",
     "output_type": "stream",
     "text": [
      "Used Annotations descriptions: ['left_hand', 'rest', 'right_hand']\n",
      "Used Annotations descriptions: ['left_hand', 'rest', 'right_hand']\n",
      "Used Annotations descriptions: ['left_hand', 'rest', 'right_hand']\n",
      "Used Annotations descriptions: ['feet', 'hands', 'rest']\n",
      "Used Annotations descriptions: ['feet', 'hands', 'rest']\n",
      "Used Annotations descriptions: ['feet', 'hands', 'rest']\n"
     ]
    },
    {
     "name": "stderr",
     "output_type": "stream",
     "text": [
      "/Brain/private/y17eloua/env_fsreve/lib/python3.12/site-packages/moabb/datasets/preprocessing.py:278: UserWarning: warnEpochs <Epochs | 15 events (all good), 0.5 – 3.5 s (baseline off), ~3.6 MiB, data loaded,\n",
      " 'left_hand': 8\n",
      " 'right_hand': 7>\n",
      "  warn(f\"warnEpochs {epochs}\")\n",
      "/Brain/private/y17eloua/env_fsreve/lib/python3.12/site-packages/moabb/datasets/preprocessing.py:278: UserWarning: warnEpochs <Epochs | 15 events (all good), 0.5 – 3.5 s (baseline off), ~3.6 MiB, data loaded,\n",
      " 'left_hand': 8\n",
      " 'right_hand': 7>\n",
      "  warn(f\"warnEpochs {epochs}\")\n",
      "/Brain/private/y17eloua/env_fsreve/lib/python3.12/site-packages/moabb/datasets/preprocessing.py:278: UserWarning: warnEpochs <Epochs | 15 events (all good), 0.5 – 3.5 s (baseline off), ~3.6 MiB, data loaded,\n",
      " 'left_hand': 8\n",
      " 'right_hand': 7>\n",
      "  warn(f\"warnEpochs {epochs}\")\n"
     ]
    },
    {
     "name": "stdout",
     "output_type": "stream",
     "text": [
      "Used Annotations descriptions: ['left_hand', 'rest', 'right_hand']\n",
      "Used Annotations descriptions: ['left_hand', 'rest', 'right_hand']\n",
      "Used Annotations descriptions: ['left_hand', 'rest', 'right_hand']\n",
      "Used Annotations descriptions: ['feet', 'hands', 'rest']\n",
      "Used Annotations descriptions: ['feet', 'hands', 'rest']\n",
      "Used Annotations descriptions: ['feet', 'hands', 'rest']\n"
     ]
    },
    {
     "name": "stderr",
     "output_type": "stream",
     "text": [
      "/Brain/private/y17eloua/env_fsreve/lib/python3.12/site-packages/moabb/datasets/preprocessing.py:278: UserWarning: warnEpochs <Epochs | 15 events (all good), 0.5 – 3.5 s (baseline off), ~3.6 MiB, data loaded,\n",
      " 'left_hand': 8\n",
      " 'right_hand': 7>\n",
      "  warn(f\"warnEpochs {epochs}\")\n",
      "/Brain/private/y17eloua/env_fsreve/lib/python3.12/site-packages/moabb/datasets/preprocessing.py:278: UserWarning: warnEpochs <Epochs | 15 events (all good), 0.5 – 3.5 s (baseline off), ~3.6 MiB, data loaded,\n",
      " 'left_hand': 7\n",
      " 'right_hand': 8>\n",
      "  warn(f\"warnEpochs {epochs}\")\n",
      "/Brain/private/y17eloua/env_fsreve/lib/python3.12/site-packages/moabb/datasets/preprocessing.py:278: UserWarning: warnEpochs <Epochs | 15 events (all good), 0.5 – 3.5 s (baseline off), ~3.6 MiB, data loaded,\n",
      " 'left_hand': 7\n",
      " 'right_hand': 8>\n",
      "  warn(f\"warnEpochs {epochs}\")\n"
     ]
    },
    {
     "name": "stdout",
     "output_type": "stream",
     "text": [
      "Used Annotations descriptions: ['left_hand', 'rest', 'right_hand']\n",
      "Used Annotations descriptions: ['left_hand', 'rest', 'right_hand']\n",
      "Used Annotations descriptions: ['left_hand', 'rest', 'right_hand']\n",
      "Used Annotations descriptions: ['feet', 'hands', 'rest']\n",
      "Used Annotations descriptions: ['feet', 'hands', 'rest']\n",
      "Used Annotations descriptions: ['feet', 'hands', 'rest']\n"
     ]
    },
    {
     "name": "stderr",
     "output_type": "stream",
     "text": [
      "/Brain/private/y17eloua/env_fsreve/lib/python3.12/site-packages/moabb/datasets/preprocessing.py:278: UserWarning: warnEpochs <Epochs | 15 events (all good), 0.5 – 3.5 s (baseline off), ~3.6 MiB, data loaded,\n",
      " 'left_hand': 7\n",
      " 'right_hand': 8>\n",
      "  warn(f\"warnEpochs {epochs}\")\n",
      "/Brain/private/y17eloua/env_fsreve/lib/python3.12/site-packages/moabb/datasets/preprocessing.py:278: UserWarning: warnEpochs <Epochs | 15 events (all good), 0.5 – 3.5 s (baseline off), ~3.6 MiB, data loaded,\n",
      " 'left_hand': 8\n",
      " 'right_hand': 7>\n",
      "  warn(f\"warnEpochs {epochs}\")\n",
      "/Brain/private/y17eloua/env_fsreve/lib/python3.12/site-packages/moabb/datasets/preprocessing.py:278: UserWarning: warnEpochs <Epochs | 15 events (all good), 0.5 – 3.5 s (baseline off), ~3.6 MiB, data loaded,\n",
      " 'left_hand': 8\n",
      " 'right_hand': 7>\n",
      "  warn(f\"warnEpochs {epochs}\")\n"
     ]
    },
    {
     "name": "stdout",
     "output_type": "stream",
     "text": [
      "Used Annotations descriptions: ['left_hand', 'rest', 'right_hand']\n",
      "Used Annotations descriptions: ['left_hand', 'rest', 'right_hand']\n",
      "Used Annotations descriptions: ['left_hand', 'rest', 'right_hand']\n",
      "Used Annotations descriptions: ['feet', 'hands', 'rest']\n",
      "Used Annotations descriptions: ['feet', 'hands', 'rest']\n",
      "Used Annotations descriptions: ['feet', 'hands', 'rest']\n"
     ]
    },
    {
     "name": "stderr",
     "output_type": "stream",
     "text": [
      "/Brain/private/y17eloua/env_fsreve/lib/python3.12/site-packages/moabb/datasets/preprocessing.py:278: UserWarning: warnEpochs <Epochs | 15 events (all good), 0.5 – 3.5 s (baseline off), ~3.6 MiB, data loaded,\n",
      " 'left_hand': 7\n",
      " 'right_hand': 8>\n",
      "  warn(f\"warnEpochs {epochs}\")\n",
      "/Brain/private/y17eloua/env_fsreve/lib/python3.12/site-packages/moabb/datasets/preprocessing.py:278: UserWarning: warnEpochs <Epochs | 15 events (all good), 0.5 – 3.5 s (baseline off), ~3.6 MiB, data loaded,\n",
      " 'left_hand': 8\n",
      " 'right_hand': 7>\n",
      "  warn(f\"warnEpochs {epochs}\")\n",
      "/Brain/private/y17eloua/env_fsreve/lib/python3.12/site-packages/moabb/datasets/preprocessing.py:278: UserWarning: warnEpochs <Epochs | 15 events (all good), 0.5 – 3.5 s (baseline off), ~3.6 MiB, data loaded,\n",
      " 'left_hand': 8\n",
      " 'right_hand': 7>\n",
      "  warn(f\"warnEpochs {epochs}\")\n"
     ]
    },
    {
     "name": "stdout",
     "output_type": "stream",
     "text": [
      "Used Annotations descriptions: ['left_hand', 'rest', 'right_hand']\n",
      "Used Annotations descriptions: ['left_hand', 'rest', 'right_hand']\n",
      "Used Annotations descriptions: ['left_hand', 'rest', 'right_hand']\n",
      "Used Annotations descriptions: ['feet', 'hands', 'rest']\n",
      "Used Annotations descriptions: ['feet', 'hands', 'rest']\n",
      "Used Annotations descriptions: ['feet', 'hands', 'rest']\n"
     ]
    },
    {
     "name": "stderr",
     "output_type": "stream",
     "text": [
      "/Brain/private/y17eloua/env_fsreve/lib/python3.12/site-packages/moabb/datasets/preprocessing.py:278: UserWarning: warnEpochs <Epochs | 15 events (all good), 0.5 – 3.5 s (baseline off), ~3.6 MiB, data loaded,\n",
      " 'left_hand': 8\n",
      " 'right_hand': 7>\n",
      "  warn(f\"warnEpochs {epochs}\")\n",
      "/Brain/private/y17eloua/env_fsreve/lib/python3.12/site-packages/moabb/datasets/preprocessing.py:278: UserWarning: warnEpochs <Epochs | 15 events (all good), 0.5 – 3.5 s (baseline off), ~3.6 MiB, data loaded,\n",
      " 'left_hand': 8\n",
      " 'right_hand': 7>\n",
      "  warn(f\"warnEpochs {epochs}\")\n",
      "/Brain/private/y17eloua/env_fsreve/lib/python3.12/site-packages/moabb/datasets/preprocessing.py:278: UserWarning: warnEpochs <Epochs | 15 events (all good), 0.5 – 3.5 s (baseline off), ~3.6 MiB, data loaded,\n",
      " 'left_hand': 8\n",
      " 'right_hand': 7>\n",
      "  warn(f\"warnEpochs {epochs}\")\n"
     ]
    },
    {
     "name": "stdout",
     "output_type": "stream",
     "text": [
      "Used Annotations descriptions: ['left_hand', 'rest', 'right_hand']\n",
      "Used Annotations descriptions: ['left_hand', 'rest', 'right_hand']\n",
      "Used Annotations descriptions: ['left_hand', 'rest', 'right_hand']\n",
      "Used Annotations descriptions: ['feet', 'hands', 'rest']\n",
      "Used Annotations descriptions: ['feet', 'hands', 'rest']\n",
      "Used Annotations descriptions: ['feet', 'hands', 'rest']\n"
     ]
    },
    {
     "name": "stderr",
     "output_type": "stream",
     "text": [
      "/Brain/private/y17eloua/env_fsreve/lib/python3.12/site-packages/moabb/datasets/preprocessing.py:278: UserWarning: warnEpochs <Epochs | 15 events (all good), 0.5 – 3.5 s (baseline off), ~3.6 MiB, data loaded,\n",
      " 'left_hand': 8\n",
      " 'right_hand': 7>\n",
      "  warn(f\"warnEpochs {epochs}\")\n",
      "/Brain/private/y17eloua/env_fsreve/lib/python3.12/site-packages/moabb/datasets/preprocessing.py:278: UserWarning: warnEpochs <Epochs | 15 events (all good), 0.5 – 3.5 s (baseline off), ~3.6 MiB, data loaded,\n",
      " 'left_hand': 8\n",
      " 'right_hand': 7>\n",
      "  warn(f\"warnEpochs {epochs}\")\n",
      "/Brain/private/y17eloua/env_fsreve/lib/python3.12/site-packages/moabb/datasets/preprocessing.py:278: UserWarning: warnEpochs <Epochs | 15 events (all good), 0.5 – 3.5 s (baseline off), ~3.6 MiB, data loaded,\n",
      " 'left_hand': 8\n",
      " 'right_hand': 7>\n",
      "  warn(f\"warnEpochs {epochs}\")\n"
     ]
    },
    {
     "name": "stdout",
     "output_type": "stream",
     "text": [
      "Used Annotations descriptions: ['left_hand', 'rest', 'right_hand']\n",
      "Used Annotations descriptions: ['left_hand', 'rest', 'right_hand']\n",
      "Used Annotations descriptions: ['left_hand', 'rest', 'right_hand']\n",
      "Used Annotations descriptions: ['feet', 'hands', 'rest']\n",
      "Used Annotations descriptions: ['feet', 'hands', 'rest']\n",
      "Used Annotations descriptions: ['feet', 'hands', 'rest']\n"
     ]
    },
    {
     "name": "stderr",
     "output_type": "stream",
     "text": [
      "/Brain/private/y17eloua/env_fsreve/lib/python3.12/site-packages/moabb/datasets/preprocessing.py:278: UserWarning: warnEpochs <Epochs | 15 events (all good), 0.5 – 3.5 s (baseline off), ~3.6 MiB, data loaded,\n",
      " 'left_hand': 7\n",
      " 'right_hand': 8>\n",
      "  warn(f\"warnEpochs {epochs}\")\n",
      "/Brain/private/y17eloua/env_fsreve/lib/python3.12/site-packages/moabb/datasets/preprocessing.py:278: UserWarning: warnEpochs <Epochs | 15 events (all good), 0.5 – 3.5 s (baseline off), ~3.6 MiB, data loaded,\n",
      " 'left_hand': 7\n",
      " 'right_hand': 8>\n",
      "  warn(f\"warnEpochs {epochs}\")\n",
      "/Brain/private/y17eloua/env_fsreve/lib/python3.12/site-packages/moabb/datasets/preprocessing.py:278: UserWarning: warnEpochs <Epochs | 15 events (all good), 0.5 – 3.5 s (baseline off), ~3.6 MiB, data loaded,\n",
      " 'left_hand': 8\n",
      " 'right_hand': 7>\n",
      "  warn(f\"warnEpochs {epochs}\")\n"
     ]
    },
    {
     "name": "stdout",
     "output_type": "stream",
     "text": [
      "Used Annotations descriptions: ['left_hand', 'rest', 'right_hand']\n",
      "Used Annotations descriptions: ['left_hand', 'rest', 'right_hand']\n",
      "Used Annotations descriptions: ['left_hand', 'rest', 'right_hand']\n",
      "Used Annotations descriptions: ['feet', 'hands', 'rest']\n",
      "Used Annotations descriptions: ['feet', 'hands', 'rest']\n",
      "Used Annotations descriptions: ['feet', 'hands', 'rest']\n"
     ]
    },
    {
     "name": "stderr",
     "output_type": "stream",
     "text": [
      "/Brain/private/y17eloua/env_fsreve/lib/python3.12/site-packages/moabb/datasets/preprocessing.py:278: UserWarning: warnEpochs <Epochs | 15 events (all good), 0.5 – 3.5 s (baseline off), ~3.6 MiB, data loaded,\n",
      " 'left_hand': 8\n",
      " 'right_hand': 7>\n",
      "  warn(f\"warnEpochs {epochs}\")\n",
      "/Brain/private/y17eloua/env_fsreve/lib/python3.12/site-packages/moabb/datasets/preprocessing.py:278: UserWarning: warnEpochs <Epochs | 15 events (all good), 0.5 – 3.5 s (baseline off), ~3.6 MiB, data loaded,\n",
      " 'left_hand': 7\n",
      " 'right_hand': 8>\n",
      "  warn(f\"warnEpochs {epochs}\")\n",
      "/Brain/private/y17eloua/env_fsreve/lib/python3.12/site-packages/moabb/datasets/preprocessing.py:278: UserWarning: warnEpochs <Epochs | 15 events (all good), 0.5 – 3.5 s (baseline off), ~3.6 MiB, data loaded,\n",
      " 'left_hand': 8\n",
      " 'right_hand': 7>\n",
      "  warn(f\"warnEpochs {epochs}\")\n"
     ]
    },
    {
     "name": "stdout",
     "output_type": "stream",
     "text": [
      "Used Annotations descriptions: ['left_hand', 'rest', 'right_hand']\n",
      "Used Annotations descriptions: ['left_hand', 'rest', 'right_hand']\n",
      "Used Annotations descriptions: ['left_hand', 'rest', 'right_hand']\n",
      "Used Annotations descriptions: ['feet', 'hands', 'rest']\n",
      "Used Annotations descriptions: ['feet', 'hands', 'rest']\n",
      "Used Annotations descriptions: ['feet', 'hands', 'rest']\n"
     ]
    },
    {
     "name": "stderr",
     "output_type": "stream",
     "text": [
      "/Brain/private/y17eloua/env_fsreve/lib/python3.12/site-packages/moabb/datasets/preprocessing.py:278: UserWarning: warnEpochs <Epochs | 15 events (all good), 0.5 – 3.5 s (baseline off), ~3.6 MiB, data loaded,\n",
      " 'left_hand': 8\n",
      " 'right_hand': 7>\n",
      "  warn(f\"warnEpochs {epochs}\")\n",
      "/Brain/private/y17eloua/env_fsreve/lib/python3.12/site-packages/moabb/datasets/preprocessing.py:278: UserWarning: warnEpochs <Epochs | 15 events (all good), 0.5 – 3.5 s (baseline off), ~3.6 MiB, data loaded,\n",
      " 'left_hand': 8\n",
      " 'right_hand': 7>\n",
      "  warn(f\"warnEpochs {epochs}\")\n",
      "/Brain/private/y17eloua/env_fsreve/lib/python3.12/site-packages/moabb/datasets/preprocessing.py:278: UserWarning: warnEpochs <Epochs | 15 events (all good), 0.5 – 3.5 s (baseline off), ~3.6 MiB, data loaded,\n",
      " 'left_hand': 7\n",
      " 'right_hand': 8>\n",
      "  warn(f\"warnEpochs {epochs}\")\n"
     ]
    },
    {
     "name": "stdout",
     "output_type": "stream",
     "text": [
      "Used Annotations descriptions: ['left_hand', 'rest', 'right_hand']\n",
      "Used Annotations descriptions: ['left_hand', 'rest', 'right_hand']\n",
      "Used Annotations descriptions: ['left_hand', 'rest', 'right_hand']\n",
      "Used Annotations descriptions: ['feet', 'hands', 'rest']\n",
      "Used Annotations descriptions: ['feet', 'hands', 'rest']\n",
      "Used Annotations descriptions: ['feet', 'hands', 'rest']\n"
     ]
    },
    {
     "name": "stderr",
     "output_type": "stream",
     "text": [
      "/Brain/private/y17eloua/env_fsreve/lib/python3.12/site-packages/moabb/datasets/preprocessing.py:278: UserWarning: warnEpochs <Epochs | 15 events (all good), 0.5 – 3.5 s (baseline off), ~3.6 MiB, data loaded,\n",
      " 'left_hand': 7\n",
      " 'right_hand': 8>\n",
      "  warn(f\"warnEpochs {epochs}\")\n",
      "/Brain/private/y17eloua/env_fsreve/lib/python3.12/site-packages/moabb/datasets/preprocessing.py:278: UserWarning: warnEpochs <Epochs | 15 events (all good), 0.5 – 3.5 s (baseline off), ~3.6 MiB, data loaded,\n",
      " 'left_hand': 7\n",
      " 'right_hand': 8>\n",
      "  warn(f\"warnEpochs {epochs}\")\n",
      "/Brain/private/y17eloua/env_fsreve/lib/python3.12/site-packages/moabb/datasets/preprocessing.py:278: UserWarning: warnEpochs <Epochs | 15 events (all good), 0.5 – 3.5 s (baseline off), ~3.6 MiB, data loaded,\n",
      " 'left_hand': 8\n",
      " 'right_hand': 7>\n",
      "  warn(f\"warnEpochs {epochs}\")\n"
     ]
    },
    {
     "name": "stdout",
     "output_type": "stream",
     "text": [
      "Used Annotations descriptions: ['left_hand', 'rest', 'right_hand']\n",
      "Used Annotations descriptions: ['left_hand', 'rest', 'right_hand']\n",
      "Used Annotations descriptions: ['left_hand', 'rest', 'right_hand']\n",
      "Used Annotations descriptions: ['feet', 'hands', 'rest']\n",
      "Used Annotations descriptions: ['feet', 'hands', 'rest']\n",
      "Used Annotations descriptions: ['feet', 'hands', 'rest']\n"
     ]
    },
    {
     "name": "stderr",
     "output_type": "stream",
     "text": [
      "/Brain/private/y17eloua/env_fsreve/lib/python3.12/site-packages/moabb/datasets/preprocessing.py:278: UserWarning: warnEpochs <Epochs | 15 events (all good), 0.5 – 3.5 s (baseline off), ~3.6 MiB, data loaded,\n",
      " 'left_hand': 8\n",
      " 'right_hand': 7>\n",
      "  warn(f\"warnEpochs {epochs}\")\n",
      "/Brain/private/y17eloua/env_fsreve/lib/python3.12/site-packages/moabb/datasets/preprocessing.py:278: UserWarning: warnEpochs <Epochs | 15 events (all good), 0.5 – 3.5 s (baseline off), ~3.6 MiB, data loaded,\n",
      " 'left_hand': 8\n",
      " 'right_hand': 7>\n",
      "  warn(f\"warnEpochs {epochs}\")\n",
      "/Brain/private/y17eloua/env_fsreve/lib/python3.12/site-packages/moabb/datasets/preprocessing.py:278: UserWarning: warnEpochs <Epochs | 15 events (all good), 0.5 – 3.5 s (baseline off), ~3.6 MiB, data loaded,\n",
      " 'left_hand': 8\n",
      " 'right_hand': 7>\n",
      "  warn(f\"warnEpochs {epochs}\")\n"
     ]
    },
    {
     "name": "stdout",
     "output_type": "stream",
     "text": [
      "Used Annotations descriptions: ['left_hand', 'rest', 'right_hand']\n",
      "Used Annotations descriptions: ['left_hand', 'rest', 'right_hand']\n",
      "Used Annotations descriptions: ['left_hand', 'rest', 'right_hand']\n",
      "Used Annotations descriptions: ['feet', 'hands', 'rest']\n",
      "Used Annotations descriptions: ['feet', 'hands', 'rest']\n",
      "Used Annotations descriptions: ['feet', 'hands', 'rest']\n"
     ]
    },
    {
     "name": "stderr",
     "output_type": "stream",
     "text": [
      "/Brain/private/y17eloua/env_fsreve/lib/python3.12/site-packages/moabb/datasets/preprocessing.py:278: UserWarning: warnEpochs <Epochs | 15 events (all good), 0.5 – 3.5 s (baseline off), ~3.6 MiB, data loaded,\n",
      " 'left_hand': 8\n",
      " 'right_hand': 7>\n",
      "  warn(f\"warnEpochs {epochs}\")\n",
      "/Brain/private/y17eloua/env_fsreve/lib/python3.12/site-packages/moabb/datasets/preprocessing.py:278: UserWarning: warnEpochs <Epochs | 15 events (all good), 0.5 – 3.5 s (baseline off), ~3.6 MiB, data loaded,\n",
      " 'left_hand': 8\n",
      " 'right_hand': 7>\n",
      "  warn(f\"warnEpochs {epochs}\")\n",
      "/Brain/private/y17eloua/env_fsreve/lib/python3.12/site-packages/moabb/datasets/preprocessing.py:278: UserWarning: warnEpochs <Epochs | 15 events (all good), 0.5 – 3.5 s (baseline off), ~3.6 MiB, data loaded,\n",
      " 'left_hand': 8\n",
      " 'right_hand': 7>\n",
      "  warn(f\"warnEpochs {epochs}\")\n"
     ]
    },
    {
     "name": "stdout",
     "output_type": "stream",
     "text": [
      "Used Annotations descriptions: ['left_hand', 'rest', 'right_hand']\n",
      "Used Annotations descriptions: ['left_hand', 'rest', 'right_hand']\n",
      "Used Annotations descriptions: ['left_hand', 'rest', 'right_hand']\n",
      "Used Annotations descriptions: ['feet', 'hands', 'rest']\n",
      "Used Annotations descriptions: ['feet', 'hands', 'rest']\n",
      "Used Annotations descriptions: ['feet', 'hands', 'rest']\n"
     ]
    },
    {
     "name": "stderr",
     "output_type": "stream",
     "text": [
      "/Brain/private/y17eloua/env_fsreve/lib/python3.12/site-packages/moabb/datasets/preprocessing.py:278: UserWarning: warnEpochs <Epochs | 15 events (all good), 0.5 – 3.5 s (baseline off), ~3.6 MiB, data loaded,\n",
      " 'left_hand': 8\n",
      " 'right_hand': 7>\n",
      "  warn(f\"warnEpochs {epochs}\")\n",
      "/Brain/private/y17eloua/env_fsreve/lib/python3.12/site-packages/moabb/datasets/preprocessing.py:278: UserWarning: warnEpochs <Epochs | 15 events (all good), 0.5 – 3.5 s (baseline off), ~3.6 MiB, data loaded,\n",
      " 'left_hand': 8\n",
      " 'right_hand': 7>\n",
      "  warn(f\"warnEpochs {epochs}\")\n",
      "/Brain/private/y17eloua/env_fsreve/lib/python3.12/site-packages/moabb/datasets/preprocessing.py:278: UserWarning: warnEpochs <Epochs | 15 events (all good), 0.5 – 3.5 s (baseline off), ~3.6 MiB, data loaded,\n",
      " 'left_hand': 8\n",
      " 'right_hand': 7>\n",
      "  warn(f\"warnEpochs {epochs}\")\n"
     ]
    },
    {
     "name": "stdout",
     "output_type": "stream",
     "text": [
      "Used Annotations descriptions: ['left_hand', 'rest', 'right_hand']\n",
      "Used Annotations descriptions: ['left_hand', 'rest', 'right_hand']\n",
      "Used Annotations descriptions: ['left_hand', 'rest', 'right_hand']\n",
      "Used Annotations descriptions: ['feet', 'hands', 'rest']\n",
      "Used Annotations descriptions: ['feet', 'hands', 'rest']\n",
      "Used Annotations descriptions: ['feet', 'hands', 'rest']\n"
     ]
    },
    {
     "name": "stderr",
     "output_type": "stream",
     "text": [
      "/Brain/private/y17eloua/env_fsreve/lib/python3.12/site-packages/moabb/datasets/preprocessing.py:278: UserWarning: warnEpochs <Epochs | 15 events (all good), 0.5 – 3.5 s (baseline off), ~3.6 MiB, data loaded,\n",
      " 'left_hand': 7\n",
      " 'right_hand': 8>\n",
      "  warn(f\"warnEpochs {epochs}\")\n",
      "/Brain/private/y17eloua/env_fsreve/lib/python3.12/site-packages/moabb/datasets/preprocessing.py:278: UserWarning: warnEpochs <Epochs | 15 events (all good), 0.5 – 3.5 s (baseline off), ~3.6 MiB, data loaded,\n",
      " 'left_hand': 8\n",
      " 'right_hand': 7>\n",
      "  warn(f\"warnEpochs {epochs}\")\n",
      "/Brain/private/y17eloua/env_fsreve/lib/python3.12/site-packages/moabb/datasets/preprocessing.py:278: UserWarning: warnEpochs <Epochs | 15 events (all good), 0.5 – 3.5 s (baseline off), ~3.6 MiB, data loaded,\n",
      " 'left_hand': 8\n",
      " 'right_hand': 7>\n",
      "  warn(f\"warnEpochs {epochs}\")\n"
     ]
    },
    {
     "name": "stdout",
     "output_type": "stream",
     "text": [
      "Used Annotations descriptions: ['left_hand', 'rest', 'right_hand']\n",
      "Used Annotations descriptions: ['left_hand', 'rest', 'right_hand']\n",
      "Used Annotations descriptions: ['left_hand', 'rest', 'right_hand']\n",
      "Used Annotations descriptions: ['feet', 'hands', 'rest']\n",
      "Used Annotations descriptions: ['feet', 'hands', 'rest']\n",
      "Used Annotations descriptions: ['feet', 'hands', 'rest']\n"
     ]
    },
    {
     "name": "stderr",
     "output_type": "stream",
     "text": [
      "/Brain/private/y17eloua/env_fsreve/lib/python3.12/site-packages/moabb/datasets/preprocessing.py:278: UserWarning: warnEpochs <Epochs | 15 events (all good), 0.5 – 3.5 s (baseline off), ~3.6 MiB, data loaded,\n",
      " 'left_hand': 7\n",
      " 'right_hand': 8>\n",
      "  warn(f\"warnEpochs {epochs}\")\n",
      "/Brain/private/y17eloua/env_fsreve/lib/python3.12/site-packages/moabb/datasets/preprocessing.py:278: UserWarning: warnEpochs <Epochs | 15 events (all good), 0.5 – 3.5 s (baseline off), ~3.6 MiB, data loaded,\n",
      " 'left_hand': 8\n",
      " 'right_hand': 7>\n",
      "  warn(f\"warnEpochs {epochs}\")\n",
      "/Brain/private/y17eloua/env_fsreve/lib/python3.12/site-packages/moabb/datasets/preprocessing.py:278: UserWarning: warnEpochs <Epochs | 15 events (all good), 0.5 – 3.5 s (baseline off), ~3.6 MiB, data loaded,\n",
      " 'left_hand': 7\n",
      " 'right_hand': 8>\n",
      "  warn(f\"warnEpochs {epochs}\")\n"
     ]
    },
    {
     "name": "stdout",
     "output_type": "stream",
     "text": [
      "Used Annotations descriptions: ['left_hand', 'rest', 'right_hand']\n",
      "Used Annotations descriptions: ['left_hand', 'rest', 'right_hand']\n",
      "Used Annotations descriptions: ['left_hand', 'rest', 'right_hand']\n",
      "Used Annotations descriptions: ['feet', 'hands', 'rest']\n",
      "Used Annotations descriptions: ['feet', 'hands', 'rest']\n",
      "Used Annotations descriptions: ['feet', 'hands', 'rest']\n"
     ]
    },
    {
     "name": "stderr",
     "output_type": "stream",
     "text": [
      "/Brain/private/y17eloua/env_fsreve/lib/python3.12/site-packages/moabb/datasets/preprocessing.py:278: UserWarning: warnEpochs <Epochs | 15 events (all good), 0.5 – 3.5 s (baseline off), ~3.6 MiB, data loaded,\n",
      " 'left_hand': 7\n",
      " 'right_hand': 8>\n",
      "  warn(f\"warnEpochs {epochs}\")\n",
      "/Brain/private/y17eloua/env_fsreve/lib/python3.12/site-packages/moabb/datasets/preprocessing.py:278: UserWarning: warnEpochs <Epochs | 15 events (all good), 0.5 – 3.5 s (baseline off), ~3.6 MiB, data loaded,\n",
      " 'left_hand': 8\n",
      " 'right_hand': 7>\n",
      "  warn(f\"warnEpochs {epochs}\")\n",
      "/Brain/private/y17eloua/env_fsreve/lib/python3.12/site-packages/moabb/datasets/preprocessing.py:278: UserWarning: warnEpochs <Epochs | 15 events (all good), 0.5 – 3.5 s (baseline off), ~3.6 MiB, data loaded,\n",
      " 'left_hand': 8\n",
      " 'right_hand': 7>\n",
      "  warn(f\"warnEpochs {epochs}\")\n"
     ]
    },
    {
     "name": "stdout",
     "output_type": "stream",
     "text": [
      "Used Annotations descriptions: ['left_hand', 'rest', 'right_hand']\n",
      "Used Annotations descriptions: ['left_hand', 'rest', 'right_hand']\n",
      "Used Annotations descriptions: ['left_hand', 'rest', 'right_hand']\n",
      "Used Annotations descriptions: ['feet', 'hands', 'rest']\n",
      "Used Annotations descriptions: ['feet', 'hands', 'rest']\n",
      "Used Annotations descriptions: ['feet', 'hands', 'rest']\n"
     ]
    },
    {
     "name": "stderr",
     "output_type": "stream",
     "text": [
      "/Brain/private/y17eloua/env_fsreve/lib/python3.12/site-packages/moabb/datasets/preprocessing.py:278: UserWarning: warnEpochs <Epochs | 15 events (all good), 0.5 – 3.5 s (baseline off), ~3.6 MiB, data loaded,\n",
      " 'left_hand': 7\n",
      " 'right_hand': 8>\n",
      "  warn(f\"warnEpochs {epochs}\")\n",
      "/Brain/private/y17eloua/env_fsreve/lib/python3.12/site-packages/moabb/datasets/preprocessing.py:278: UserWarning: warnEpochs <Epochs | 15 events (all good), 0.5 – 3.5 s (baseline off), ~3.6 MiB, data loaded,\n",
      " 'left_hand': 7\n",
      " 'right_hand': 8>\n",
      "  warn(f\"warnEpochs {epochs}\")\n",
      "/Brain/private/y17eloua/env_fsreve/lib/python3.12/site-packages/moabb/datasets/preprocessing.py:278: UserWarning: warnEpochs <Epochs | 15 events (all good), 0.5 – 3.5 s (baseline off), ~3.6 MiB, data loaded,\n",
      " 'left_hand': 8\n",
      " 'right_hand': 7>\n",
      "  warn(f\"warnEpochs {epochs}\")\n"
     ]
    },
    {
     "name": "stdout",
     "output_type": "stream",
     "text": [
      "Used Annotations descriptions: ['left_hand', 'rest', 'right_hand']\n",
      "Used Annotations descriptions: ['left_hand', 'rest', 'right_hand']\n",
      "Used Annotations descriptions: ['left_hand', 'rest', 'right_hand']\n",
      "Used Annotations descriptions: ['feet', 'hands', 'rest']\n",
      "Used Annotations descriptions: ['feet', 'hands', 'rest']\n",
      "Used Annotations descriptions: ['feet', 'hands', 'rest']\n"
     ]
    },
    {
     "name": "stderr",
     "output_type": "stream",
     "text": [
      "/Brain/private/y17eloua/env_fsreve/lib/python3.12/site-packages/moabb/datasets/preprocessing.py:278: UserWarning: warnEpochs <Epochs | 15 events (all good), 0.5 – 3.5 s (baseline off), ~3.6 MiB, data loaded,\n",
      " 'left_hand': 8\n",
      " 'right_hand': 7>\n",
      "  warn(f\"warnEpochs {epochs}\")\n",
      "/Brain/private/y17eloua/env_fsreve/lib/python3.12/site-packages/moabb/datasets/preprocessing.py:278: UserWarning: warnEpochs <Epochs | 15 events (all good), 0.5 – 3.5 s (baseline off), ~3.6 MiB, data loaded,\n",
      " 'left_hand': 8\n",
      " 'right_hand': 7>\n",
      "  warn(f\"warnEpochs {epochs}\")\n",
      "/Brain/private/y17eloua/env_fsreve/lib/python3.12/site-packages/moabb/datasets/preprocessing.py:278: UserWarning: warnEpochs <Epochs | 15 events (all good), 0.5 – 3.5 s (baseline off), ~3.6 MiB, data loaded,\n",
      " 'left_hand': 7\n",
      " 'right_hand': 8>\n",
      "  warn(f\"warnEpochs {epochs}\")\n"
     ]
    },
    {
     "name": "stdout",
     "output_type": "stream",
     "text": [
      "Used Annotations descriptions: ['left_hand', 'rest', 'right_hand']\n",
      "Used Annotations descriptions: ['left_hand', 'rest', 'right_hand']\n",
      "Used Annotations descriptions: ['left_hand', 'rest', 'right_hand']\n",
      "Used Annotations descriptions: ['feet', 'hands', 'rest']\n",
      "Used Annotations descriptions: ['feet', 'hands', 'rest']\n",
      "Used Annotations descriptions: ['feet', 'hands', 'rest']\n"
     ]
    },
    {
     "name": "stderr",
     "output_type": "stream",
     "text": [
      "/Brain/private/y17eloua/env_fsreve/lib/python3.12/site-packages/moabb/datasets/preprocessing.py:278: UserWarning: warnEpochs <Epochs | 15 events (all good), 0.5 – 3.5 s (baseline off), ~3.6 MiB, data loaded,\n",
      " 'left_hand': 8\n",
      " 'right_hand': 7>\n",
      "  warn(f\"warnEpochs {epochs}\")\n",
      "/Brain/private/y17eloua/env_fsreve/lib/python3.12/site-packages/moabb/datasets/preprocessing.py:278: UserWarning: warnEpochs <Epochs | 15 events (all good), 0.5 – 3.5 s (baseline off), ~3.6 MiB, data loaded,\n",
      " 'left_hand': 8\n",
      " 'right_hand': 7>\n",
      "  warn(f\"warnEpochs {epochs}\")\n",
      "/Brain/private/y17eloua/env_fsreve/lib/python3.12/site-packages/moabb/datasets/preprocessing.py:278: UserWarning: warnEpochs <Epochs | 15 events (all good), 0.5 – 3.5 s (baseline off), ~3.6 MiB, data loaded,\n",
      " 'left_hand': 8\n",
      " 'right_hand': 7>\n",
      "  warn(f\"warnEpochs {epochs}\")\n"
     ]
    },
    {
     "name": "stdout",
     "output_type": "stream",
     "text": [
      "Used Annotations descriptions: ['left_hand', 'rest', 'right_hand']\n",
      "Used Annotations descriptions: ['left_hand', 'rest', 'right_hand']\n",
      "Used Annotations descriptions: ['left_hand', 'rest', 'right_hand']\n",
      "Used Annotations descriptions: ['feet', 'hands', 'rest']\n",
      "Used Annotations descriptions: ['feet', 'hands', 'rest']\n",
      "Used Annotations descriptions: ['feet', 'hands', 'rest']\n"
     ]
    },
    {
     "name": "stderr",
     "output_type": "stream",
     "text": [
      "/Brain/private/y17eloua/env_fsreve/lib/python3.12/site-packages/moabb/datasets/preprocessing.py:278: UserWarning: warnEpochs <Epochs | 15 events (all good), 0.5 – 3.5 s (baseline off), ~3.6 MiB, data loaded,\n",
      " 'left_hand': 7\n",
      " 'right_hand': 8>\n",
      "  warn(f\"warnEpochs {epochs}\")\n",
      "/Brain/private/y17eloua/env_fsreve/lib/python3.12/site-packages/moabb/datasets/preprocessing.py:278: UserWarning: warnEpochs <Epochs | 15 events (all good), 0.5 – 3.5 s (baseline off), ~3.6 MiB, data loaded,\n",
      " 'left_hand': 8\n",
      " 'right_hand': 7>\n",
      "  warn(f\"warnEpochs {epochs}\")\n",
      "/Brain/private/y17eloua/env_fsreve/lib/python3.12/site-packages/moabb/datasets/preprocessing.py:278: UserWarning: warnEpochs <Epochs | 15 events (all good), 0.5 – 3.5 s (baseline off), ~3.6 MiB, data loaded,\n",
      " 'left_hand': 7\n",
      " 'right_hand': 8>\n",
      "  warn(f\"warnEpochs {epochs}\")\n"
     ]
    },
    {
     "name": "stdout",
     "output_type": "stream",
     "text": [
      "Used Annotations descriptions: ['left_hand', 'rest', 'right_hand']\n",
      "Used Annotations descriptions: ['left_hand', 'rest', 'right_hand']\n",
      "Used Annotations descriptions: ['left_hand', 'rest', 'right_hand']\n",
      "Used Annotations descriptions: ['feet', 'hands', 'rest']\n",
      "Used Annotations descriptions: ['feet', 'hands', 'rest']\n",
      "Used Annotations descriptions: ['feet', 'hands', 'rest']\n"
     ]
    },
    {
     "name": "stderr",
     "output_type": "stream",
     "text": [
      "/Brain/private/y17eloua/env_fsreve/lib/python3.12/site-packages/moabb/datasets/preprocessing.py:278: UserWarning: warnEpochs <Epochs | 15 events (all good), 0.5 – 3.5 s (baseline off), ~3.6 MiB, data loaded,\n",
      " 'left_hand': 8\n",
      " 'right_hand': 7>\n",
      "  warn(f\"warnEpochs {epochs}\")\n",
      "/Brain/private/y17eloua/env_fsreve/lib/python3.12/site-packages/moabb/datasets/preprocessing.py:278: UserWarning: warnEpochs <Epochs | 15 events (all good), 0.5 – 3.5 s (baseline off), ~3.6 MiB, data loaded,\n",
      " 'left_hand': 7\n",
      " 'right_hand': 8>\n",
      "  warn(f\"warnEpochs {epochs}\")\n",
      "/Brain/private/y17eloua/env_fsreve/lib/python3.12/site-packages/moabb/datasets/preprocessing.py:278: UserWarning: warnEpochs <Epochs | 15 events (all good), 0.5 – 3.5 s (baseline off), ~3.6 MiB, data loaded,\n",
      " 'left_hand': 7\n",
      " 'right_hand': 8>\n",
      "  warn(f\"warnEpochs {epochs}\")\n"
     ]
    },
    {
     "name": "stdout",
     "output_type": "stream",
     "text": [
      "Used Annotations descriptions: ['left_hand', 'rest', 'right_hand']\n",
      "Used Annotations descriptions: ['left_hand', 'rest', 'right_hand']\n",
      "Used Annotations descriptions: ['left_hand', 'rest', 'right_hand']\n",
      "Used Annotations descriptions: ['feet', 'hands', 'rest']\n",
      "Used Annotations descriptions: ['feet', 'hands', 'rest']\n",
      "Used Annotations descriptions: ['feet', 'hands', 'rest']\n"
     ]
    },
    {
     "name": "stderr",
     "output_type": "stream",
     "text": [
      "/Brain/private/y17eloua/env_fsreve/lib/python3.12/site-packages/moabb/datasets/preprocessing.py:278: UserWarning: warnEpochs <Epochs | 15 events (all good), 0.5 – 3.5 s (baseline off), ~3.6 MiB, data loaded,\n",
      " 'left_hand': 8\n",
      " 'right_hand': 7>\n",
      "  warn(f\"warnEpochs {epochs}\")\n",
      "/Brain/private/y17eloua/env_fsreve/lib/python3.12/site-packages/moabb/datasets/preprocessing.py:278: UserWarning: warnEpochs <Epochs | 15 events (all good), 0.5 – 3.5 s (baseline off), ~3.6 MiB, data loaded,\n",
      " 'left_hand': 7\n",
      " 'right_hand': 8>\n",
      "  warn(f\"warnEpochs {epochs}\")\n",
      "/Brain/private/y17eloua/env_fsreve/lib/python3.12/site-packages/moabb/datasets/preprocessing.py:278: UserWarning: warnEpochs <Epochs | 15 events (all good), 0.5 – 3.5 s (baseline off), ~3.6 MiB, data loaded,\n",
      " 'left_hand': 7\n",
      " 'right_hand': 8>\n",
      "  warn(f\"warnEpochs {epochs}\")\n"
     ]
    },
    {
     "name": "stdout",
     "output_type": "stream",
     "text": [
      "Used Annotations descriptions: ['left_hand', 'rest', 'right_hand']\n",
      "Used Annotations descriptions: ['left_hand', 'rest', 'right_hand']\n",
      "Used Annotations descriptions: ['left_hand', 'rest', 'right_hand']\n",
      "Used Annotations descriptions: ['feet', 'hands', 'rest']\n",
      "Used Annotations descriptions: ['feet', 'hands', 'rest']\n",
      "Used Annotations descriptions: ['feet', 'hands', 'rest']\n"
     ]
    },
    {
     "name": "stderr",
     "output_type": "stream",
     "text": [
      "/Brain/private/y17eloua/env_fsreve/lib/python3.12/site-packages/moabb/datasets/preprocessing.py:278: UserWarning: warnEpochs <Epochs | 15 events (all good), 0.5 – 3.5 s (baseline off), ~3.6 MiB, data loaded,\n",
      " 'left_hand': 8\n",
      " 'right_hand': 7>\n",
      "  warn(f\"warnEpochs {epochs}\")\n",
      "/Brain/private/y17eloua/env_fsreve/lib/python3.12/site-packages/moabb/datasets/preprocessing.py:278: UserWarning: warnEpochs <Epochs | 15 events (all good), 0.5 – 3.5 s (baseline off), ~3.6 MiB, data loaded,\n",
      " 'left_hand': 8\n",
      " 'right_hand': 7>\n",
      "  warn(f\"warnEpochs {epochs}\")\n",
      "/Brain/private/y17eloua/env_fsreve/lib/python3.12/site-packages/moabb/datasets/preprocessing.py:278: UserWarning: warnEpochs <Epochs | 15 events (all good), 0.5 – 3.5 s (baseline off), ~3.6 MiB, data loaded,\n",
      " 'left_hand': 8\n",
      " 'right_hand': 7>\n",
      "  warn(f\"warnEpochs {epochs}\")\n"
     ]
    },
    {
     "name": "stdout",
     "output_type": "stream",
     "text": [
      "Used Annotations descriptions: ['left_hand', 'rest', 'right_hand']\n",
      "Used Annotations descriptions: ['left_hand', 'rest', 'right_hand']\n",
      "Used Annotations descriptions: ['left_hand', 'rest', 'right_hand']\n",
      "Used Annotations descriptions: ['feet', 'hands', 'rest']\n",
      "Used Annotations descriptions: ['feet', 'hands', 'rest']\n",
      "Used Annotations descriptions: ['feet', 'hands', 'rest']\n"
     ]
    },
    {
     "name": "stderr",
     "output_type": "stream",
     "text": [
      "/Brain/private/y17eloua/env_fsreve/lib/python3.12/site-packages/moabb/datasets/preprocessing.py:278: UserWarning: warnEpochs <Epochs | 15 events (all good), 0.5 – 3.5 s (baseline off), ~3.6 MiB, data loaded,\n",
      " 'left_hand': 7\n",
      " 'right_hand': 8>\n",
      "  warn(f\"warnEpochs {epochs}\")\n",
      "/Brain/private/y17eloua/env_fsreve/lib/python3.12/site-packages/moabb/datasets/preprocessing.py:278: UserWarning: warnEpochs <Epochs | 15 events (all good), 0.5 – 3.5 s (baseline off), ~3.6 MiB, data loaded,\n",
      " 'left_hand': 8\n",
      " 'right_hand': 7>\n",
      "  warn(f\"warnEpochs {epochs}\")\n",
      "/Brain/private/y17eloua/env_fsreve/lib/python3.12/site-packages/moabb/datasets/preprocessing.py:278: UserWarning: warnEpochs <Epochs | 15 events (all good), 0.5 – 3.5 s (baseline off), ~3.6 MiB, data loaded,\n",
      " 'left_hand': 7\n",
      " 'right_hand': 8>\n",
      "  warn(f\"warnEpochs {epochs}\")\n"
     ]
    },
    {
     "name": "stdout",
     "output_type": "stream",
     "text": [
      "Used Annotations descriptions: ['left_hand', 'rest', 'right_hand']\n",
      "Used Annotations descriptions: ['left_hand', 'rest', 'right_hand']\n",
      "Used Annotations descriptions: ['left_hand', 'rest', 'right_hand']\n",
      "Used Annotations descriptions: ['feet', 'hands', 'rest']\n",
      "Used Annotations descriptions: ['feet', 'hands', 'rest']\n",
      "Used Annotations descriptions: ['feet', 'hands', 'rest']\n"
     ]
    },
    {
     "name": "stderr",
     "output_type": "stream",
     "text": [
      "/Brain/private/y17eloua/env_fsreve/lib/python3.12/site-packages/moabb/datasets/preprocessing.py:278: UserWarning: warnEpochs <Epochs | 15 events (all good), 0.5 – 3.5 s (baseline off), ~3.6 MiB, data loaded,\n",
      " 'left_hand': 8\n",
      " 'right_hand': 7>\n",
      "  warn(f\"warnEpochs {epochs}\")\n",
      "/Brain/private/y17eloua/env_fsreve/lib/python3.12/site-packages/moabb/datasets/preprocessing.py:278: UserWarning: warnEpochs <Epochs | 15 events (all good), 0.5 – 3.5 s (baseline off), ~3.6 MiB, data loaded,\n",
      " 'left_hand': 7\n",
      " 'right_hand': 8>\n",
      "  warn(f\"warnEpochs {epochs}\")\n",
      "/Brain/private/y17eloua/env_fsreve/lib/python3.12/site-packages/moabb/datasets/preprocessing.py:278: UserWarning: warnEpochs <Epochs | 15 events (all good), 0.5 – 3.5 s (baseline off), ~3.6 MiB, data loaded,\n",
      " 'left_hand': 7\n",
      " 'right_hand': 8>\n",
      "  warn(f\"warnEpochs {epochs}\")\n"
     ]
    },
    {
     "name": "stdout",
     "output_type": "stream",
     "text": [
      "Used Annotations descriptions: ['left_hand', 'rest', 'right_hand']\n",
      "Used Annotations descriptions: ['left_hand', 'rest', 'right_hand']\n",
      "Used Annotations descriptions: ['left_hand', 'rest', 'right_hand']\n",
      "Used Annotations descriptions: ['feet', 'hands', 'rest']\n",
      "Used Annotations descriptions: ['feet', 'hands', 'rest']\n",
      "Used Annotations descriptions: ['feet', 'hands', 'rest']\n"
     ]
    },
    {
     "name": "stderr",
     "output_type": "stream",
     "text": [
      "/Brain/private/y17eloua/env_fsreve/lib/python3.12/site-packages/moabb/datasets/preprocessing.py:278: UserWarning: warnEpochs <Epochs | 15 events (all good), 0.5 – 3.5 s (baseline off), ~3.6 MiB, data loaded,\n",
      " 'left_hand': 7\n",
      " 'right_hand': 8>\n",
      "  warn(f\"warnEpochs {epochs}\")\n",
      "/Brain/private/y17eloua/env_fsreve/lib/python3.12/site-packages/moabb/datasets/preprocessing.py:278: UserWarning: warnEpochs <Epochs | 15 events (all good), 0.5 – 3.5 s (baseline off), ~3.6 MiB, data loaded,\n",
      " 'left_hand': 7\n",
      " 'right_hand': 8>\n",
      "  warn(f\"warnEpochs {epochs}\")\n",
      "/Brain/private/y17eloua/env_fsreve/lib/python3.12/site-packages/moabb/datasets/preprocessing.py:278: UserWarning: warnEpochs <Epochs | 15 events (all good), 0.5 – 3.5 s (baseline off), ~3.6 MiB, data loaded,\n",
      " 'left_hand': 8\n",
      " 'right_hand': 7>\n",
      "  warn(f\"warnEpochs {epochs}\")\n"
     ]
    },
    {
     "name": "stdout",
     "output_type": "stream",
     "text": [
      "Used Annotations descriptions: ['left_hand', 'rest', 'right_hand']\n",
      "Used Annotations descriptions: ['left_hand', 'rest', 'right_hand']\n",
      "Used Annotations descriptions: ['left_hand', 'rest', 'right_hand']\n",
      "Used Annotations descriptions: ['feet', 'hands', 'rest']\n",
      "Used Annotations descriptions: ['feet', 'hands', 'rest']\n",
      "Used Annotations descriptions: ['feet', 'hands', 'rest']\n"
     ]
    },
    {
     "name": "stderr",
     "output_type": "stream",
     "text": [
      "/Brain/private/y17eloua/env_fsreve/lib/python3.12/site-packages/moabb/datasets/preprocessing.py:278: UserWarning: warnEpochs <Epochs | 15 events (all good), 0.5 – 3.5 s (baseline off), ~3.6 MiB, data loaded,\n",
      " 'left_hand': 8\n",
      " 'right_hand': 7>\n",
      "  warn(f\"warnEpochs {epochs}\")\n",
      "/Brain/private/y17eloua/env_fsreve/lib/python3.12/site-packages/moabb/datasets/preprocessing.py:278: UserWarning: warnEpochs <Epochs | 15 events (all good), 0.5 – 3.5 s (baseline off), ~3.6 MiB, data loaded,\n",
      " 'left_hand': 8\n",
      " 'right_hand': 7>\n",
      "  warn(f\"warnEpochs {epochs}\")\n",
      "/Brain/private/y17eloua/env_fsreve/lib/python3.12/site-packages/moabb/datasets/preprocessing.py:278: UserWarning: warnEpochs <Epochs | 15 events (all good), 0.5 – 3.5 s (baseline off), ~3.6 MiB, data loaded,\n",
      " 'left_hand': 7\n",
      " 'right_hand': 8>\n",
      "  warn(f\"warnEpochs {epochs}\")\n"
     ]
    },
    {
     "name": "stdout",
     "output_type": "stream",
     "text": [
      "Used Annotations descriptions: ['left_hand', 'rest', 'right_hand']\n",
      "Used Annotations descriptions: ['left_hand', 'rest', 'right_hand']\n",
      "Used Annotations descriptions: ['left_hand', 'rest', 'right_hand']\n",
      "Used Annotations descriptions: ['feet', 'hands', 'rest']\n",
      "Used Annotations descriptions: ['feet', 'hands', 'rest']\n",
      "Used Annotations descriptions: ['feet', 'hands', 'rest']\n"
     ]
    },
    {
     "name": "stderr",
     "output_type": "stream",
     "text": [
      "/Brain/private/y17eloua/env_fsreve/lib/python3.12/site-packages/moabb/datasets/preprocessing.py:278: UserWarning: warnEpochs <Epochs | 15 events (all good), 0.5 – 3.5 s (baseline off), ~3.6 MiB, data loaded,\n",
      " 'left_hand': 8\n",
      " 'right_hand': 7>\n",
      "  warn(f\"warnEpochs {epochs}\")\n",
      "/Brain/private/y17eloua/env_fsreve/lib/python3.12/site-packages/moabb/datasets/preprocessing.py:278: UserWarning: warnEpochs <Epochs | 15 events (all good), 0.5 – 3.5 s (baseline off), ~3.6 MiB, data loaded,\n",
      " 'left_hand': 8\n",
      " 'right_hand': 7>\n",
      "  warn(f\"warnEpochs {epochs}\")\n",
      "/Brain/private/y17eloua/env_fsreve/lib/python3.12/site-packages/moabb/datasets/preprocessing.py:278: UserWarning: warnEpochs <Epochs | 15 events (all good), 0.5 – 3.5 s (baseline off), ~3.6 MiB, data loaded,\n",
      " 'left_hand': 8\n",
      " 'right_hand': 7>\n",
      "  warn(f\"warnEpochs {epochs}\")\n"
     ]
    },
    {
     "name": "stdout",
     "output_type": "stream",
     "text": [
      "Used Annotations descriptions: ['left_hand', 'rest', 'right_hand']\n",
      "Used Annotations descriptions: ['left_hand', 'rest', 'right_hand']\n",
      "Used Annotations descriptions: ['left_hand', 'rest', 'right_hand']\n",
      "Used Annotations descriptions: ['feet', 'hands', 'rest']\n",
      "Used Annotations descriptions: ['feet', 'hands', 'rest']\n",
      "Used Annotations descriptions: ['feet', 'hands', 'rest']\n"
     ]
    },
    {
     "name": "stderr",
     "output_type": "stream",
     "text": [
      "/Brain/private/y17eloua/env_fsreve/lib/python3.12/site-packages/moabb/datasets/preprocessing.py:278: UserWarning: warnEpochs <Epochs | 15 events (all good), 0.5 – 3.5 s (baseline off), ~3.6 MiB, data loaded,\n",
      " 'left_hand': 7\n",
      " 'right_hand': 8>\n",
      "  warn(f\"warnEpochs {epochs}\")\n",
      "/Brain/private/y17eloua/env_fsreve/lib/python3.12/site-packages/moabb/datasets/preprocessing.py:278: UserWarning: warnEpochs <Epochs | 15 events (all good), 0.5 – 3.5 s (baseline off), ~3.6 MiB, data loaded,\n",
      " 'left_hand': 7\n",
      " 'right_hand': 8>\n",
      "  warn(f\"warnEpochs {epochs}\")\n",
      "/Brain/private/y17eloua/env_fsreve/lib/python3.12/site-packages/moabb/datasets/preprocessing.py:278: UserWarning: warnEpochs <Epochs | 15 events (all good), 0.5 – 3.5 s (baseline off), ~3.6 MiB, data loaded,\n",
      " 'left_hand': 8\n",
      " 'right_hand': 7>\n",
      "  warn(f\"warnEpochs {epochs}\")\n"
     ]
    },
    {
     "name": "stdout",
     "output_type": "stream",
     "text": [
      "Used Annotations descriptions: ['left_hand', 'rest', 'right_hand']\n",
      "Used Annotations descriptions: ['left_hand', 'rest', 'right_hand']\n",
      "Used Annotations descriptions: ['left_hand', 'rest', 'right_hand']\n",
      "Used Annotations descriptions: ['feet', 'hands', 'rest']\n",
      "Used Annotations descriptions: ['feet', 'hands', 'rest']\n",
      "Used Annotations descriptions: ['feet', 'hands', 'rest']\n"
     ]
    },
    {
     "name": "stderr",
     "output_type": "stream",
     "text": [
      "/Brain/private/y17eloua/env_fsreve/lib/python3.12/site-packages/moabb/datasets/preprocessing.py:278: UserWarning: warnEpochs <Epochs | 15 events (all good), 0.5 – 3.5 s (baseline off), ~3.6 MiB, data loaded,\n",
      " 'left_hand': 8\n",
      " 'right_hand': 7>\n",
      "  warn(f\"warnEpochs {epochs}\")\n",
      "/Brain/private/y17eloua/env_fsreve/lib/python3.12/site-packages/moabb/datasets/preprocessing.py:278: UserWarning: warnEpochs <Epochs | 15 events (all good), 0.5 – 3.5 s (baseline off), ~3.6 MiB, data loaded,\n",
      " 'left_hand': 8\n",
      " 'right_hand': 7>\n",
      "  warn(f\"warnEpochs {epochs}\")\n",
      "/Brain/private/y17eloua/env_fsreve/lib/python3.12/site-packages/moabb/datasets/preprocessing.py:278: UserWarning: warnEpochs <Epochs | 15 events (all good), 0.5 – 3.5 s (baseline off), ~3.6 MiB, data loaded,\n",
      " 'left_hand': 7\n",
      " 'right_hand': 8>\n",
      "  warn(f\"warnEpochs {epochs}\")\n"
     ]
    },
    {
     "name": "stdout",
     "output_type": "stream",
     "text": [
      "Used Annotations descriptions: ['left_hand', 'rest', 'right_hand']\n",
      "Used Annotations descriptions: ['left_hand', 'rest', 'right_hand']\n",
      "Used Annotations descriptions: ['left_hand', 'rest', 'right_hand']\n",
      "Used Annotations descriptions: ['feet', 'hands', 'rest']\n",
      "Used Annotations descriptions: ['feet', 'hands', 'rest']\n",
      "Used Annotations descriptions: ['feet', 'hands', 'rest']\n"
     ]
    },
    {
     "name": "stderr",
     "output_type": "stream",
     "text": [
      "/Brain/private/y17eloua/env_fsreve/lib/python3.12/site-packages/moabb/datasets/preprocessing.py:278: UserWarning: warnEpochs <Epochs | 15 events (all good), 0.5 – 3.5 s (baseline off), ~3.6 MiB, data loaded,\n",
      " 'left_hand': 7\n",
      " 'right_hand': 8>\n",
      "  warn(f\"warnEpochs {epochs}\")\n",
      "/Brain/private/y17eloua/env_fsreve/lib/python3.12/site-packages/moabb/datasets/preprocessing.py:278: UserWarning: warnEpochs <Epochs | 15 events (all good), 0.5 – 3.5 s (baseline off), ~3.6 MiB, data loaded,\n",
      " 'left_hand': 7\n",
      " 'right_hand': 8>\n",
      "  warn(f\"warnEpochs {epochs}\")\n",
      "/Brain/private/y17eloua/env_fsreve/lib/python3.12/site-packages/moabb/datasets/preprocessing.py:278: UserWarning: warnEpochs <Epochs | 15 events (all good), 0.5 – 3.5 s (baseline off), ~3.6 MiB, data loaded,\n",
      " 'left_hand': 7\n",
      " 'right_hand': 8>\n",
      "  warn(f\"warnEpochs {epochs}\")\n"
     ]
    },
    {
     "name": "stdout",
     "output_type": "stream",
     "text": [
      "Used Annotations descriptions: ['left_hand', 'rest', 'right_hand']\n",
      "Used Annotations descriptions: ['left_hand', 'rest', 'right_hand']\n",
      "Used Annotations descriptions: ['left_hand', 'rest', 'right_hand']\n",
      "Used Annotations descriptions: ['feet', 'hands', 'rest']\n",
      "Used Annotations descriptions: ['feet', 'hands', 'rest']\n",
      "Used Annotations descriptions: ['feet', 'hands', 'rest']\n"
     ]
    },
    {
     "name": "stderr",
     "output_type": "stream",
     "text": [
      "/Brain/private/y17eloua/env_fsreve/lib/python3.12/site-packages/moabb/datasets/preprocessing.py:278: UserWarning: warnEpochs <Epochs | 15 events (all good), 0.5 – 3.5 s (baseline off), ~3.6 MiB, data loaded,\n",
      " 'left_hand': 8\n",
      " 'right_hand': 7>\n",
      "  warn(f\"warnEpochs {epochs}\")\n",
      "/Brain/private/y17eloua/env_fsreve/lib/python3.12/site-packages/moabb/datasets/preprocessing.py:278: UserWarning: warnEpochs <Epochs | 15 events (all good), 0.5 – 3.5 s (baseline off), ~3.6 MiB, data loaded,\n",
      " 'left_hand': 7\n",
      " 'right_hand': 8>\n",
      "  warn(f\"warnEpochs {epochs}\")\n",
      "/Brain/private/y17eloua/env_fsreve/lib/python3.12/site-packages/moabb/datasets/preprocessing.py:278: UserWarning: warnEpochs <Epochs | 15 events (all good), 0.5 – 3.5 s (baseline off), ~3.6 MiB, data loaded,\n",
      " 'left_hand': 8\n",
      " 'right_hand': 7>\n",
      "  warn(f\"warnEpochs {epochs}\")\n"
     ]
    },
    {
     "name": "stdout",
     "output_type": "stream",
     "text": [
      "Used Annotations descriptions: ['left_hand', 'rest', 'right_hand']\n",
      "Used Annotations descriptions: ['left_hand', 'rest', 'right_hand']\n",
      "Used Annotations descriptions: ['left_hand', 'rest', 'right_hand']\n",
      "Used Annotations descriptions: ['feet', 'hands', 'rest']\n",
      "Used Annotations descriptions: ['feet', 'hands', 'rest']\n",
      "Used Annotations descriptions: ['feet', 'hands', 'rest']\n"
     ]
    },
    {
     "name": "stderr",
     "output_type": "stream",
     "text": [
      "/Brain/private/y17eloua/env_fsreve/lib/python3.12/site-packages/moabb/datasets/preprocessing.py:278: UserWarning: warnEpochs <Epochs | 15 events (all good), 0.5 – 3.5 s (baseline off), ~3.6 MiB, data loaded,\n",
      " 'left_hand': 8\n",
      " 'right_hand': 7>\n",
      "  warn(f\"warnEpochs {epochs}\")\n",
      "/Brain/private/y17eloua/env_fsreve/lib/python3.12/site-packages/moabb/datasets/preprocessing.py:278: UserWarning: warnEpochs <Epochs | 15 events (all good), 0.5 – 3.5 s (baseline off), ~3.6 MiB, data loaded,\n",
      " 'left_hand': 7\n",
      " 'right_hand': 8>\n",
      "  warn(f\"warnEpochs {epochs}\")\n",
      "/Brain/private/y17eloua/env_fsreve/lib/python3.12/site-packages/moabb/datasets/preprocessing.py:278: UserWarning: warnEpochs <Epochs | 15 events (all good), 0.5 – 3.5 s (baseline off), ~3.6 MiB, data loaded,\n",
      " 'left_hand': 7\n",
      " 'right_hand': 8>\n",
      "  warn(f\"warnEpochs {epochs}\")\n"
     ]
    },
    {
     "name": "stdout",
     "output_type": "stream",
     "text": [
      "Used Annotations descriptions: ['left_hand', 'rest', 'right_hand']\n",
      "Used Annotations descriptions: ['left_hand', 'rest', 'right_hand']\n",
      "Used Annotations descriptions: ['left_hand', 'rest', 'right_hand']\n",
      "Used Annotations descriptions: ['feet', 'hands', 'rest']\n",
      "Used Annotations descriptions: ['feet', 'hands', 'rest']\n",
      "Used Annotations descriptions: ['feet', 'hands', 'rest']\n"
     ]
    },
    {
     "name": "stderr",
     "output_type": "stream",
     "text": [
      "/Brain/private/y17eloua/env_fsreve/lib/python3.12/site-packages/moabb/datasets/preprocessing.py:278: UserWarning: warnEpochs <Epochs | 15 events (all good), 0.5 – 3.5 s (baseline off), ~3.6 MiB, data loaded,\n",
      " 'left_hand': 7\n",
      " 'right_hand': 8>\n",
      "  warn(f\"warnEpochs {epochs}\")\n",
      "/Brain/private/y17eloua/env_fsreve/lib/python3.12/site-packages/moabb/datasets/preprocessing.py:278: UserWarning: warnEpochs <Epochs | 15 events (all good), 0.5 – 3.5 s (baseline off), ~3.6 MiB, data loaded,\n",
      " 'left_hand': 8\n",
      " 'right_hand': 7>\n",
      "  warn(f\"warnEpochs {epochs}\")\n",
      "/Brain/private/y17eloua/env_fsreve/lib/python3.12/site-packages/moabb/datasets/preprocessing.py:278: UserWarning: warnEpochs <Epochs | 15 events (all good), 0.5 – 3.5 s (baseline off), ~3.6 MiB, data loaded,\n",
      " 'left_hand': 8\n",
      " 'right_hand': 7>\n",
      "  warn(f\"warnEpochs {epochs}\")\n"
     ]
    },
    {
     "name": "stdout",
     "output_type": "stream",
     "text": [
      "Used Annotations descriptions: ['left_hand', 'rest', 'right_hand']\n",
      "Used Annotations descriptions: ['left_hand', 'rest', 'right_hand']\n",
      "Used Annotations descriptions: ['left_hand', 'rest', 'right_hand']\n",
      "Used Annotations descriptions: ['feet', 'hands', 'rest']\n",
      "Used Annotations descriptions: ['feet', 'hands', 'rest']\n",
      "Used Annotations descriptions: ['feet', 'hands', 'rest']\n"
     ]
    },
    {
     "name": "stderr",
     "output_type": "stream",
     "text": [
      "/Brain/private/y17eloua/env_fsreve/lib/python3.12/site-packages/moabb/datasets/preprocessing.py:278: UserWarning: warnEpochs <Epochs | 15 events (all good), 0.5 – 3.5 s (baseline off), ~3.6 MiB, data loaded,\n",
      " 'left_hand': 7\n",
      " 'right_hand': 8>\n",
      "  warn(f\"warnEpochs {epochs}\")\n",
      "/Brain/private/y17eloua/env_fsreve/lib/python3.12/site-packages/moabb/datasets/preprocessing.py:278: UserWarning: warnEpochs <Epochs | 15 events (all good), 0.5 – 3.5 s (baseline off), ~3.6 MiB, data loaded,\n",
      " 'left_hand': 7\n",
      " 'right_hand': 8>\n",
      "  warn(f\"warnEpochs {epochs}\")\n",
      "/Brain/private/y17eloua/env_fsreve/lib/python3.12/site-packages/moabb/datasets/preprocessing.py:278: UserWarning: warnEpochs <Epochs | 15 events (all good), 0.5 – 3.5 s (baseline off), ~3.6 MiB, data loaded,\n",
      " 'left_hand': 8\n",
      " 'right_hand': 7>\n",
      "  warn(f\"warnEpochs {epochs}\")\n"
     ]
    },
    {
     "name": "stdout",
     "output_type": "stream",
     "text": [
      "Used Annotations descriptions: ['left_hand', 'rest', 'right_hand']\n",
      "Used Annotations descriptions: ['left_hand', 'rest', 'right_hand']\n",
      "Used Annotations descriptions: ['left_hand', 'rest', 'right_hand']\n",
      "Used Annotations descriptions: ['feet', 'hands', 'rest']\n",
      "Used Annotations descriptions: ['feet', 'hands', 'rest']\n",
      "Used Annotations descriptions: ['feet', 'hands', 'rest']\n"
     ]
    },
    {
     "name": "stderr",
     "output_type": "stream",
     "text": [
      "/Brain/private/y17eloua/env_fsreve/lib/python3.12/site-packages/moabb/datasets/preprocessing.py:278: UserWarning: warnEpochs <Epochs | 15 events (all good), 0.5 – 3.5 s (baseline off), ~3.6 MiB, data loaded,\n",
      " 'left_hand': 8\n",
      " 'right_hand': 7>\n",
      "  warn(f\"warnEpochs {epochs}\")\n",
      "/Brain/private/y17eloua/env_fsreve/lib/python3.12/site-packages/moabb/datasets/preprocessing.py:278: UserWarning: warnEpochs <Epochs | 15 events (all good), 0.5 – 3.5 s (baseline off), ~3.6 MiB, data loaded,\n",
      " 'left_hand': 7\n",
      " 'right_hand': 8>\n",
      "  warn(f\"warnEpochs {epochs}\")\n",
      "/Brain/private/y17eloua/env_fsreve/lib/python3.12/site-packages/moabb/datasets/preprocessing.py:278: UserWarning: warnEpochs <Epochs | 15 events (all good), 0.5 – 3.5 s (baseline off), ~3.6 MiB, data loaded,\n",
      " 'left_hand': 8\n",
      " 'right_hand': 7>\n",
      "  warn(f\"warnEpochs {epochs}\")\n"
     ]
    },
    {
     "name": "stdout",
     "output_type": "stream",
     "text": [
      "Used Annotations descriptions: ['left_hand', 'rest', 'right_hand']\n",
      "Used Annotations descriptions: ['left_hand', 'rest', 'right_hand']\n",
      "Used Annotations descriptions: ['left_hand', 'rest', 'right_hand']\n",
      "Used Annotations descriptions: ['feet', 'hands', 'rest']\n",
      "Used Annotations descriptions: ['feet', 'hands', 'rest']\n",
      "Used Annotations descriptions: ['feet', 'hands', 'rest']\n"
     ]
    },
    {
     "name": "stderr",
     "output_type": "stream",
     "text": [
      "/Brain/private/y17eloua/env_fsreve/lib/python3.12/site-packages/moabb/datasets/preprocessing.py:278: UserWarning: warnEpochs <Epochs | 15 events (all good), 0.5 – 3.5 s (baseline off), ~3.6 MiB, data loaded,\n",
      " 'left_hand': 8\n",
      " 'right_hand': 7>\n",
      "  warn(f\"warnEpochs {epochs}\")\n",
      "/Brain/private/y17eloua/env_fsreve/lib/python3.12/site-packages/moabb/datasets/preprocessing.py:278: UserWarning: warnEpochs <Epochs | 15 events (all good), 0.5 – 3.5 s (baseline off), ~3.6 MiB, data loaded,\n",
      " 'left_hand': 7\n",
      " 'right_hand': 8>\n",
      "  warn(f\"warnEpochs {epochs}\")\n",
      "/Brain/private/y17eloua/env_fsreve/lib/python3.12/site-packages/moabb/datasets/preprocessing.py:278: UserWarning: warnEpochs <Epochs | 15 events (all good), 0.5 – 3.5 s (baseline off), ~3.6 MiB, data loaded,\n",
      " 'left_hand': 7\n",
      " 'right_hand': 8>\n",
      "  warn(f\"warnEpochs {epochs}\")\n"
     ]
    },
    {
     "name": "stdout",
     "output_type": "stream",
     "text": [
      "Used Annotations descriptions: ['left_hand', 'rest', 'right_hand']\n",
      "Used Annotations descriptions: ['left_hand', 'rest', 'right_hand']\n",
      "Used Annotations descriptions: ['left_hand', 'rest', 'right_hand']\n",
      "Used Annotations descriptions: ['feet', 'hands', 'rest']\n",
      "Used Annotations descriptions: ['feet', 'hands', 'rest']\n",
      "Used Annotations descriptions: ['feet', 'hands', 'rest']\n"
     ]
    },
    {
     "name": "stderr",
     "output_type": "stream",
     "text": [
      "/Brain/private/y17eloua/env_fsreve/lib/python3.12/site-packages/moabb/datasets/preprocessing.py:278: UserWarning: warnEpochs <Epochs | 15 events (all good), 0.5 – 3.5 s (baseline off), ~3.6 MiB, data loaded,\n",
      " 'left_hand': 8\n",
      " 'right_hand': 7>\n",
      "  warn(f\"warnEpochs {epochs}\")\n",
      "/Brain/private/y17eloua/env_fsreve/lib/python3.12/site-packages/moabb/datasets/preprocessing.py:278: UserWarning: warnEpochs <Epochs | 15 events (all good), 0.5 – 3.5 s (baseline off), ~3.6 MiB, data loaded,\n",
      " 'left_hand': 8\n",
      " 'right_hand': 7>\n",
      "  warn(f\"warnEpochs {epochs}\")\n",
      "/Brain/private/y17eloua/env_fsreve/lib/python3.12/site-packages/moabb/datasets/preprocessing.py:278: UserWarning: warnEpochs <Epochs | 15 events (all good), 0.5 – 3.5 s (baseline off), ~3.6 MiB, data loaded,\n",
      " 'left_hand': 7\n",
      " 'right_hand': 8>\n",
      "  warn(f\"warnEpochs {epochs}\")\n"
     ]
    },
    {
     "name": "stdout",
     "output_type": "stream",
     "text": [
      "Used Annotations descriptions: ['left_hand', 'rest', 'right_hand']\n",
      "Used Annotations descriptions: ['left_hand', 'rest', 'right_hand']\n",
      "Used Annotations descriptions: ['left_hand', 'rest', 'right_hand']\n",
      "Used Annotations descriptions: ['feet', 'hands', 'rest']\n",
      "Used Annotations descriptions: ['feet', 'hands', 'rest']\n",
      "Used Annotations descriptions: ['feet', 'hands', 'rest']\n"
     ]
    },
    {
     "name": "stderr",
     "output_type": "stream",
     "text": [
      "/Brain/private/y17eloua/env_fsreve/lib/python3.12/site-packages/moabb/datasets/preprocessing.py:278: UserWarning: warnEpochs <Epochs | 15 events (all good), 0.5 – 3.5 s (baseline off), ~3.6 MiB, data loaded,\n",
      " 'left_hand': 8\n",
      " 'right_hand': 7>\n",
      "  warn(f\"warnEpochs {epochs}\")\n",
      "/Brain/private/y17eloua/env_fsreve/lib/python3.12/site-packages/moabb/datasets/preprocessing.py:278: UserWarning: warnEpochs <Epochs | 15 events (all good), 0.5 – 3.5 s (baseline off), ~3.6 MiB, data loaded,\n",
      " 'left_hand': 8\n",
      " 'right_hand': 7>\n",
      "  warn(f\"warnEpochs {epochs}\")\n",
      "/Brain/private/y17eloua/env_fsreve/lib/python3.12/site-packages/moabb/datasets/preprocessing.py:278: UserWarning: warnEpochs <Epochs | 15 events (all good), 0.5 – 3.5 s (baseline off), ~3.6 MiB, data loaded,\n",
      " 'left_hand': 7\n",
      " 'right_hand': 8>\n",
      "  warn(f\"warnEpochs {epochs}\")\n"
     ]
    },
    {
     "name": "stdout",
     "output_type": "stream",
     "text": [
      "Used Annotations descriptions: ['left_hand', 'rest', 'right_hand']\n",
      "Used Annotations descriptions: ['left_hand', 'rest', 'right_hand']\n",
      "Used Annotations descriptions: ['left_hand', 'rest', 'right_hand']\n",
      "Used Annotations descriptions: ['feet', 'hands', 'rest']\n",
      "Used Annotations descriptions: ['feet', 'hands', 'rest']\n",
      "Used Annotations descriptions: ['feet', 'hands', 'rest']\n"
     ]
    },
    {
     "name": "stderr",
     "output_type": "stream",
     "text": [
      "/Brain/private/y17eloua/env_fsreve/lib/python3.12/site-packages/moabb/datasets/preprocessing.py:278: UserWarning: warnEpochs <Epochs | 15 events (all good), 0.5 – 3.5 s (baseline off), ~3.6 MiB, data loaded,\n",
      " 'left_hand': 8\n",
      " 'right_hand': 7>\n",
      "  warn(f\"warnEpochs {epochs}\")\n",
      "/Brain/private/y17eloua/env_fsreve/lib/python3.12/site-packages/moabb/datasets/preprocessing.py:278: UserWarning: warnEpochs <Epochs | 15 events (all good), 0.5 – 3.5 s (baseline off), ~3.6 MiB, data loaded,\n",
      " 'left_hand': 7\n",
      " 'right_hand': 8>\n",
      "  warn(f\"warnEpochs {epochs}\")\n",
      "/Brain/private/y17eloua/env_fsreve/lib/python3.12/site-packages/moabb/datasets/preprocessing.py:278: UserWarning: warnEpochs <Epochs | 15 events (all good), 0.5 – 3.5 s (baseline off), ~3.6 MiB, data loaded,\n",
      " 'left_hand': 7\n",
      " 'right_hand': 8>\n",
      "  warn(f\"warnEpochs {epochs}\")\n"
     ]
    },
    {
     "name": "stdout",
     "output_type": "stream",
     "text": [
      "Used Annotations descriptions: ['left_hand', 'rest', 'right_hand']\n",
      "Used Annotations descriptions: ['left_hand', 'rest', 'right_hand']\n",
      "Used Annotations descriptions: ['left_hand', 'rest', 'right_hand']\n",
      "Used Annotations descriptions: ['feet', 'hands', 'rest']\n",
      "Used Annotations descriptions: ['feet', 'hands', 'rest']\n",
      "Used Annotations descriptions: ['feet', 'hands', 'rest']\n"
     ]
    },
    {
     "name": "stderr",
     "output_type": "stream",
     "text": [
      "/Brain/private/y17eloua/env_fsreve/lib/python3.12/site-packages/moabb/datasets/preprocessing.py:278: UserWarning: warnEpochs <Epochs | 15 events (all good), 0.5 – 3.5 s (baseline off), ~3.6 MiB, data loaded,\n",
      " 'left_hand': 8\n",
      " 'right_hand': 7>\n",
      "  warn(f\"warnEpochs {epochs}\")\n",
      "/Brain/private/y17eloua/env_fsreve/lib/python3.12/site-packages/moabb/datasets/preprocessing.py:278: UserWarning: warnEpochs <Epochs | 15 events (all good), 0.5 – 3.5 s (baseline off), ~3.6 MiB, data loaded,\n",
      " 'left_hand': 7\n",
      " 'right_hand': 8>\n",
      "  warn(f\"warnEpochs {epochs}\")\n",
      "/Brain/private/y17eloua/env_fsreve/lib/python3.12/site-packages/moabb/datasets/preprocessing.py:278: UserWarning: warnEpochs <Epochs | 15 events (all good), 0.5 – 3.5 s (baseline off), ~3.6 MiB, data loaded,\n",
      " 'left_hand': 7\n",
      " 'right_hand': 8>\n",
      "  warn(f\"warnEpochs {epochs}\")\n"
     ]
    },
    {
     "name": "stdout",
     "output_type": "stream",
     "text": [
      "Used Annotations descriptions: ['left_hand', 'rest', 'right_hand']\n",
      "Used Annotations descriptions: ['left_hand', 'rest', 'right_hand']\n",
      "Used Annotations descriptions: ['left_hand', 'rest', 'right_hand']\n",
      "Used Annotations descriptions: ['feet', 'hands', 'rest']\n",
      "Used Annotations descriptions: ['feet', 'hands', 'rest']\n",
      "Used Annotations descriptions: ['feet', 'hands', 'rest']\n"
     ]
    },
    {
     "name": "stderr",
     "output_type": "stream",
     "text": [
      "/Brain/private/y17eloua/env_fsreve/lib/python3.12/site-packages/moabb/datasets/preprocessing.py:278: UserWarning: warnEpochs <Epochs | 15 events (all good), 0.5 – 3.5 s (baseline off), ~3.6 MiB, data loaded,\n",
      " 'left_hand': 7\n",
      " 'right_hand': 8>\n",
      "  warn(f\"warnEpochs {epochs}\")\n",
      "/Brain/private/y17eloua/env_fsreve/lib/python3.12/site-packages/moabb/datasets/preprocessing.py:278: UserWarning: warnEpochs <Epochs | 15 events (all good), 0.5 – 3.5 s (baseline off), ~3.6 MiB, data loaded,\n",
      " 'left_hand': 7\n",
      " 'right_hand': 8>\n",
      "  warn(f\"warnEpochs {epochs}\")\n",
      "/Brain/private/y17eloua/env_fsreve/lib/python3.12/site-packages/moabb/datasets/preprocessing.py:278: UserWarning: warnEpochs <Epochs | 15 events (all good), 0.5 – 3.5 s (baseline off), ~3.6 MiB, data loaded,\n",
      " 'left_hand': 8\n",
      " 'right_hand': 7>\n",
      "  warn(f\"warnEpochs {epochs}\")\n"
     ]
    },
    {
     "name": "stdout",
     "output_type": "stream",
     "text": [
      "Used Annotations descriptions: ['left_hand', 'rest', 'right_hand']\n",
      "Used Annotations descriptions: ['left_hand', 'rest', 'right_hand']\n",
      "Used Annotations descriptions: ['left_hand', 'rest', 'right_hand']\n",
      "Used Annotations descriptions: ['feet', 'hands', 'rest']\n",
      "Used Annotations descriptions: ['feet', 'hands', 'rest']\n",
      "Used Annotations descriptions: ['feet', 'hands', 'rest']\n"
     ]
    },
    {
     "name": "stderr",
     "output_type": "stream",
     "text": [
      "/Brain/private/y17eloua/env_fsreve/lib/python3.12/site-packages/moabb/datasets/preprocessing.py:278: UserWarning: warnEpochs <Epochs | 15 events (all good), 0.5 – 3.5 s (baseline off), ~3.6 MiB, data loaded,\n",
      " 'left_hand': 8\n",
      " 'right_hand': 7>\n",
      "  warn(f\"warnEpochs {epochs}\")\n",
      "/Brain/private/y17eloua/env_fsreve/lib/python3.12/site-packages/moabb/datasets/preprocessing.py:278: UserWarning: warnEpochs <Epochs | 15 events (all good), 0.5 – 3.5 s (baseline off), ~3.6 MiB, data loaded,\n",
      " 'left_hand': 7\n",
      " 'right_hand': 8>\n",
      "  warn(f\"warnEpochs {epochs}\")\n",
      "/Brain/private/y17eloua/env_fsreve/lib/python3.12/site-packages/moabb/datasets/preprocessing.py:278: UserWarning: warnEpochs <Epochs | 15 events (all good), 0.5 – 3.5 s (baseline off), ~3.6 MiB, data loaded,\n",
      " 'left_hand': 7\n",
      " 'right_hand': 8>\n",
      "  warn(f\"warnEpochs {epochs}\")\n"
     ]
    },
    {
     "name": "stdout",
     "output_type": "stream",
     "text": [
      "Used Annotations descriptions: ['left_hand', 'rest', 'right_hand']\n",
      "Used Annotations descriptions: ['left_hand', 'rest', 'right_hand']\n",
      "Used Annotations descriptions: ['left_hand', 'rest', 'right_hand']\n",
      "Used Annotations descriptions: ['feet', 'hands', 'rest']\n",
      "Used Annotations descriptions: ['feet', 'hands', 'rest']\n",
      "Used Annotations descriptions: ['feet', 'hands', 'rest']\n"
     ]
    },
    {
     "name": "stderr",
     "output_type": "stream",
     "text": [
      "/Brain/private/y17eloua/env_fsreve/lib/python3.12/site-packages/moabb/datasets/preprocessing.py:278: UserWarning: warnEpochs <Epochs | 15 events (all good), 0.5 – 3.5 s (baseline off), ~3.6 MiB, data loaded,\n",
      " 'left_hand': 8\n",
      " 'right_hand': 7>\n",
      "  warn(f\"warnEpochs {epochs}\")\n",
      "/Brain/private/y17eloua/env_fsreve/lib/python3.12/site-packages/moabb/datasets/preprocessing.py:278: UserWarning: warnEpochs <Epochs | 15 events (all good), 0.5 – 3.5 s (baseline off), ~3.6 MiB, data loaded,\n",
      " 'left_hand': 8\n",
      " 'right_hand': 7>\n",
      "  warn(f\"warnEpochs {epochs}\")\n",
      "/Brain/private/y17eloua/env_fsreve/lib/python3.12/site-packages/moabb/datasets/preprocessing.py:278: UserWarning: warnEpochs <Epochs | 15 events (all good), 0.5 – 3.5 s (baseline off), ~3.6 MiB, data loaded,\n",
      " 'left_hand': 7\n",
      " 'right_hand': 8>\n",
      "  warn(f\"warnEpochs {epochs}\")\n"
     ]
    },
    {
     "name": "stdout",
     "output_type": "stream",
     "text": [
      "Used Annotations descriptions: ['left_hand', 'rest', 'right_hand']\n",
      "Used Annotations descriptions: ['left_hand', 'rest', 'right_hand']\n",
      "Used Annotations descriptions: ['left_hand', 'rest', 'right_hand']\n",
      "Used Annotations descriptions: ['feet', 'hands', 'rest']\n",
      "Used Annotations descriptions: ['feet', 'hands', 'rest']\n",
      "Used Annotations descriptions: ['feet', 'hands', 'rest']\n"
     ]
    },
    {
     "name": "stderr",
     "output_type": "stream",
     "text": [
      "/Brain/private/y17eloua/env_fsreve/lib/python3.12/site-packages/moabb/datasets/preprocessing.py:278: UserWarning: warnEpochs <Epochs | 15 events (all good), 0.5 – 3.5 s (baseline off), ~3.6 MiB, data loaded,\n",
      " 'left_hand': 7\n",
      " 'right_hand': 8>\n",
      "  warn(f\"warnEpochs {epochs}\")\n",
      "/Brain/private/y17eloua/env_fsreve/lib/python3.12/site-packages/moabb/datasets/preprocessing.py:278: UserWarning: warnEpochs <Epochs | 15 events (all good), 0.5 – 3.5 s (baseline off), ~3.6 MiB, data loaded,\n",
      " 'left_hand': 7\n",
      " 'right_hand': 8>\n",
      "  warn(f\"warnEpochs {epochs}\")\n",
      "/Brain/private/y17eloua/env_fsreve/lib/python3.12/site-packages/moabb/datasets/preprocessing.py:278: UserWarning: warnEpochs <Epochs | 15 events (all good), 0.5 – 3.5 s (baseline off), ~3.6 MiB, data loaded,\n",
      " 'left_hand': 8\n",
      " 'right_hand': 7>\n",
      "  warn(f\"warnEpochs {epochs}\")\n"
     ]
    },
    {
     "name": "stdout",
     "output_type": "stream",
     "text": [
      "Used Annotations descriptions: ['left_hand', 'rest', 'right_hand']\n",
      "Used Annotations descriptions: ['left_hand', 'rest', 'right_hand']\n",
      "Used Annotations descriptions: ['left_hand', 'rest', 'right_hand']\n",
      "Used Annotations descriptions: ['feet', 'hands', 'rest']\n",
      "Used Annotations descriptions: ['feet', 'hands', 'rest']\n",
      "Used Annotations descriptions: ['feet', 'hands', 'rest']\n"
     ]
    },
    {
     "name": "stderr",
     "output_type": "stream",
     "text": [
      "/Brain/private/y17eloua/env_fsreve/lib/python3.12/site-packages/moabb/datasets/preprocessing.py:278: UserWarning: warnEpochs <Epochs | 15 events (all good), 0.5 – 3.5 s (baseline off), ~3.6 MiB, data loaded,\n",
      " 'left_hand': 7\n",
      " 'right_hand': 8>\n",
      "  warn(f\"warnEpochs {epochs}\")\n",
      "/Brain/private/y17eloua/env_fsreve/lib/python3.12/site-packages/moabb/datasets/preprocessing.py:278: UserWarning: warnEpochs <Epochs | 15 events (all good), 0.5 – 3.5 s (baseline off), ~3.6 MiB, data loaded,\n",
      " 'left_hand': 8\n",
      " 'right_hand': 7>\n",
      "  warn(f\"warnEpochs {epochs}\")\n",
      "/Brain/private/y17eloua/env_fsreve/lib/python3.12/site-packages/moabb/datasets/preprocessing.py:278: UserWarning: warnEpochs <Epochs | 15 events (all good), 0.5 – 3.5 s (baseline off), ~3.6 MiB, data loaded,\n",
      " 'left_hand': 8\n",
      " 'right_hand': 7>\n",
      "  warn(f\"warnEpochs {epochs}\")\n"
     ]
    },
    {
     "name": "stdout",
     "output_type": "stream",
     "text": [
      "Used Annotations descriptions: ['left_hand', 'rest', 'right_hand']\n",
      "Used Annotations descriptions: ['left_hand', 'rest', 'right_hand']\n",
      "Used Annotations descriptions: ['left_hand', 'rest', 'right_hand']\n",
      "Used Annotations descriptions: ['feet', 'hands', 'rest']\n",
      "Used Annotations descriptions: ['feet', 'hands', 'rest']\n",
      "Used Annotations descriptions: ['feet', 'hands', 'rest']\n"
     ]
    },
    {
     "name": "stderr",
     "output_type": "stream",
     "text": [
      "/Brain/private/y17eloua/env_fsreve/lib/python3.12/site-packages/moabb/datasets/preprocessing.py:278: UserWarning: warnEpochs <Epochs | 15 events (all good), 0.5 – 3.5 s (baseline off), ~3.6 MiB, data loaded,\n",
      " 'left_hand': 7\n",
      " 'right_hand': 8>\n",
      "  warn(f\"warnEpochs {epochs}\")\n",
      "/Brain/private/y17eloua/env_fsreve/lib/python3.12/site-packages/moabb/datasets/preprocessing.py:278: UserWarning: warnEpochs <Epochs | 15 events (all good), 0.5 – 3.5 s (baseline off), ~3.6 MiB, data loaded,\n",
      " 'left_hand': 8\n",
      " 'right_hand': 7>\n",
      "  warn(f\"warnEpochs {epochs}\")\n",
      "/Brain/private/y17eloua/env_fsreve/lib/python3.12/site-packages/moabb/datasets/preprocessing.py:278: UserWarning: warnEpochs <Epochs | 15 events (all good), 0.5 – 3.5 s (baseline off), ~3.6 MiB, data loaded,\n",
      " 'left_hand': 8\n",
      " 'right_hand': 7>\n",
      "  warn(f\"warnEpochs {epochs}\")\n"
     ]
    },
    {
     "name": "stdout",
     "output_type": "stream",
     "text": [
      "Used Annotations descriptions: ['left_hand', 'rest', 'right_hand']\n",
      "Used Annotations descriptions: ['left_hand', 'rest', 'right_hand']\n",
      "Used Annotations descriptions: ['left_hand', 'rest', 'right_hand']\n",
      "Used Annotations descriptions: ['feet', 'hands', 'rest']\n",
      "Used Annotations descriptions: ['feet', 'hands', 'rest']\n",
      "Used Annotations descriptions: ['feet', 'hands', 'rest']\n"
     ]
    },
    {
     "name": "stderr",
     "output_type": "stream",
     "text": [
      "/Brain/private/y17eloua/env_fsreve/lib/python3.12/site-packages/moabb/datasets/preprocessing.py:278: UserWarning: warnEpochs <Epochs | 15 events (all good), 0.5 – 3.5 s (baseline off), ~3.6 MiB, data loaded,\n",
      " 'left_hand': 8\n",
      " 'right_hand': 7>\n",
      "  warn(f\"warnEpochs {epochs}\")\n",
      "/Brain/private/y17eloua/env_fsreve/lib/python3.12/site-packages/moabb/datasets/preprocessing.py:278: UserWarning: warnEpochs <Epochs | 15 events (all good), 0.5 – 3.5 s (baseline off), ~3.6 MiB, data loaded,\n",
      " 'left_hand': 7\n",
      " 'right_hand': 8>\n",
      "  warn(f\"warnEpochs {epochs}\")\n",
      "/Brain/private/y17eloua/env_fsreve/lib/python3.12/site-packages/moabb/datasets/preprocessing.py:278: UserWarning: warnEpochs <Epochs | 15 events (all good), 0.5 – 3.5 s (baseline off), ~3.6 MiB, data loaded,\n",
      " 'left_hand': 8\n",
      " 'right_hand': 7>\n",
      "  warn(f\"warnEpochs {epochs}\")\n"
     ]
    },
    {
     "name": "stdout",
     "output_type": "stream",
     "text": [
      "Used Annotations descriptions: ['left_hand', 'rest', 'right_hand']\n",
      "Used Annotations descriptions: ['left_hand', 'rest', 'right_hand']\n",
      "Used Annotations descriptions: ['left_hand', 'rest', 'right_hand']\n",
      "Used Annotations descriptions: ['feet', 'hands', 'rest']\n",
      "Used Annotations descriptions: ['feet', 'hands', 'rest']\n",
      "Used Annotations descriptions: ['feet', 'hands', 'rest']\n"
     ]
    },
    {
     "name": "stderr",
     "output_type": "stream",
     "text": [
      "/Brain/private/y17eloua/env_fsreve/lib/python3.12/site-packages/moabb/datasets/preprocessing.py:278: UserWarning: warnEpochs <Epochs | 15 events (all good), 0.5 – 3.5 s (baseline off), ~3.6 MiB, data loaded,\n",
      " 'left_hand': 8\n",
      " 'right_hand': 7>\n",
      "  warn(f\"warnEpochs {epochs}\")\n",
      "/Brain/private/y17eloua/env_fsreve/lib/python3.12/site-packages/moabb/datasets/preprocessing.py:278: UserWarning: warnEpochs <Epochs | 15 events (all good), 0.5 – 3.5 s (baseline off), ~3.6 MiB, data loaded,\n",
      " 'left_hand': 8\n",
      " 'right_hand': 7>\n",
      "  warn(f\"warnEpochs {epochs}\")\n",
      "/Brain/private/y17eloua/env_fsreve/lib/python3.12/site-packages/moabb/datasets/preprocessing.py:278: UserWarning: warnEpochs <Epochs | 15 events (all good), 0.5 – 3.5 s (baseline off), ~3.6 MiB, data loaded,\n",
      " 'left_hand': 7\n",
      " 'right_hand': 8>\n",
      "  warn(f\"warnEpochs {epochs}\")\n"
     ]
    },
    {
     "name": "stdout",
     "output_type": "stream",
     "text": [
      "Used Annotations descriptions: ['left_hand', 'rest', 'right_hand']\n",
      "Used Annotations descriptions: ['left_hand', 'rest', 'right_hand']\n",
      "Used Annotations descriptions: ['left_hand', 'rest', 'right_hand']\n",
      "Used Annotations descriptions: ['feet', 'hands', 'rest']\n",
      "Used Annotations descriptions: ['feet', 'hands', 'rest']\n",
      "Used Annotations descriptions: ['feet', 'hands', 'rest']\n"
     ]
    },
    {
     "name": "stderr",
     "output_type": "stream",
     "text": [
      "/Brain/private/y17eloua/env_fsreve/lib/python3.12/site-packages/moabb/datasets/preprocessing.py:278: UserWarning: warnEpochs <Epochs | 15 events (all good), 0.5 – 3.5 s (baseline off), ~3.6 MiB, data loaded,\n",
      " 'left_hand': 7\n",
      " 'right_hand': 8>\n",
      "  warn(f\"warnEpochs {epochs}\")\n",
      "/Brain/private/y17eloua/env_fsreve/lib/python3.12/site-packages/moabb/datasets/preprocessing.py:278: UserWarning: warnEpochs <Epochs | 15 events (all good), 0.5 – 3.5 s (baseline off), ~3.6 MiB, data loaded,\n",
      " 'left_hand': 8\n",
      " 'right_hand': 7>\n",
      "  warn(f\"warnEpochs {epochs}\")\n",
      "/Brain/private/y17eloua/env_fsreve/lib/python3.12/site-packages/moabb/datasets/preprocessing.py:278: UserWarning: warnEpochs <Epochs | 15 events (all good), 0.5 – 3.5 s (baseline off), ~3.6 MiB, data loaded,\n",
      " 'left_hand': 7\n",
      " 'right_hand': 8>\n",
      "  warn(f\"warnEpochs {epochs}\")\n"
     ]
    },
    {
     "name": "stdout",
     "output_type": "stream",
     "text": [
      "Used Annotations descriptions: ['left_hand', 'rest', 'right_hand']\n",
      "Used Annotations descriptions: ['left_hand', 'rest', 'right_hand']\n",
      "Used Annotations descriptions: ['left_hand', 'rest', 'right_hand']\n",
      "Used Annotations descriptions: ['feet', 'hands', 'rest']\n",
      "Used Annotations descriptions: ['feet', 'hands', 'rest']\n",
      "Used Annotations descriptions: ['feet', 'hands', 'rest']\n"
     ]
    },
    {
     "name": "stderr",
     "output_type": "stream",
     "text": [
      "/Brain/private/y17eloua/env_fsreve/lib/python3.12/site-packages/moabb/datasets/preprocessing.py:278: UserWarning: warnEpochs <Epochs | 15 events (all good), 0.5 – 3.5 s (baseline off), ~3.6 MiB, data loaded,\n",
      " 'left_hand': 8\n",
      " 'right_hand': 7>\n",
      "  warn(f\"warnEpochs {epochs}\")\n",
      "/Brain/private/y17eloua/env_fsreve/lib/python3.12/site-packages/moabb/datasets/preprocessing.py:278: UserWarning: warnEpochs <Epochs | 15 events (all good), 0.5 – 3.5 s (baseline off), ~3.6 MiB, data loaded,\n",
      " 'left_hand': 7\n",
      " 'right_hand': 8>\n",
      "  warn(f\"warnEpochs {epochs}\")\n",
      "/Brain/private/y17eloua/env_fsreve/lib/python3.12/site-packages/moabb/datasets/preprocessing.py:278: UserWarning: warnEpochs <Epochs | 15 events (all good), 0.5 – 3.5 s (baseline off), ~3.6 MiB, data loaded,\n",
      " 'left_hand': 7\n",
      " 'right_hand': 8>\n",
      "  warn(f\"warnEpochs {epochs}\")\n"
     ]
    },
    {
     "name": "stdout",
     "output_type": "stream",
     "text": [
      "Used Annotations descriptions: ['left_hand', 'rest', 'right_hand']\n",
      "Used Annotations descriptions: ['left_hand', 'rest', 'right_hand']\n",
      "Used Annotations descriptions: ['left_hand', 'rest', 'right_hand']\n",
      "Used Annotations descriptions: ['feet', 'hands', 'rest']\n",
      "Used Annotations descriptions: ['feet', 'hands', 'rest']\n",
      "Used Annotations descriptions: ['feet', 'hands', 'rest']\n"
     ]
    },
    {
     "name": "stderr",
     "output_type": "stream",
     "text": [
      "/Brain/private/y17eloua/env_fsreve/lib/python3.12/site-packages/moabb/datasets/preprocessing.py:278: UserWarning: warnEpochs <Epochs | 15 events (all good), 0.5 – 3.5 s (baseline off), ~3.6 MiB, data loaded,\n",
      " 'left_hand': 7\n",
      " 'right_hand': 8>\n",
      "  warn(f\"warnEpochs {epochs}\")\n",
      "/Brain/private/y17eloua/env_fsreve/lib/python3.12/site-packages/moabb/datasets/preprocessing.py:278: UserWarning: warnEpochs <Epochs | 15 events (all good), 0.5 – 3.5 s (baseline off), ~3.6 MiB, data loaded,\n",
      " 'left_hand': 7\n",
      " 'right_hand': 8>\n",
      "  warn(f\"warnEpochs {epochs}\")\n",
      "/Brain/private/y17eloua/env_fsreve/lib/python3.12/site-packages/moabb/datasets/preprocessing.py:278: UserWarning: warnEpochs <Epochs | 15 events (all good), 0.5 – 3.5 s (baseline off), ~3.6 MiB, data loaded,\n",
      " 'left_hand': 8\n",
      " 'right_hand': 7>\n",
      "  warn(f\"warnEpochs {epochs}\")\n"
     ]
    },
    {
     "name": "stdout",
     "output_type": "stream",
     "text": [
      "Used Annotations descriptions: ['left_hand', 'rest', 'right_hand']\n",
      "Used Annotations descriptions: ['left_hand', 'rest', 'right_hand']\n",
      "Used Annotations descriptions: ['left_hand', 'rest', 'right_hand']\n",
      "Used Annotations descriptions: ['feet', 'hands', 'rest']\n",
      "Used Annotations descriptions: ['feet', 'hands', 'rest']\n",
      "Used Annotations descriptions: ['feet', 'hands', 'rest']\n"
     ]
    },
    {
     "name": "stderr",
     "output_type": "stream",
     "text": [
      "/Brain/private/y17eloua/env_fsreve/lib/python3.12/site-packages/moabb/datasets/preprocessing.py:278: UserWarning: warnEpochs <Epochs | 15 events (all good), 0.5 – 3.5 s (baseline off), ~3.6 MiB, data loaded,\n",
      " 'left_hand': 7\n",
      " 'right_hand': 8>\n",
      "  warn(f\"warnEpochs {epochs}\")\n",
      "/Brain/private/y17eloua/env_fsreve/lib/python3.12/site-packages/moabb/datasets/preprocessing.py:278: UserWarning: warnEpochs <Epochs | 15 events (all good), 0.5 – 3.5 s (baseline off), ~3.6 MiB, data loaded,\n",
      " 'left_hand': 8\n",
      " 'right_hand': 7>\n",
      "  warn(f\"warnEpochs {epochs}\")\n",
      "/Brain/private/y17eloua/env_fsreve/lib/python3.12/site-packages/moabb/datasets/preprocessing.py:278: UserWarning: warnEpochs <Epochs | 15 events (all good), 0.5 – 3.5 s (baseline off), ~3.6 MiB, data loaded,\n",
      " 'left_hand': 7\n",
      " 'right_hand': 8>\n",
      "  warn(f\"warnEpochs {epochs}\")\n"
     ]
    },
    {
     "name": "stdout",
     "output_type": "stream",
     "text": [
      "Used Annotations descriptions: ['left_hand', 'rest', 'right_hand']\n",
      "Used Annotations descriptions: ['left_hand', 'rest', 'right_hand']\n",
      "Used Annotations descriptions: ['left_hand', 'rest', 'right_hand']\n",
      "Used Annotations descriptions: ['feet', 'hands', 'rest']\n",
      "Used Annotations descriptions: ['feet', 'hands', 'rest']\n",
      "Used Annotations descriptions: ['feet', 'hands', 'rest']\n"
     ]
    },
    {
     "name": "stderr",
     "output_type": "stream",
     "text": [
      "/Brain/private/y17eloua/env_fsreve/lib/python3.12/site-packages/moabb/datasets/preprocessing.py:278: UserWarning: warnEpochs <Epochs | 15 events (all good), 0.5 – 3.5 s (baseline off), ~3.6 MiB, data loaded,\n",
      " 'left_hand': 8\n",
      " 'right_hand': 7>\n",
      "  warn(f\"warnEpochs {epochs}\")\n",
      "/Brain/private/y17eloua/env_fsreve/lib/python3.12/site-packages/moabb/datasets/preprocessing.py:278: UserWarning: warnEpochs <Epochs | 15 events (all good), 0.5 – 3.5 s (baseline off), ~3.6 MiB, data loaded,\n",
      " 'left_hand': 7\n",
      " 'right_hand': 8>\n",
      "  warn(f\"warnEpochs {epochs}\")\n",
      "/Brain/private/y17eloua/env_fsreve/lib/python3.12/site-packages/moabb/datasets/preprocessing.py:278: UserWarning: warnEpochs <Epochs | 15 events (all good), 0.5 – 3.5 s (baseline off), ~3.6 MiB, data loaded,\n",
      " 'left_hand': 8\n",
      " 'right_hand': 7>\n",
      "  warn(f\"warnEpochs {epochs}\")\n"
     ]
    },
    {
     "name": "stdout",
     "output_type": "stream",
     "text": [
      "Used Annotations descriptions: ['left_hand', 'rest', 'right_hand']\n",
      "Used Annotations descriptions: ['left_hand', 'rest', 'right_hand']\n",
      "Used Annotations descriptions: ['left_hand', 'rest', 'right_hand']\n",
      "Used Annotations descriptions: ['feet', 'hands', 'rest']\n",
      "Used Annotations descriptions: ['feet', 'hands', 'rest']\n",
      "Used Annotations descriptions: ['feet', 'hands', 'rest']\n"
     ]
    },
    {
     "name": "stderr",
     "output_type": "stream",
     "text": [
      "/Brain/private/y17eloua/env_fsreve/lib/python3.12/site-packages/moabb/datasets/preprocessing.py:278: UserWarning: warnEpochs <Epochs | 15 events (all good), 0.5 – 3.5 s (baseline off), ~3.6 MiB, data loaded,\n",
      " 'left_hand': 8\n",
      " 'right_hand': 7>\n",
      "  warn(f\"warnEpochs {epochs}\")\n",
      "/Brain/private/y17eloua/env_fsreve/lib/python3.12/site-packages/moabb/datasets/preprocessing.py:278: UserWarning: warnEpochs <Epochs | 15 events (all good), 0.5 – 3.5 s (baseline off), ~3.6 MiB, data loaded,\n",
      " 'left_hand': 8\n",
      " 'right_hand': 7>\n",
      "  warn(f\"warnEpochs {epochs}\")\n",
      "/Brain/private/y17eloua/env_fsreve/lib/python3.12/site-packages/moabb/datasets/preprocessing.py:278: UserWarning: warnEpochs <Epochs | 15 events (all good), 0.5 – 3.5 s (baseline off), ~3.6 MiB, data loaded,\n",
      " 'left_hand': 8\n",
      " 'right_hand': 7>\n",
      "  warn(f\"warnEpochs {epochs}\")\n"
     ]
    },
    {
     "name": "stdout",
     "output_type": "stream",
     "text": [
      "Used Annotations descriptions: ['left_hand', 'rest', 'right_hand']\n",
      "Used Annotations descriptions: ['left_hand', 'rest', 'right_hand']\n",
      "Used Annotations descriptions: ['left_hand', 'rest', 'right_hand']\n",
      "Used Annotations descriptions: ['feet', 'hands', 'rest']\n",
      "Used Annotations descriptions: ['feet', 'hands', 'rest']\n",
      "Used Annotations descriptions: ['feet', 'hands', 'rest']\n"
     ]
    },
    {
     "name": "stderr",
     "output_type": "stream",
     "text": [
      "/Brain/private/y17eloua/env_fsreve/lib/python3.12/site-packages/moabb/datasets/preprocessing.py:278: UserWarning: warnEpochs <Epochs | 15 events (all good), 0.5 – 3.5 s (baseline off), ~3.6 MiB, data loaded,\n",
      " 'left_hand': 8\n",
      " 'right_hand': 7>\n",
      "  warn(f\"warnEpochs {epochs}\")\n",
      "/Brain/private/y17eloua/env_fsreve/lib/python3.12/site-packages/moabb/datasets/preprocessing.py:278: UserWarning: warnEpochs <Epochs | 15 events (all good), 0.5 – 3.5 s (baseline off), ~3.6 MiB, data loaded,\n",
      " 'left_hand': 8\n",
      " 'right_hand': 7>\n",
      "  warn(f\"warnEpochs {epochs}\")\n"
     ]
    },
    {
     "name": "stdout",
     "output_type": "stream",
     "text": [
      "Used Annotations descriptions: ['left_hand', 'rest', 'right_hand']\n",
      "Used Annotations descriptions: ['left_hand', 'rest', 'right_hand']\n"
     ]
    },
    {
     "name": "stderr",
     "output_type": "stream",
     "text": [
      "/Brain/private/y17eloua/env_fsreve/lib/python3.12/site-packages/moabb/datasets/preprocessing.py:278: UserWarning: warnEpochs <Epochs | 15 events (all good), 0.5 – 3.5 s (baseline off), ~3.6 MiB, data loaded,\n",
      " 'left_hand': 8\n",
      " 'right_hand': 7>\n",
      "  warn(f\"warnEpochs {epochs}\")\n"
     ]
    },
    {
     "name": "stdout",
     "output_type": "stream",
     "text": [
      "Used Annotations descriptions: ['left_hand', 'rest', 'right_hand']\n",
      "Used Annotations descriptions: ['feet', 'hands', 'rest']\n",
      "Used Annotations descriptions: ['feet', 'hands', 'rest']\n",
      "Used Annotations descriptions: ['feet', 'hands', 'rest']\n"
     ]
    },
    {
     "name": "stderr",
     "output_type": "stream",
     "text": [
      "/Brain/private/y17eloua/env_fsreve/lib/python3.12/site-packages/moabb/datasets/preprocessing.py:278: UserWarning: warnEpochs <Epochs | 15 events (all good), 0.5 – 3.5 s (baseline off), ~3.6 MiB, data loaded,\n",
      " 'left_hand': 7\n",
      " 'right_hand': 8>\n",
      "  warn(f\"warnEpochs {epochs}\")\n",
      "/Brain/private/y17eloua/env_fsreve/lib/python3.12/site-packages/moabb/datasets/preprocessing.py:278: UserWarning: warnEpochs <Epochs | 15 events (all good), 0.5 – 3.5 s (baseline off), ~3.6 MiB, data loaded,\n",
      " 'left_hand': 7\n",
      " 'right_hand': 8>\n",
      "  warn(f\"warnEpochs {epochs}\")\n",
      "/Brain/private/y17eloua/env_fsreve/lib/python3.12/site-packages/moabb/datasets/preprocessing.py:278: UserWarning: warnEpochs <Epochs | 15 events (all good), 0.5 – 3.5 s (baseline off), ~3.6 MiB, data loaded,\n",
      " 'left_hand': 8\n",
      " 'right_hand': 7>\n",
      "  warn(f\"warnEpochs {epochs}\")\n"
     ]
    },
    {
     "name": "stdout",
     "output_type": "stream",
     "text": [
      "Used Annotations descriptions: ['left_hand', 'rest', 'right_hand']\n",
      "Used Annotations descriptions: ['left_hand', 'rest', 'right_hand']\n",
      "Used Annotations descriptions: ['left_hand', 'rest', 'right_hand']\n",
      "Used Annotations descriptions: ['feet', 'hands', 'rest']\n",
      "Used Annotations descriptions: ['feet', 'hands', 'rest']\n",
      "Used Annotations descriptions: ['feet', 'hands', 'rest']\n"
     ]
    },
    {
     "name": "stderr",
     "output_type": "stream",
     "text": [
      "/Brain/private/y17eloua/env_fsreve/lib/python3.12/site-packages/moabb/datasets/preprocessing.py:278: UserWarning: warnEpochs <Epochs | 15 events (all good), 0.5 – 3.5 s (baseline off), ~3.6 MiB, data loaded,\n",
      " 'left_hand': 7\n",
      " 'right_hand': 8>\n",
      "  warn(f\"warnEpochs {epochs}\")\n",
      "/Brain/private/y17eloua/env_fsreve/lib/python3.12/site-packages/moabb/datasets/preprocessing.py:278: UserWarning: warnEpochs <Epochs | 15 events (all good), 0.5 – 3.5 s (baseline off), ~3.6 MiB, data loaded,\n",
      " 'left_hand': 8\n",
      " 'right_hand': 7>\n",
      "  warn(f\"warnEpochs {epochs}\")\n",
      "/Brain/private/y17eloua/env_fsreve/lib/python3.12/site-packages/moabb/datasets/preprocessing.py:278: UserWarning: warnEpochs <Epochs | 15 events (all good), 0.5 – 3.5 s (baseline off), ~3.6 MiB, data loaded,\n",
      " 'left_hand': 8\n",
      " 'right_hand': 7>\n",
      "  warn(f\"warnEpochs {epochs}\")\n"
     ]
    },
    {
     "name": "stdout",
     "output_type": "stream",
     "text": [
      "Adding metadata with 3 columns\n",
      "Adding metadata with 3 columns\n",
      "Adding metadata with 3 columns\n",
      "Adding metadata with 3 columns\n",
      "Adding metadata with 3 columns\n",
      "Adding metadata with 3 columns\n",
      "Adding metadata with 3 columns\n",
      "Adding metadata with 3 columns\n",
      "Adding metadata with 3 columns\n",
      "Adding metadata with 3 columns\n",
      "Adding metadata with 3 columns\n",
      "Adding metadata with 3 columns\n",
      "Adding metadata with 3 columns\n",
      "Adding metadata with 3 columns\n",
      "Adding metadata with 3 columns\n",
      "Adding metadata with 3 columns\n",
      "Adding metadata with 3 columns\n",
      "Adding metadata with 3 columns\n",
      "Adding metadata with 3 columns\n",
      "Adding metadata with 3 columns\n",
      "Adding metadata with 3 columns\n",
      "Adding metadata with 3 columns\n",
      "Adding metadata with 3 columns\n",
      "Adding metadata with 3 columns\n",
      "Adding metadata with 3 columns\n",
      "Adding metadata with 3 columns\n",
      "Adding metadata with 3 columns\n",
      "Adding metadata with 3 columns\n",
      "Adding metadata with 3 columns\n",
      "Adding metadata with 3 columns\n",
      "Adding metadata with 3 columns\n",
      "Adding metadata with 3 columns\n",
      "Adding metadata with 3 columns\n",
      "Adding metadata with 3 columns\n",
      "Adding metadata with 3 columns\n",
      "Adding metadata with 3 columns\n",
      "Adding metadata with 3 columns\n",
      "Adding metadata with 3 columns\n",
      "Adding metadata with 3 columns\n",
      "Adding metadata with 3 columns\n",
      "Adding metadata with 3 columns\n",
      "Adding metadata with 3 columns\n",
      "Adding metadata with 3 columns\n",
      "Adding metadata with 3 columns\n",
      "Adding metadata with 3 columns\n",
      "Adding metadata with 3 columns\n",
      "Adding metadata with 3 columns\n",
      "Adding metadata with 3 columns\n",
      "Adding metadata with 3 columns\n",
      "Adding metadata with 3 columns\n",
      "Adding metadata with 3 columns\n",
      "Adding metadata with 3 columns\n",
      "Adding metadata with 3 columns\n",
      "Adding metadata with 3 columns\n",
      "Adding metadata with 3 columns\n",
      "Adding metadata with 3 columns\n",
      "Adding metadata with 3 columns\n",
      "Adding metadata with 3 columns\n",
      "Adding metadata with 3 columns\n",
      "Adding metadata with 3 columns\n",
      "Adding metadata with 3 columns\n",
      "Adding metadata with 3 columns\n",
      "Adding metadata with 3 columns\n",
      "Adding metadata with 3 columns\n",
      "Adding metadata with 3 columns\n",
      "Adding metadata with 3 columns\n",
      "Adding metadata with 3 columns\n",
      "Adding metadata with 3 columns\n",
      "Adding metadata with 3 columns\n",
      "Adding metadata with 3 columns\n",
      "Adding metadata with 3 columns\n",
      "Adding metadata with 3 columns\n",
      "Adding metadata with 3 columns\n",
      "Adding metadata with 3 columns\n",
      "Adding metadata with 3 columns\n",
      "Adding metadata with 3 columns\n",
      "Adding metadata with 3 columns\n",
      "Adding metadata with 3 columns\n",
      "Adding metadata with 3 columns\n",
      "Adding metadata with 3 columns\n",
      "Adding metadata with 3 columns\n",
      "Adding metadata with 3 columns\n",
      "Adding metadata with 3 columns\n",
      "Adding metadata with 3 columns\n",
      "Adding metadata with 3 columns\n",
      "Adding metadata with 3 columns\n",
      "Adding metadata with 3 columns\n",
      "Adding metadata with 3 columns\n",
      "Adding metadata with 3 columns\n",
      "Adding metadata with 3 columns\n",
      "Adding metadata with 3 columns\n",
      "Adding metadata with 3 columns\n",
      "Adding metadata with 3 columns\n",
      "Adding metadata with 3 columns\n",
      "Adding metadata with 3 columns\n",
      "Adding metadata with 3 columns\n",
      "Adding metadata with 3 columns\n",
      "Adding metadata with 3 columns\n",
      "Adding metadata with 3 columns\n",
      "Adding metadata with 3 columns\n",
      "Adding metadata with 3 columns\n",
      "Adding metadata with 3 columns\n",
      "Adding metadata with 3 columns\n",
      "Adding metadata with 3 columns\n",
      "Adding metadata with 3 columns\n",
      "Adding metadata with 3 columns\n",
      "Adding metadata with 3 columns\n",
      "Adding metadata with 3 columns\n",
      "Adding metadata with 3 columns\n",
      "Adding metadata with 3 columns\n",
      "Adding metadata with 3 columns\n",
      "Adding metadata with 3 columns\n",
      "Adding metadata with 3 columns\n",
      "Adding metadata with 3 columns\n",
      "Adding metadata with 3 columns\n",
      "Adding metadata with 3 columns\n",
      "Adding metadata with 3 columns\n",
      "Adding metadata with 3 columns\n",
      "Adding metadata with 3 columns\n",
      "Adding metadata with 3 columns\n",
      "Adding metadata with 3 columns\n",
      "Adding metadata with 3 columns\n",
      "Adding metadata with 3 columns\n",
      "Adding metadata with 3 columns\n",
      "Adding metadata with 3 columns\n",
      "Adding metadata with 3 columns\n",
      "Adding metadata with 3 columns\n",
      "Adding metadata with 3 columns\n",
      "Adding metadata with 3 columns\n",
      "Adding metadata with 3 columns\n",
      "Adding metadata with 3 columns\n",
      "Adding metadata with 3 columns\n",
      "Adding metadata with 3 columns\n",
      "Adding metadata with 3 columns\n",
      "Adding metadata with 3 columns\n",
      "Adding metadata with 3 columns\n",
      "Adding metadata with 3 columns\n",
      "Adding metadata with 3 columns\n",
      "Adding metadata with 3 columns\n",
      "Adding metadata with 3 columns\n",
      "Adding metadata with 3 columns\n",
      "Adding metadata with 3 columns\n",
      "Adding metadata with 3 columns\n",
      "Adding metadata with 3 columns\n",
      "Adding metadata with 3 columns\n",
      "Adding metadata with 3 columns\n",
      "Adding metadata with 3 columns\n",
      "Adding metadata with 3 columns\n",
      "Adding metadata with 3 columns\n",
      "Adding metadata with 3 columns\n",
      "Adding metadata with 3 columns\n",
      "Adding metadata with 3 columns\n",
      "Adding metadata with 3 columns\n",
      "Adding metadata with 3 columns\n",
      "Adding metadata with 3 columns\n",
      "Adding metadata with 3 columns\n",
      "Adding metadata with 3 columns\n",
      "Adding metadata with 3 columns\n",
      "Adding metadata with 3 columns\n",
      "Adding metadata with 3 columns\n",
      "Adding metadata with 3 columns\n",
      "Adding metadata with 3 columns\n",
      "Adding metadata with 3 columns\n",
      "Adding metadata with 3 columns\n",
      "Adding metadata with 3 columns\n",
      "Adding metadata with 3 columns\n",
      "Adding metadata with 3 columns\n",
      "Adding metadata with 3 columns\n",
      "Adding metadata with 3 columns\n",
      "Adding metadata with 3 columns\n",
      "Adding metadata with 3 columns\n",
      "Adding metadata with 3 columns\n",
      "Adding metadata with 3 columns\n",
      "Adding metadata with 3 columns\n",
      "Adding metadata with 3 columns\n",
      "Adding metadata with 3 columns\n",
      "Adding metadata with 3 columns\n",
      "Adding metadata with 3 columns\n",
      "Adding metadata with 3 columns\n",
      "Adding metadata with 3 columns\n",
      "Adding metadata with 3 columns\n",
      "Adding metadata with 3 columns\n",
      "Adding metadata with 3 columns\n",
      "Adding metadata with 3 columns\n",
      "Adding metadata with 3 columns\n",
      "Adding metadata with 3 columns\n",
      "Adding metadata with 3 columns\n",
      "Adding metadata with 3 columns\n",
      "Adding metadata with 3 columns\n",
      "Adding metadata with 3 columns\n",
      "Adding metadata with 3 columns\n",
      "Adding metadata with 3 columns\n",
      "Adding metadata with 3 columns\n",
      "Adding metadata with 3 columns\n",
      "Adding metadata with 3 columns\n",
      "Adding metadata with 3 columns\n",
      "Adding metadata with 3 columns\n",
      "Adding metadata with 3 columns\n",
      "Adding metadata with 3 columns\n",
      "Adding metadata with 3 columns\n",
      "Adding metadata with 3 columns\n",
      "Adding metadata with 3 columns\n",
      "Adding metadata with 3 columns\n",
      "Adding metadata with 3 columns\n",
      "Adding metadata with 3 columns\n",
      "Adding metadata with 3 columns\n",
      "Adding metadata with 3 columns\n",
      "Adding metadata with 3 columns\n",
      "Adding metadata with 3 columns\n",
      "Adding metadata with 3 columns\n",
      "Adding metadata with 3 columns\n",
      "Adding metadata with 3 columns\n",
      "Adding metadata with 3 columns\n",
      "Adding metadata with 3 columns\n",
      "Adding metadata with 3 columns\n",
      "Adding metadata with 3 columns\n",
      "Adding metadata with 3 columns\n",
      "Adding metadata with 3 columns\n",
      "Adding metadata with 3 columns\n",
      "Adding metadata with 3 columns\n",
      "Adding metadata with 3 columns\n",
      "Adding metadata with 3 columns\n",
      "Adding metadata with 3 columns\n",
      "Adding metadata with 3 columns\n",
      "Adding metadata with 3 columns\n",
      "Adding metadata with 3 columns\n",
      "Adding metadata with 3 columns\n",
      "Adding metadata with 3 columns\n",
      "Adding metadata with 3 columns\n",
      "Adding metadata with 3 columns\n",
      "Adding metadata with 3 columns\n",
      "Adding metadata with 3 columns\n",
      "Adding metadata with 3 columns\n",
      "Adding metadata with 3 columns\n",
      "Adding metadata with 3 columns\n",
      "Adding metadata with 3 columns\n",
      "Adding metadata with 3 columns\n",
      "Adding metadata with 3 columns\n",
      "Adding metadata with 3 columns\n",
      "Adding metadata with 3 columns\n",
      "Adding metadata with 3 columns\n",
      "Adding metadata with 3 columns\n",
      "Adding metadata with 3 columns\n",
      "Adding metadata with 3 columns\n",
      "Adding metadata with 3 columns\n",
      "Adding metadata with 3 columns\n",
      "Adding metadata with 3 columns\n",
      "Adding metadata with 3 columns\n",
      "Adding metadata with 3 columns\n",
      "Adding metadata with 3 columns\n",
      "Adding metadata with 3 columns\n",
      "Adding metadata with 3 columns\n",
      "Adding metadata with 3 columns\n",
      "Adding metadata with 3 columns\n",
      "Adding metadata with 3 columns\n",
      "Adding metadata with 3 columns\n",
      "Adding metadata with 3 columns\n",
      "Adding metadata with 3 columns\n",
      "Adding metadata with 3 columns\n",
      "Adding metadata with 3 columns\n",
      "Adding metadata with 3 columns\n",
      "Adding metadata with 3 columns\n",
      "Adding metadata with 3 columns\n",
      "Adding metadata with 3 columns\n",
      "Adding metadata with 3 columns\n",
      "Adding metadata with 3 columns\n",
      "Adding metadata with 3 columns\n",
      "Adding metadata with 3 columns\n",
      "Adding metadata with 3 columns\n",
      "Adding metadata with 3 columns\n",
      "Adding metadata with 3 columns\n",
      "Adding metadata with 3 columns\n",
      "Adding metadata with 3 columns\n",
      "Adding metadata with 3 columns\n",
      "Adding metadata with 3 columns\n",
      "Adding metadata with 3 columns\n",
      "Adding metadata with 3 columns\n",
      "Adding metadata with 3 columns\n",
      "Adding metadata with 3 columns\n",
      "Adding metadata with 3 columns\n",
      "Adding metadata with 3 columns\n",
      "Adding metadata with 3 columns\n",
      "Adding metadata with 3 columns\n",
      "Adding metadata with 3 columns\n",
      "Adding metadata with 3 columns\n",
      "Adding metadata with 3 columns\n",
      "Adding metadata with 3 columns\n",
      "Adding metadata with 3 columns\n",
      "Adding metadata with 3 columns\n",
      "Adding metadata with 3 columns\n",
      "Adding metadata with 3 columns\n",
      "Adding metadata with 3 columns\n",
      "Adding metadata with 3 columns\n",
      "Adding metadata with 3 columns\n",
      "Adding metadata with 3 columns\n",
      "Adding metadata with 3 columns\n",
      "Adding metadata with 3 columns\n",
      "Adding metadata with 3 columns\n",
      "Adding metadata with 3 columns\n",
      "Adding metadata with 3 columns\n",
      "Adding metadata with 3 columns\n",
      "Adding metadata with 3 columns\n",
      "Adding metadata with 3 columns\n",
      "Adding metadata with 3 columns\n",
      "Adding metadata with 3 columns\n",
      "Adding metadata with 3 columns\n",
      "Adding metadata with 3 columns\n",
      "Adding metadata with 3 columns\n",
      "Adding metadata with 3 columns\n"
     ]
    },
    {
     "name": "stderr",
     "output_type": "stream",
     "text": [
      "/Brain/private/y17eloua/env_fsreve/lib/python3.12/site-packages/moabb/paradigms/base.py:350: RuntimeWarning: Concatenation of Annotations within Epochs is not supported yet. All annotations will be dropped.\n",
      "  X = mne.concatenate_epochs(X)\n"
     ]
    },
    {
     "name": "stdout",
     "output_type": "stream",
     "text": [
      "Adding metadata with 3 columns\n",
      "4635 matching events found\n",
      "No baseline correction applied\n",
      "(4635, 64, 600)\n"
     ]
    },
    {
     "name": "stderr",
     "output_type": "stream",
     "text": [
      "/tmp/ipykernel_2066956/4096202077.py:15: UserWarning: The use of `x.T` on tensors of dimension other than 2 to reverse their shape is deprecated and it will throw an error in a future release. Consider `x.mT` to transpose batches of matrices or `x.permute(*torch.arange(x.ndim - 1, -1, -1))` to reverse the dimensions of a tensor. (Triggered internally at /pytorch/aten/src/ATen/native/TensorShape.cpp:3725.)\n",
      "  r = torch.einsum('bet, tab -> bea',X,X.T).mean(0)\n"
     ]
    }
   ],
   "source": [
    "from moabb.datasets import PhysionetMI\n",
    "from moabb.paradigms import LeftRightImagery\n",
    "import numpy as np\n",
    "import pandas as pd\n",
    "import mne\n",
    "from sklearn.preprocessing import LabelEncoder\n",
    "from os.path import join as pjoin\n",
    "import os\n",
    "from einops import rearrange\n",
    "import gc \n",
    "import torch\n",
    "from scipy.linalg import sqrtm, inv,pinv\n",
    "\n",
    "def compute_r_op(X):\n",
    "    r = torch.einsum('bet, tab -> bea',X,X.T).mean(0)\n",
    "    r_op = torch.from_numpy(inv(sqrtm(r)))\n",
    "    return r_op\n",
    "\n",
    "def load_data(dset,num_classes,selected_chans = None,subjects=None,sfreq = 160,fmin=0.5,fmax=63.99,tmin=0.5,tmax=3.5):\n",
    "    ds_src = dset()\n",
    "    if dset.__name__ == 'PhysionetMI':\n",
    "        ds_src.event_id = dict(left_hand=2, right_hand=3, feet=5, hands=4)\n",
    "    src_prgm = LeftRightImagery(channels=selected_chans, resample=sfreq, fmin=fmin, fmax=fmax, tmin=tmin,tmax=tmax)\n",
    "    if not subjects:\n",
    "        epoch_X_src, label_src, m_src = src_prgm.get_data(dataset=ds_src, return_epochs=True)\n",
    "    else : \n",
    "        epoch_X_src, label_src, m_src = src_prgm.get_data(dataset=ds_src,subjects=subjects, return_epochs=True)\n",
    "        \n",
    "    encoder_subject = LabelEncoder()\n",
    "    subject_rename_dict = dict(zip(m_src.subject.unique(),encoder_subject.fit_transform(m_src.subject.unique())))\n",
    "    encoder_session = LabelEncoder()                        \n",
    "    session_rename_dict = dict(zip(m_src.session.unique(),encoder_session.fit_transform(m_src.session.unique())))\n",
    "    m_src['subject'] = m_src['subject'].map(subject_rename_dict)\n",
    "    m_src['session'] = m_src['session'].map(session_rename_dict) \n",
    "    m_src = m_src.reset_index().rename(columns={'index':'trial'})\n",
    "    m_src.to_csv(os.path.join(path,dset_name_path+'/'+dset_name_path+'_m.csv'),index=False)\n",
    "    return epoch_X_src,label_src,m_src\n",
    "\n",
    "def prepro_dataset(dataset,dset_name_path,n_c,t_max):\n",
    "    subjects = [int(x) for x in list(np.arange(1,110)) if x not in [38,88,89,92,100,104]] \n",
    "    f_max = 63.99\n",
    "    epoch_X,label_src,m_src = load_data(dataset,n_c,\n",
    "                                          sfreq = 128,\n",
    "                                          fmin=0.,\n",
    "                                          fmax=f_max,\n",
    "                                          tmin=0.5,tmax=3.5,\n",
    "                                          subjects=subjects)\n",
    "    epoch_X.resample(200)\n",
    "    encoder = LabelEncoder()\n",
    "    Y = encoder.fit_transform(label_src)\n",
    "    X = epoch_X.get_data().astype('float32')\n",
    "    \n",
    "    modulo = -(X.shape[-1]%50)\n",
    "    if modulo !=0:\n",
    "        X = X[:,:,:modulo]\n",
    "\n",
    "    valid_chans = mne.channels.make_standard_montage(\"standard_1005\").get_positions()['ch_pos']\n",
    "    chan_to_keep = sorted([ch for ch in epoch_X.ch_names if ch in list(valid_chans.keys())])       \n",
    "    epoch_X.pick(chan_to_keep)\n",
    "    channels = epoch_X.ch_names\n",
    "    positions = [ valid_chans[ch] for ch in  channels]\n",
    "    positions = np.array(positions).astype('float32')\n",
    "    channels = np.array(channels)\n",
    "\n",
    "\n",
    "    X_n,X_c,X_t = X.shape\n",
    "    print(X.shape)\n",
    "    save_path = os.path.join(path,dset_name_path)\n",
    "    big_recording_filename = pjoin(save_path,'X_-_eeg_-_'+dset_name_path+'.npy')\n",
    "    big_save = np.memmap(big_recording_filename,dtype='float32',mode='w+',shape=(X_n,X_c,X_t))\n",
    "    big_save[:] = X\n",
    "\n",
    "    Y_recording_filename = pjoin(save_path,'Y_-_eeg_-_'+dset_name_path+'.npy')\n",
    "    Y_save = np.memmap(Y_recording_filename,dtype='int64',mode='w+',shape=(X_n))\n",
    "    Y_save[:] = Y\n",
    "\n",
    "    np.save(pjoin(save_path,'pos_-_eeg_-_'+dset_name_path+'.npy'),positions.astype('float32'))\n",
    "\n",
    "    big_save.flush()\n",
    "    Y_save.flush()\n",
    "    del big_save,Y_save\n",
    "    gc.collect()\n",
    "\n",
    "    z_score_list,ea_list = [],[]\n",
    "    for s_id in sorted(m_src.subject.unique()):\n",
    "        m_src_i = m_src[m_src['subject']==s_id]\n",
    "        z_score_list_tmp, ea_list_tmp =  [],[]\n",
    "        for session in sorted(m_src_i.session.unique()):\n",
    "            idx = m_src_i[m_src_i['session']==session].trial.tolist()\n",
    "            X_s = X[idx]\n",
    "            mean = rearrange(X_s, 'b c t -> (b t) c').mean(axis = 0)\n",
    "            std = rearrange(X_s, 'b c t -> (b t) c').std(axis = 0)        \n",
    "            sqrt_R_s = compute_r_op(torch.from_numpy(X_s)).numpy()\n",
    "            torch.einsum(\"fe,bet->bft\",torch.from_numpy(sqrt_R_s), torch.from_numpy(X_s))\n",
    "            X_EA_s = torch.einsum(\"fe,bet->bft\",torch.from_numpy(sqrt_R_s), torch.from_numpy(X_s)).numpy()\n",
    "            EA_mean = rearrange(X_EA_s, 'b c t -> (b t) c').mean(axis = 0)\n",
    "            EA_std  = rearrange(X_EA_s, 'b c t -> (b t) c').std(axis = 0)\n",
    "            z_score_list_tmp.append(np.array([mean,std]))\n",
    "            ea_list_tmp.append(np.concatenate([sqrt_R_s,np.array([EA_mean,EA_std])]))\n",
    "        z_score_list.append(z_score_list_tmp)\n",
    "        ea_list.append(ea_list_tmp)\n",
    "\n",
    "    np.save(pjoin(save_path,'stats_-_zscore_-_'+dset_name_path+'.npy'),np.array(z_score_list))\n",
    "    np.save(pjoin(save_path,'stats_-_EA_-_'+dset_name_path+'.npy'),np.array(ea_list))\n",
    "\n",
    "\n",
    "    \n",
    "datasets  = [PhysionetMI]\n",
    "classes = [2]\n",
    "durations = [3]\n",
    "\n",
    "for d,n_c,t_max in zip(datasets,classes,durations):\n",
    "    dset_name_path = str(d).split('.')[-1].split(\"'>\")[0]\n",
    "    print(dset_name_path,n_c,t_max)\n",
    "    if not os.path.exists(os.path.join(path,dset_name_path)):\n",
    "        os.mkdir(os.path.join(path,dset_name_path))\n",
    "    prepro_dataset(d,dset_name_path,n_c,t_max)\n",
    "        "
   ]
  }
 ],
 "metadata": {
  "kernelspec": {
   "display_name": "env_fsreve",
   "language": "python",
   "name": "python3"
  },
  "language_info": {
   "codemirror_mode": {
    "name": "ipython",
    "version": 3
   },
   "file_extension": ".py",
   "mimetype": "text/x-python",
   "name": "python",
   "nbconvert_exporter": "python",
   "pygments_lexer": "ipython3",
   "version": "3.12.3"
  }
 },
 "nbformat": 4,
 "nbformat_minor": 2
}
